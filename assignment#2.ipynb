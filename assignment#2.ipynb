{
 "cells": [
  {
   "cell_type": "code",
   "execution_count": 1,
   "metadata": {
    "collapsed": true
   },
   "outputs": [],
   "source": [
    "import pandas as pd\n",
    "import numpy as np\n",
    "from random import shuffle\n",
    "from sklearn import svm\n",
    "from sklearn.svm import SVC\n",
    "from sklearn.preprocessing import StandardScaler\n",
    "from sklearn.pipeline import Pipeline\n",
    "import os\n",
    "import scipy\n",
    "import sqlite3\n",
    "from collections import defaultdict"
   ]
  },
  {
   "cell_type": "code",
   "execution_count": 2,
   "metadata": {
    "scrolled": false
   },
   "outputs": [
    {
     "name": "stdout",
     "output_type": "stream",
     "text": [
      "C:\\Users\\andre\\Documents\\GitHub\\loan_driving2\n"
     ]
    }
   ],
   "source": [
    "curr_path = os.path.realpath('')\n",
    "print(curr_path)\n",
    "conn = sqlite3.connect(curr_path+\"/lending-club-loan-data/database.sqlite\")\n",
    "cur = conn.cursor()\n",
    "cur.execute(\"select * from loan limit 5;\")\n",
    "results = cur.fetchall()\n",
    "# print(results)\n",
    "cur.close()\n",
    "conn.close()"
   ]
  },
  {
   "cell_type": "code",
   "execution_count": 3,
   "metadata": {
    "collapsed": true,
    "scrolled": true
   },
   "outputs": [],
   "source": [
    "conn = sqlite3.connect(\"lending-club-loan-data/database.sqlite\")\n",
    "df = pd.read_sql_query(\"select loan_amnt,id,loan_status,sub_grade from loan where loan_status = 'Charged Off';\", conn)\n",
    "# print(df)\n",
    "conn.close()"
   ]
  },
  {
   "cell_type": "code",
   "execution_count": 4,
   "metadata": {
    "collapsed": true
   },
   "outputs": [],
   "source": [
    "ddict = df.to_dict()\n",
    "# print(ddict['loan_amnt'][7])\n",
    "ddict['sub_grade'][7]\n",
    "g = zip(ddict['loan_amnt'].values(),ddict['sub_grade'].values(),ddict['id'].values(),ddict['loan_status'].values())\n",
    "# print(len(list(g)))"
   ]
  },
  {
   "cell_type": "code",
   "execution_count": 5,
   "metadata": {
    "collapsed": true,
    "scrolled": true
   },
   "outputs": [],
   "source": [
    "# create a training set\n",
    "conn = sqlite3.connect(curr_path+\"/lending-club-loan-data/database.sqlite\")\n",
    "df = pd.read_sql_query(\"select loan_amnt,id,loan_status,sub_grade from loan where loan_status !='Current' AND loan_status !='Late (31-120 days)' AND loan_status != 'Late (16-30 days)';\", conn)\n",
    "# print(df.axes)\n",
    "# print(df.get_values()[0][1])\n",
    "# print(df.get_values())\n",
    "# print(df.values[3])\n",
    "# print(df.values[0])\n",
    "\n",
    "conn.close()\n",
    "# feature vector - predictor will predict (\"charged off/default status\") vs. \n",
    "# [1(maybe check this),'sub_grade','loan_amnt','emp_length','home_ownership','annual_inc','verification_status','dti'(debt-to-income),'']"
   ]
  },
  {
   "cell_type": "code",
   "execution_count": 6,
   "metadata": {
    "collapsed": true,
    "scrolled": true
   },
   "outputs": [],
   "source": [
    "# find all unique values for the loan status column\n",
    "l_status_dict = defaultdict(int)\n",
    "for row in df.itertuples():\n",
    "    # print(row[3])\n",
    "    if row[3] not in l_status_dict:\n",
    "        l_status_dict[row[3]] += 1\n",
    "\n",
    "# print(l_status_dict.keys())"
   ]
  },
  {
   "cell_type": "code",
   "execution_count": 7,
   "metadata": {},
   "outputs": [
    {
     "name": "stdout",
     "output_type": "stream",
     "text": [
      "dict_keys(['Fully Paid', 'Charged Off', 'Default', 'In Grace Period', 'Does not meet the credit policy. Status:Fully Paid', 'Does not meet the credit policy. Status:Charged Off', 'Issued'])\n"
     ]
    }
   ],
   "source": [
    "print(l_status_dict.keys())"
   ]
  },
  {
   "cell_type": "code",
   "execution_count": 49,
   "metadata": {},
   "outputs": [],
   "source": [
    "curr_path = os.path.realpath('')\n",
    "conn = sqlite3.connect(curr_path+\"/lending-club-loan-data/database.sqlite\")\n",
    "# very important, select a random sample of the data for our training set & validation sets \n",
    "# \n",
    "# df = pd.read_sql_query(\"select * from loan where id in(select id from loan order by random() limit 200000);\", conn)\n",
    "df_default = pd.read_sql_query( \"select * from loan where loan_status='Charged Off' OR loan_status='Default' OR loan_status='Late (31-120 days)' OR loan_status='Late (16-30 days)' OR loan_status='Does not meet the credit policy. Status:Charged Off' AND id in(select id from loan order by random());\", conn)\n",
    "df_fully_paid = pd.read_sql_query(\"select * from loan where loan_status='Issued' OR loan_status='Fully Paid' OR loan_status='In Grace Period' OR loan_status='Does not meet the credit policy. Status:Fully Paid' AND id in(select id from loan order by random());\" , conn)\n",
    "# df_default = pd.read_sql_query(\"select\",conn)\n",
    "conn.close()\n",
    "# df = pd.read_sql_query(\"select * from loan where id in(select id from loan order by random() limit 200000);\", conn)\n",
    "# df_validation = pd.read_sql_query(\"select * from loan where id in(selec id from loan order by random() limit 100000);\", conn)\n",
    "# print(df)"
   ]
  },
  {
   "cell_type": "code",
   "execution_count": 51,
   "metadata": {},
   "outputs": [
    {
     "name": "stdout",
     "output_type": "stream",
     "text": [
      "61176\n",
      "224425\n",
      "50000\n",
      "        index        id   member_id  loan_amnt  funded_amnt  funded_amnt_inv  \\\n",
      "0      183681   1142967   1383493.0    12000.0      12000.0     12000.000000   \n",
      "1        8262   9735648  11587741.0    31000.0      31000.0     31000.000000   \n",
      "2      184176  13136671  15158863.0    19250.0      19250.0     19250.000000   \n",
      "3       89790   5535270   6907445.0    12000.0      12000.0     12000.000000   \n",
      "4       39599    168190    168175.0     3975.0       3975.0       850.000889   \n",
      "5       48259  31367086  33940289.0     9000.0       9000.0      9000.000000   \n",
      "6       33547  32619572  35252736.0    35000.0      35000.0     34975.000000   \n",
      "7       99051  23963973  26336824.0    20000.0      20000.0     20000.000000   \n",
      "8      172046   1331924   1577174.0    20000.0      20000.0     19950.000000   \n",
      "9      150145   1593570   1863776.0    11850.0      11850.0     11850.000000   \n",
      "10      77314   4724649   5986807.0    24250.0      24250.0     24250.000000   \n",
      "11     146055   1680209   1962707.0     4000.0       4000.0      4000.000000   \n",
      "12     122122   3350952   4153792.0    35000.0      35000.0     34950.000000   \n",
      "13     146753   1676774   1959056.0    14075.0      14075.0     14075.000000   \n",
      "14      87114   5650098   7032548.0    11000.0      11000.0     11000.000000   \n",
      "15     113778   3526636   4419054.0    10000.0      10000.0     10000.000000   \n",
      "16      87722  25177257  27620022.0     7500.0       7500.0      7500.000000   \n",
      "17     232066  10082143  11933469.0    10000.0      10000.0     10000.000000   \n",
      "18     372894  40980017  43855779.0    35000.0      35000.0     35000.000000   \n",
      "19     162790  15880766  17973261.0     5000.0       5000.0      4950.000000   \n",
      "20     203962  12487198  14499317.0    30000.0      30000.0     30000.000000   \n",
      "21      76064   6054711   7526871.0    18000.0      18000.0     18000.000000   \n",
      "22      21848    638592    817997.0    10000.0      10000.0      9975.000000   \n",
      "23      51347   7068251   8730321.0    30000.0      30000.0     30000.000000   \n",
      "24      25915    578510    740833.0    20000.0      20000.0     19875.000000   \n",
      "25      31273   8194856   9936991.0    15000.0      15000.0     15000.000000   \n",
      "26      19029   8571147  10322467.0    12800.0      12800.0     12800.000000   \n",
      "27     111291   3666597   4629772.0    19200.0      19200.0     19200.000000   \n",
      "28     113111   3674873   4637915.0    10625.0      10625.0     10625.000000   \n",
      "29      93315   5255069   6597238.0    14400.0      14400.0     14400.000000   \n",
      "...       ...       ...         ...        ...          ...              ...   \n",
      "24970  135270  19246058  21498827.0    15000.0      15000.0     15000.000000   \n",
      "24971  209345  55575461  59177228.0    20450.0      20450.0     20450.000000   \n",
      "24972  335733  44139886  47156685.0     1600.0       1600.0      1600.000000   \n",
      "24973   48414  31226358  33799523.0    28000.0      28000.0     28000.000000   \n",
      "24974  241914  52898820  56398551.0    11000.0      11000.0     11000.000000   \n",
      "24975   66028   5793874   7225613.0    12000.0      12000.0     12000.000000   \n",
      "24976  152879   1562609   1829801.0    14000.0      14000.0     14000.000000   \n",
      "24977    8226  67425305  72237021.0    15825.0      15825.0     15825.000000   \n",
      "24978  191216  12938865  14971048.0    15000.0      15000.0     15000.000000   \n",
      "24979  173275   1296672   1541677.0     7000.0       7000.0      6979.334562   \n",
      "24980  142135   1944907   2277074.0     9000.0       9000.0      9000.000000   \n",
      "24981  126415  20039512  22302151.0    10000.0      10000.0     10000.000000   \n",
      "24982    2804  68564913  73454684.0    30000.0      30000.0     30000.000000   \n",
      "24983   70619  23073320  25426197.0    10000.0      10000.0     10000.000000   \n",
      "24984   87257   5647115   7029378.0    14300.0      14300.0     14300.000000   \n",
      "24985  108291   4195871   5338139.0     2300.0       2300.0      2300.000000   \n",
      "24986   93560   5197222   6519584.0    10975.0      10975.0     10975.000000   \n",
      "24987    4247  68112293  72980010.0     4800.0       4800.0      4800.000000   \n",
      "24988  142195   2079406   2431861.0    12250.0      12250.0     12250.000000   \n",
      "24989  103398  62306139  66502886.0    12500.0      12500.0     12500.000000   \n",
      "24990    8920  67799043  72657780.0    25000.0      25000.0     25000.000000   \n",
      "24991   74002   6125805   7607984.0    12000.0      12000.0     12000.000000   \n",
      "24992  284412  48705200  51953967.0     5000.0       5000.0      5000.000000   \n",
      "24993  309731  46722256  49869970.0    10000.0      10000.0     10000.000000   \n",
      "24994    2071  68565446  73455237.0    12000.0      12000.0     12000.000000   \n",
      "24995  392695  39701850  42525674.0     5600.0       5600.0      5600.000000   \n",
      "24996   35121    442191    536994.0    12000.0      12000.0     11975.000000   \n",
      "24997  103481   4394699   5626896.0    35000.0      35000.0     35000.000000   \n",
      "24998  385853  39710771  42534550.0     4800.0       4800.0      4800.000000   \n",
      "24999  156753   1518678   1781721.0    18000.0      18000.0     18000.000000   \n",
      "\n",
      "             term int_rate  installment grade     ...      total_bal_il  \\\n",
      "0       36 months   13.99%       410.08     C     ...              None   \n",
      "1       60 months   21.48%       847.05     E     ...              None   \n",
      "2       60 months   18.92%       498.51     D     ...              None   \n",
      "3       60 months   16.29%       293.67     C     ...              None   \n",
      "4       36 months   12.17%       132.35     D     ...              None   \n",
      "5       36 months   16.29%       317.71     D     ...              None   \n",
      "6       36 months   17.57%      1257.80     D     ...              None   \n",
      "7       36 months   14.49%       688.33     C     ...              None   \n",
      "8       36 months   15.81%       701.27     C     ...              None   \n",
      "9       36 months   17.77%       427.04     D     ...              None   \n",
      "10      60 months   14.33%       568.42     C     ...              None   \n",
      "11      36 months    8.90%       127.02     A     ...              None   \n",
      "12      36 months   14.33%      1201.84     C     ...              None   \n",
      "13      36 months   17.77%       507.23     D     ...              None   \n",
      "14      36 months   15.80%       385.65     C     ...              None   \n",
      "15      36 months   19.05%       366.82     D     ...              None   \n",
      "16      36 months   22.15%       287.02     E     ...              None   \n",
      "17      36 months    8.90%       317.54     A     ...              None   \n",
      "18      60 months   16.55%       861.40     D     ...              None   \n",
      "19      60 months    9.17%       104.21     B     ...              None   \n",
      "20      60 months   15.31%       718.59     C     ...              None   \n",
      "21      36 months   20.31%       671.80     D     ...              None   \n",
      "22      36 months   14.09%       342.22     D     ...              None   \n",
      "23      60 months   23.50%       854.36     F     ...              None   \n",
      "24      36 months   11.12%       655.92     B     ...              None   \n",
      "25      60 months   23.10%       423.72     E     ...              None   \n",
      "26      60 months   16.20%       312.64     C     ...              None   \n",
      "27      60 months   22.47%       535.43     E     ...              None   \n",
      "28      36 months   19.05%       389.74     D     ...              None   \n",
      "29      60 months   16.29%       352.41     C     ...              None   \n",
      "...           ...      ...          ...   ...     ...               ...   \n",
      "24970   60 months   14.49%       352.85     C     ...               NaN   \n",
      "24971   36 months   18.25%       741.89     E     ...               NaN   \n",
      "24972   36 months   15.61%        55.95     D     ...               NaN   \n",
      "24973   36 months    6.49%       858.05     A     ...               NaN   \n",
      "24974   36 months    7.89%       344.15     A     ...               NaN   \n",
      "24975   36 months   11.55%       396.00     B     ...               NaN   \n",
      "24976   36 months   13.11%       472.46     B     ...               NaN   \n",
      "24977   60 months   21.99%       436.98     F     ...                 0   \n",
      "24978   36 months    8.90%       476.30     A     ...               NaN   \n",
      "24979   36 months    6.03%       213.05     A     ...               NaN   \n",
      "24980   36 months    6.03%       273.92     A     ...               NaN   \n",
      "24981   36 months   10.15%       323.38     B     ...               NaN   \n",
      "24982   60 months    9.80%       634.47     B     ...             32064   \n",
      "24983   60 months   23.43%       284.39     F     ...               NaN   \n",
      "24984   36 months   15.80%       501.34     C     ...               NaN   \n",
      "24985   36 months    6.62%        70.62     A     ...               NaN   \n",
      "24986   36 months   11.14%       360.04     B     ...               NaN   \n",
      "24987   36 months    6.49%       147.10     A     ...             56881   \n",
      "24988   36 months   13.11%       413.41     B     ...               NaN   \n",
      "24989   60 months   19.99%       331.11     E     ...               NaN   \n",
      "24990   60 months   19.99%       662.21     E     ...             31388   \n",
      "24991   36 months    7.62%       373.94     A     ...               NaN   \n",
      "24992   36 months   16.55%       177.15     D     ...               NaN   \n",
      "24993   36 months   12.69%       335.45     C     ...               NaN   \n",
      "24994   60 months   18.99%       311.23     E     ...             62827   \n",
      "24995   36 months   14.99%       194.10     C     ...               NaN   \n",
      "24996   36 months    8.94%       381.26     A     ...               NaN   \n",
      "24997   60 months   23.28%       992.31     F     ...               NaN   \n",
      "24998   36 months   12.99%       161.71     C     ...               NaN   \n",
      "24999   36 months   14.33%       618.09     C     ...               NaN   \n",
      "\n",
      "      il_util open_rv_12m open_rv_24m  max_bal_bc all_util total_rev_hi_lim  \\\n",
      "0        None        None        None        None     None              NaN   \n",
      "1        None        None        None        None     None          34000.0   \n",
      "2        None        None        None        None     None          20000.0   \n",
      "3        None        None        None        None     None          50100.0   \n",
      "4        None        None        None        None     None              NaN   \n",
      "5        None        None        None        None     None          13800.0   \n",
      "6        None        None        None        None     None          29950.0   \n",
      "7        None        None        None        None     None          27800.0   \n",
      "8        None        None        None        None     None              NaN   \n",
      "9        None        None        None        None     None           1700.0   \n",
      "10       None        None        None        None     None          59100.0   \n",
      "11       None        None        None        None     None          23700.0   \n",
      "12       None        None        None        None     None          45300.0   \n",
      "13       None        None        None        None     None           7400.0   \n",
      "14       None        None        None        None     None           7900.0   \n",
      "15       None        None        None        None     None          29700.0   \n",
      "16       None        None        None        None     None          26300.0   \n",
      "17       None        None        None        None     None          13000.0   \n",
      "18       None        None        None        None     None          63000.0   \n",
      "19       None        None        None        None     None          25900.0   \n",
      "20       None        None        None        None     None          57600.0   \n",
      "21       None        None        None        None     None          22800.0   \n",
      "22       None        None        None        None     None              NaN   \n",
      "23       None        None        None        None     None          26300.0   \n",
      "24       None        None        None        None     None              NaN   \n",
      "25       None        None        None        None     None          16600.0   \n",
      "26       None        None        None        None     None          12800.0   \n",
      "27       None        None        None        None     None          12700.0   \n",
      "28       None        None        None        None     None          29900.0   \n",
      "29       None        None        None        None     None          19300.0   \n",
      "...       ...         ...         ...         ...      ...              ...   \n",
      "24970     NaN         NaN         NaN         NaN      NaN          39800.0   \n",
      "24971     NaN         NaN         NaN         NaN      NaN          29100.0   \n",
      "24972     NaN         NaN         NaN         NaN      NaN          10600.0   \n",
      "24973     NaN         NaN         NaN         NaN      NaN         134700.0   \n",
      "24974     NaN         NaN         NaN         NaN      NaN          26400.0   \n",
      "24975     NaN         NaN         NaN         NaN      NaN          41800.0   \n",
      "24976     NaN         NaN         NaN         NaN      NaN          10100.0   \n",
      "24977     NaN           2           4        3068     27.2          13600.0   \n",
      "24978     NaN         NaN         NaN         NaN      NaN          13400.0   \n",
      "24979     NaN         NaN         NaN         NaN      NaN              NaN   \n",
      "24980     NaN         NaN         NaN         NaN      NaN           7500.0   \n",
      "24981     NaN         NaN         NaN         NaN      NaN          23000.0   \n",
      "24982    33.4           1           3        8366     38.8          61900.0   \n",
      "24983     NaN         NaN         NaN         NaN      NaN          17000.0   \n",
      "24984     NaN         NaN         NaN         NaN      NaN          34600.0   \n",
      "24985     NaN         NaN         NaN         NaN      NaN          73200.0   \n",
      "24986     NaN         NaN         NaN         NaN      NaN          18400.0   \n",
      "24987     NaN           0           0        1744     41.5          13400.0   \n",
      "24988     NaN         NaN         NaN         NaN      NaN          24800.0   \n",
      "24989     NaN         NaN         NaN         NaN      NaN          13500.0   \n",
      "24990     NaN           2           3        1092     12.6          28800.0   \n",
      "24991     NaN         NaN         NaN         NaN      NaN          22400.0   \n",
      "24992     NaN         NaN         NaN         NaN      NaN          25500.0   \n",
      "24993     NaN         NaN         NaN         NaN      NaN           6400.0   \n",
      "24994    85.2           0           0       15008       82          61100.0   \n",
      "24995     NaN         NaN         NaN         NaN      NaN          14500.0   \n",
      "24996     NaN         NaN         NaN         NaN      NaN              NaN   \n",
      "24997     NaN         NaN         NaN         NaN      NaN          13300.0   \n",
      "24998     NaN         NaN         NaN         NaN      NaN          10900.0   \n",
      "24999     NaN         NaN         NaN         NaN      NaN          12900.0   \n",
      "\n",
      "      inq_fi total_cu_tl inq_last_12m  \n",
      "0       None        None         None  \n",
      "1       None        None         None  \n",
      "2       None        None         None  \n",
      "3       None        None         None  \n",
      "4       None        None         None  \n",
      "5       None        None         None  \n",
      "6       None        None         None  \n",
      "7       None        None         None  \n",
      "8       None        None         None  \n",
      "9       None        None         None  \n",
      "10      None        None         None  \n",
      "11      None        None         None  \n",
      "12      None        None         None  \n",
      "13      None        None         None  \n",
      "14      None        None         None  \n",
      "15      None        None         None  \n",
      "16      None        None         None  \n",
      "17      None        None         None  \n",
      "18      None        None         None  \n",
      "19      None        None         None  \n",
      "20      None        None         None  \n",
      "21      None        None         None  \n",
      "22      None        None         None  \n",
      "23      None        None         None  \n",
      "24      None        None         None  \n",
      "25      None        None         None  \n",
      "26      None        None         None  \n",
      "27      None        None         None  \n",
      "28      None        None         None  \n",
      "29      None        None         None  \n",
      "...      ...         ...          ...  \n",
      "24970    NaN         NaN          NaN  \n",
      "24971    NaN         NaN          NaN  \n",
      "24972    NaN         NaN          NaN  \n",
      "24973    NaN         NaN          NaN  \n",
      "24974    NaN         NaN          NaN  \n",
      "24975    NaN         NaN          NaN  \n",
      "24976    NaN         NaN          NaN  \n",
      "24977      0           0            1  \n",
      "24978    NaN         NaN          NaN  \n",
      "24979    NaN         NaN          NaN  \n",
      "24980    NaN         NaN          NaN  \n",
      "24981    NaN         NaN          NaN  \n",
      "24982      0           4            0  \n",
      "24983    NaN         NaN          NaN  \n",
      "24984    NaN         NaN          NaN  \n",
      "24985    NaN         NaN          NaN  \n",
      "24986    NaN         NaN          NaN  \n",
      "24987      2           1            1  \n",
      "24988    NaN         NaN          NaN  \n",
      "24989    NaN         NaN          NaN  \n",
      "24990      3           1            4  \n",
      "24991    NaN         NaN          NaN  \n",
      "24992    NaN         NaN          NaN  \n",
      "24993    NaN         NaN          NaN  \n",
      "24994      2           0            1  \n",
      "24995    NaN         NaN          NaN  \n",
      "24996    NaN         NaN          NaN  \n",
      "24997    NaN         NaN          NaN  \n",
      "24998    NaN         NaN          NaN  \n",
      "24999    NaN         NaN          NaN  \n",
      "\n",
      "[50000 rows x 75 columns]\n"
     ]
    }
   ],
   "source": [
    "# split the data sets into training and validation\n",
    "#for row in df.itertuples():\n",
    "#   print(row[1])\n",
    "# shuffle that dataframe frac = 1 means return all elements sshuffled not a preportion\n",
    "df = df.sample(frac=1).reset_index(drop=True)\n",
    "# print(df)\n",
    "# grab a random set of 25,000 \"default\" examples\n",
    "df_default_pick = df_default.sample(frac=(25000/(float(len(df_default))))).reset_index(drop=True)\n",
    "# grab a random set of 25,000 \"fully paid\" examples\n",
    "df_fully_paid_pick = df_fully_paid.sample(frac=(25000/(float(len(df_fully_paid))))).reset_index(drop=True)\n",
    "\n",
    "# data_train = df.iloc[:int(len(df)/2), :]\n",
    "# append the training sets together first 25,000 defaults, next 25,000 non-defaults\n",
    "data_train = df_default_pick.append(df_fully_paid_pick)\n",
    "# data_validation = df.iloc[int(len(df)/2):, :]\n",
    "print(len(df_default))\n",
    "print(len(df_fully_paid))\n",
    "print(len(data_train))\n",
    "print(data_train)\n"
   ]
  },
  {
   "cell_type": "code",
   "execution_count": 52,
   "metadata": {
    "scrolled": true
   },
   "outputs": [
    {
     "name": "stdout",
     "output_type": "stream",
     "text": [
      "{'A1': 1, 'A2': 2, 'A3': 3, 'A4': 4, 'A5': 5, 'B1': 6, 'B2': 7, 'B3': 8, 'B4': 9, 'B5': 10, 'C1': 11, 'C2': 12, 'C3': 13, 'C4': 14, 'C5': 15, 'D1': 16, 'D2': 17, 'D3': 18, 'D4': 19, 'D5': 20, 'E1': 21, 'E2': 22, 'E3': 23, 'E4': 24, 'E5': 25, 'F1': 26, 'F2': 27, 'F3': 28, 'F4': 29, 'F5': 30, 'G1': 31, 'G2': 32, 'G3': 33, 'G4': 34, 'G5': 35}\n",
      "[RangeIndex(start=0, stop=200000, step=1), Index(['index', 'id', 'member_id', 'loan_amnt', 'funded_amnt',\n",
      "       'funded_amnt_inv', 'term', 'int_rate', 'installment', 'grade',\n",
      "       'sub_grade', 'emp_title', 'emp_length', 'home_ownership', 'annual_inc',\n",
      "       'verification_status', 'issue_d', 'loan_status', 'pymnt_plan', 'url',\n",
      "       'desc', 'purpose', 'title', 'zip_code', 'addr_state', 'dti',\n",
      "       'delinq_2yrs', 'earliest_cr_line', 'inq_last_6mths',\n",
      "       'mths_since_last_delinq', 'mths_since_last_record', 'open_acc',\n",
      "       'pub_rec', 'revol_bal', 'revol_util', 'total_acc',\n",
      "       'initial_list_status', 'out_prncp', 'out_prncp_inv', 'total_pymnt',\n",
      "       'total_pymnt_inv', 'total_rec_prncp', 'total_rec_int',\n",
      "       'total_rec_late_fee', 'recoveries', 'collection_recovery_fee',\n",
      "       'last_pymnt_d', 'last_pymnt_amnt', 'next_pymnt_d', 'last_credit_pull_d',\n",
      "       'collections_12_mths_ex_med', 'mths_since_last_major_derog',\n",
      "       'policy_code', 'application_type', 'annual_inc_joint', 'dti_joint',\n",
      "       'verification_status_joint', 'acc_now_delinq', 'tot_coll_amt',\n",
      "       'tot_cur_bal', 'open_acc_6m', 'open_il_6m', 'open_il_12m',\n",
      "       'open_il_24m', 'mths_since_rcnt_il', 'total_bal_il', 'il_util',\n",
      "       'open_rv_12m', 'open_rv_24m', 'max_bal_bc', 'all_util',\n",
      "       'total_rev_hi_lim', 'inq_fi', 'total_cu_tl', 'inq_last_12m'],\n",
      "      dtype='object')]\n"
     ]
    }
   ],
   "source": [
    "# set up \n",
    "\n",
    "sub_g_labels = ['A1','A2','A3','A4','A5','B1','B2','B3','B4','B5','C1','C2','C3','C4','C5','D1','D2','D3'\\\n",
    "            ,'D4','D5','E1','E2','E3','E4','E5','F1','F2','F3','F4','F5','G1','G2','G3','G4','G5']\n",
    "\n",
    "# make sub_grade \n",
    "# give sub grade numeric value.\n",
    "grade_v = [(1.0/35 * i) for i in range(1, 36)]\n",
    "\n",
    "# dictionary to make sub_grade val to sub_grade string\n",
    "# sub_grade_dict = dict(zip(sub_g_labels, grade_v))\n",
    "sub_grade_dict = dict(zip(sub_g_labels, range(1, 36)))\n",
    "\n",
    "print(sub_grade_dict)\n",
    "print(df.axes)"
   ]
  },
  {
   "cell_type": "code",
   "execution_count": 53,
   "metadata": {
    "scrolled": true
   },
   "outputs": [],
   "source": [
    "# need to build my feature vecotr\n",
    "# X_train = f['sub_grade','loan_amnt']\n",
    "# need y predictions combine(charged off/default(True(1)) or fully paid(False(0)))\n",
    "# y_train =[]\n",
    "# 11th spot in the pandas df if read in all columns\n",
    "sub_grade = 11\n",
    "loan_amnt = 4\n",
    "loan_status = 18\n",
    "\n",
    "def feature(datum):\n",
    "    # create our simplistic featur vector\n",
    "    #print(datum)\n",
    "    s_grade = datum[sub_grade]\n",
    "    # print(datum[sub_grade])\n",
    "    return [sub_grade_dict[datum[sub_grade]], datum[loan_amnt]]\n",
    "\n",
    "\n",
    "default = 0\n",
    "paid = 0\n",
    "def prediction_of_y(datum):\n",
    "    if ((datum[loan_status] == 'Charged Off') or (datum[loan_status] == 'Default') or (datum[loan_status] == 'Late (31-120 days)' ) or (datum[loan_status] == 'Late (16-30 days)') or (datum[loan_status] =='Does not meet the credit policy. Status:Charged Off')):\n",
    "        global default \n",
    "        default += 1\n",
    "        return True\n",
    "    else:\n",
    "        global paid \n",
    "        paid += 1\n",
    "        return False\n",
    "\n",
    "# X_train = [feature(d) for d in data_train]\n",
    "X_train = []\n",
    "for row in data_train.itertuples():\n",
    "    X_train.append(feature(row))\n",
    "    \n",
    "# y_train = [prediction_of_y(d) for d in data_train]\n",
    "y_train = []\n",
    "paid = 0\n",
    "for row in data_train.itertuples():\n",
    "    y_train.append(prediction_of_y(row))\n",
    "    "
   ]
  },
  {
   "cell_type": "code",
   "execution_count": 54,
   "metadata": {},
   "outputs": [
    {
     "name": "stdout",
     "output_type": "stream",
     "text": [
      "dict_keys(['Current', 'Fully Paid', 'Charged Off', 'Default', 'Issued', 'Late (31-120 days)', 'Late (16-30 days)', 'In Grace Period', 'Does not meet the credit policy. Status:Charged Off', 'Does not meet the credit policy. Status:Fully Paid'])\n",
      "25000\n",
      "25000\n"
     ]
    }
   ],
   "source": [
    "l_status_dict = defaultdict(int)\n",
    "for row in df.itertuples():\n",
    "    # print(row[3])\n",
    "    if row[loan_status] not in l_status_dict:\n",
    "        l_status_dict[row[loan_status]] += 1\n",
    "        \n",
    "print(l_status_dict.keys())\n",
    "print(default)\n",
    "print(paid)"
   ]
  },
  {
   "cell_type": "code",
   "execution_count": 55,
   "metadata": {
    "collapsed": true,
    "scrolled": true
   },
   "outputs": [],
   "source": [
    "# a = list(zip(X_train[:50],y_train[:50]))\n",
    "# print(a)\n",
    "# pipline to scale the feature vectors and run the svm\n",
    "rbf_svm_clf = Pipeline((\n",
    "        ('scaler', StandardScaler()),\n",
    "        (\"rbf_svc\", SVC(kernel='rbf', C=1))\n",
    "    ))\n",
    "\n",
    "# scaler.transform(X_train)"
   ]
  },
  {
   "cell_type": "code",
   "execution_count": 56,
   "metadata": {},
   "outputs": [
    {
     "name": "stdout",
     "output_type": "stream",
     "text": [
      "[False  True  True ...,  True False False]\n"
     ]
    }
   ],
   "source": [
    "# clf = svm.SVC(C=1, kernel='rbf')\n",
    "# clf.fit(scaler.transform(X_train), y_train)\n",
    "rbf_svm_clf.fit(X_train, y_train)\n",
    "train_predictions = rbf_svm_clf.predict(X_train)\n",
    "# test_predictions = clf.predict(X_test)\n",
    "print(train_predictions)"
   ]
  },
  {
   "cell_type": "code",
   "execution_count": 57,
   "metadata": {},
   "outputs": [
    {
     "name": "stdout",
     "output_type": "stream",
     "text": [
      "25681\n"
     ]
    }
   ],
   "source": [
    "print(sum(train_predictions))"
   ]
  },
  {
   "cell_type": "code",
   "execution_count": 28,
   "metadata": {},
   "outputs": [
    {
     "name": "stdout",
     "output_type": "stream",
     "text": [
      "6879\n",
      "0.93121\n"
     ]
    }
   ],
   "source": [
    "numFalseNeeded = 1 - sum(y_train)/len(y_train)\n",
    "print(sum(y_train))\n",
    "print(numFalseNeeded)"
   ]
  },
  {
   "cell_type": "code",
   "execution_count": null,
   "metadata": {
    "collapsed": true
   },
   "outputs": [],
   "source": []
  }
 ],
 "metadata": {
  "kernelspec": {
   "display_name": "Python 3",
   "language": "python",
   "name": "python3"
  },
  "language_info": {
   "codemirror_mode": {
    "name": "ipython",
    "version": 3
   },
   "file_extension": ".py",
   "mimetype": "text/x-python",
   "name": "python",
   "nbconvert_exporter": "python",
   "pygments_lexer": "ipython3",
   "version": "3.6.3"
  }
 },
 "nbformat": 4,
 "nbformat_minor": 2
}
