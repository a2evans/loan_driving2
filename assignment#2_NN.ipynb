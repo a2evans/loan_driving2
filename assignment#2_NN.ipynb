{
 "cells": [
  {
   "cell_type": "code",
   "execution_count": 8,
   "metadata": {
    "collapsed": true
   },
   "outputs": [],
   "source": [
    "import pandas as pd\n",
    "import numpy as np\n",
    "import os\n",
    "import scipy\n",
    "import sqlite3\n",
    "import tensorflow as tf\n",
    "import string"
   ]
  },
  {
   "cell_type": "code",
   "execution_count": 2,
   "metadata": {
    "scrolled": false
   },
   "outputs": [
    {
     "name": "stdout",
     "output_type": "stream",
     "text": [
      "/Users/noellin/Jupyter Notebooks/loan_driving2\n"
     ]
    }
   ],
   "source": [
    "curr_path = os.path.realpath('')\n",
    "print(curr_path)\n",
    "conn = sqlite3.connect(curr_path+\"/lending-club-loan-data/database.sqlite\")\n",
    "cur = conn.cursor()\n",
    "cur.execute(\"select * from loan limit 5;\")\n",
    "results = cur.fetchall()\n",
    "# print(results)\n",
    "cur.close()\n",
    "conn.close()"
   ]
  },
  {
   "cell_type": "code",
   "execution_count": 3,
   "metadata": {
    "collapsed": true,
    "scrolled": false
   },
   "outputs": [],
   "source": [
    "conn = sqlite3.connect(\"lending-club-loan-data/database.sqlite\")\n",
    "df = pd.read_sql_query(\"select loan_amnt,id,loan_status,sub_grade from loan where loan_status = 'Charged Off';\", conn)\n",
    "#print(df)\n",
    "conn.close()"
   ]
  },
  {
   "cell_type": "code",
   "execution_count": 4,
   "metadata": {},
   "outputs": [
    {
     "name": "stdout",
     "output_type": "stream",
     "text": [
      "15000.0\n",
      "45248\n"
     ]
    }
   ],
   "source": [
    "ddict = df.to_dict()\n",
    "print(ddict['loan_amnt'][7])\n",
    "ddict['sub_grade'][7]\n",
    "g = zip(ddict['loan_amnt'].values(),ddict['sub_grade'].values(),ddict['id'].values(),ddict['loan_status'].values())\n",
    "print(len(list(g)))"
   ]
  },
  {
   "cell_type": "code",
   "execution_count": 5,
   "metadata": {
    "scrolled": true
   },
   "outputs": [
    {
     "name": "stdout",
     "output_type": "stream",
     "text": [
      "852525\n",
      "[[1, 13.99, 8, 1, 2, 28000.0, 200000.0, 9.6999999999999993]]\n"
     ]
    }
   ],
   "source": [
    "# create our data set\n",
    "conn = sqlite3.connect(curr_path+\"/lending-club-loan-data/database.sqlite\")\n",
    "# df = pd.read_sql_query(\"select loan_amnt,loan_status,sub_grade from loan where loan_status !='Current' AND loan_status !='Late (31-120 days)' AND loan_status != 'Late (16-30 days)';\", conn)\n",
    "#df_tf = pd.read_sql_query(\"select loan_amnt, term, int_rate, annual_inc, dti, home_ownership from loan where loan_status =='Fully Paid' OR loan_status == 'Charged Off' OR loan_status == 'Default'\", conn)\n",
    "df_tf = pd.read_sql_query(\"select loan_status, term, int_rate, emp_length, home_ownership, verification_status, loan_amnt, annual_inc, dti from loan where emp_length != 'n/a' OR loan_status =='Fully Paid' OR loan_status == 'Charged Off' OR loan_status == 'Default'\", conn)\n",
    "# df_desc = pd.read_sql_query(\"select loan_amnt, loan_status, sub_grade from loan where desc != 'NULL' AND loan_status !='Current' AND loan_status !='Late (31-120 days)' AND loan_status != 'Late (16-30 days)'\", conn)\n",
    "print (len(df_tf))\n",
    "\n",
    "data = []\n",
    "results = []\n",
    "for i in range(10000):  # data set of 80000 for faster run time. Replace with range(len(df_tf)) later\n",
    "    # one hot encoding for loan status. Or 0, 1, 2\n",
    "    # loan_status = ['1', '0', '0'] if df_tf.iloc[i][0] == 'Fully Paid' else ['0', '1', '0'] if df_tf.iloc[i][0] == 'Default' else ['0', '0', '1']\n",
    "    loan_status = '0' if df_tf.iloc[i][0] == 'Fully Paid' else '1' if df_tf.iloc[i][0] == 'Default' else '2'\n",
    "    \n",
    "    # 0 if term is 36 months, 1 if 60 months\n",
    "    term = 0 if df_tf.iloc[i][1] == ' 36 months' else 1\n",
    "    \n",
    "    # change interest rate from str to float\n",
    "    int_rate = float(df_tf.iloc[i][2].replace('%', ''))\n",
    "    \n",
    "    # get employment length\n",
    "    txt = ''.join([c for c in df_tf.iloc[i][3].lower() if not c in set(string.punctuation)])\n",
    "    emp_length_list = ([int(s) for s in txt.split() if s.isdigit()])\n",
    "    emp_length = 0 if emp_length_list == [] else emp_length_list[0]\n",
    "\n",
    "    # 0 if renting, 1 if owner\n",
    "    ownership = 0 if df_tf.iloc[i][4] == 'RENT' else 1\n",
    "    \n",
    "    # verification status, 0 for not verified, 1 for source verified and 2 for verified\n",
    "    verification = 0 if df_tf.iloc[i][5] == 'Not Verified' else 1 if df_tf.iloc[i][5] == 'Source Verified' else 2\n",
    "\n",
    "    # append in feature vector\n",
    "    data.append([term, int_rate, emp_length, ownership, verification, df_tf.iloc[i][6], df_tf.iloc[i][7], df_tf.iloc[i][8]])\n",
    "                 \n",
    "    # add loan status to results \n",
    "    results.append(loan_status)\n",
    "\n",
    "print (data[-1:])\n",
    "X_train = data[:int(len(data)/2)]\n",
    "y_train = results[:int(len(results)/2)]\n",
    "X_val = data[int(len(data)/2): int(len(data)*0.75)]\n",
    "y_val = results[int(len(results)/2): int(len(results)*0.75)]\n",
    "X_test = data[int(len(data)*.75):]\n",
    "y_test = results[int(len(results)*.75):]\n",
    "\n",
    "conn.close()\n",
    "# feature vector - predictor will predict (\"charged off/default status\") vs. \n",
    "# [1(maybe check this),'sub_grade','loan_amnt','emp_length','home_ownership','annual_inc','verification_status','dti'(debt-to-income),'']"
   ]
  },
  {
   "cell_type": "code",
   "execution_count": 6,
   "metadata": {},
   "outputs": [
    {
     "ename": "NameError",
     "evalue": "name 'numpy' is not defined",
     "output_type": "error",
     "traceback": [
      "\u001b[0;31m---------------------------------------------------------------------------\u001b[0m",
      "\u001b[0;31mNameError\u001b[0m                                 Traceback (most recent call last)",
      "\u001b[0;32m<ipython-input-6-f80a6908487b>\u001b[0m in \u001b[0;36m<module>\u001b[0;34m()\u001b[0m\n\u001b[0;32m----> 1\u001b[0;31m \u001b[0mprint\u001b[0m \u001b[0;34m(\u001b[0m\u001b[0mnumpy\u001b[0m\u001b[0;34m.\u001b[0m\u001b[0marray\u001b[0m\u001b[0;34m(\u001b[0m\u001b[0my_train\u001b[0m\u001b[0;34m)\u001b[0m\u001b[0;34m)\u001b[0m\u001b[0;34m\u001b[0m\u001b[0m\n\u001b[0m",
      "\u001b[0;31mNameError\u001b[0m: name 'numpy' is not defined"
     ]
    }
   ],
   "source": []
  },
  {
   "cell_type": "code",
   "execution_count": 9,
   "metadata": {},
   "outputs": [
    {
     "name": "stdout",
     "output_type": "stream",
     "text": [
      "WARNING:tensorflow:float64 is not supported by many models, consider casting to float32.\n",
      "INFO:tensorflow:Using default config.\n",
      "INFO:tensorflow:Using config: {'_task_type': None, '_task_id': 0, '_cluster_spec': <tensorflow.python.training.server_lib.ClusterSpec object at 0x11901a5c0>, '_master': '', '_num_ps_replicas': 0, '_num_worker_replicas': 0, '_environment': 'local', '_is_chief': True, '_evaluation_master': '', '_tf_config': gpu_options {\n",
      "  per_process_gpu_memory_fraction: 1.0\n",
      "}\n",
      ", '_tf_random_seed': None, '_save_summary_steps': 100, '_save_checkpoints_secs': 600, '_save_checkpoints_steps': None, '_keep_checkpoint_max': 5, '_keep_checkpoint_every_n_hours': 10000, '_model_dir': None}\n",
      "WARNING:tensorflow:Using temporary folder as model directory: /var/folders/cv/j7y0jf0x0gbc39xntlnng44c0000gn/T/tmpaygqmg32\n",
      "WARNING:tensorflow:From <ipython-input-9-2e1a3df58a93>:6: calling BaseEstimator.fit (from tensorflow.contrib.learn.python.learn.estimators.estimator) with x is deprecated and will be removed after 2016-12-01.\n",
      "Instructions for updating:\n",
      "Estimator is decoupled from Scikit Learn interface by moving into\n",
      "separate class SKCompat. Arguments x, y and batch_size are only\n",
      "available in the SKCompat class, Estimator will only accept input_fn.\n",
      "Example conversion:\n",
      "  est = Estimator(...) -> est = SKCompat(Estimator(...))\n",
      "WARNING:tensorflow:From <ipython-input-9-2e1a3df58a93>:6: calling BaseEstimator.fit (from tensorflow.contrib.learn.python.learn.estimators.estimator) with y is deprecated and will be removed after 2016-12-01.\n",
      "Instructions for updating:\n",
      "Estimator is decoupled from Scikit Learn interface by moving into\n",
      "separate class SKCompat. Arguments x, y and batch_size are only\n",
      "available in the SKCompat class, Estimator will only accept input_fn.\n",
      "Example conversion:\n",
      "  est = Estimator(...) -> est = SKCompat(Estimator(...))\n",
      "WARNING:tensorflow:From <ipython-input-9-2e1a3df58a93>:6: calling BaseEstimator.fit (from tensorflow.contrib.learn.python.learn.estimators.estimator) with batch_size is deprecated and will be removed after 2016-12-01.\n",
      "Instructions for updating:\n",
      "Estimator is decoupled from Scikit Learn interface by moving into\n",
      "separate class SKCompat. Arguments x, y and batch_size are only\n",
      "available in the SKCompat class, Estimator will only accept input_fn.\n",
      "Example conversion:\n",
      "  est = Estimator(...) -> est = SKCompat(Estimator(...))\n",
      "WARNING:tensorflow:float64 is not supported by many models, consider casting to float32.\n",
      "WARNING:tensorflow:From /Users/noellin/anaconda3/lib/python3.6/site-packages/tensorflow/contrib/learn/python/learn/estimators/head.py:1030: string_to_index_table_from_tensor (from tensorflow.contrib.lookup.lookup_ops) is deprecated and will be removed after 2017-04-10.\n",
      "Instructions for updating:\n",
      "Use `index_table_from_tensor`.\n",
      "WARNING:tensorflow:From /Users/noellin/anaconda3/lib/python3.6/site-packages/tensorflow/contrib/learn/python/learn/estimators/head.py:615: scalar_summary (from tensorflow.python.ops.logging_ops) is deprecated and will be removed after 2016-11-30.\n",
      "Instructions for updating:\n",
      "Please switch to tf.summary.scalar. Note that tf.summary.scalar uses the node name instead of the tag. This means that TensorFlow will automatically de-duplicate summary names based on the scope they are created in. Also, passing a tensor or list of tags to a scalar summary op is no longer supported.\n"
     ]
    },
    {
     "name": "stderr",
     "output_type": "stream",
     "text": [
      "/Users/noellin/anaconda3/lib/python3.6/site-packages/tensorflow/python/util/deprecation.py:248: FutureWarning: comparison to `None` will result in an elementwise object comparison in the future.\n",
      "  equality = a == b\n"
     ]
    },
    {
     "name": "stdout",
     "output_type": "stream",
     "text": [
      "INFO:tensorflow:Create CheckpointSaverHook.\n",
      "INFO:tensorflow:Saving checkpoints for 1 into /var/folders/cv/j7y0jf0x0gbc39xntlnng44c0000gn/T/tmpaygqmg32/model.ckpt.\n",
      "INFO:tensorflow:loss = 8818.46, step = 1\n",
      "INFO:tensorflow:global_step/sec: 636.01\n",
      "INFO:tensorflow:loss = 36.8473, step = 101 (0.164 sec)\n",
      "INFO:tensorflow:global_step/sec: 433.121\n",
      "INFO:tensorflow:loss = 9.42107, step = 201 (0.227 sec)\n",
      "INFO:tensorflow:global_step/sec: 653.796\n",
      "INFO:tensorflow:loss = 9.53088, step = 301 (0.153 sec)\n",
      "INFO:tensorflow:global_step/sec: 347.8\n",
      "INFO:tensorflow:loss = 2.41896, step = 401 (0.286 sec)\n",
      "INFO:tensorflow:global_step/sec: 888.257\n",
      "INFO:tensorflow:loss = 1.3975, step = 501 (0.113 sec)\n",
      "INFO:tensorflow:global_step/sec: 846.84\n",
      "INFO:tensorflow:loss = 1.27981, step = 601 (0.118 sec)\n",
      "INFO:tensorflow:global_step/sec: 818.198\n",
      "INFO:tensorflow:loss = 1.17604, step = 701 (0.122 sec)\n",
      "INFO:tensorflow:global_step/sec: 550.427\n",
      "INFO:tensorflow:loss = 0.702641, step = 801 (0.182 sec)\n",
      "INFO:tensorflow:global_step/sec: 354.999\n",
      "INFO:tensorflow:loss = 0.500921, step = 901 (0.281 sec)\n",
      "INFO:tensorflow:global_step/sec: 876.049\n",
      "INFO:tensorflow:loss = 0.657726, step = 1001 (0.114 sec)\n",
      "INFO:tensorflow:global_step/sec: 855.776\n",
      "INFO:tensorflow:loss = 1.02923, step = 1101 (0.118 sec)\n",
      "INFO:tensorflow:global_step/sec: 389.524\n",
      "INFO:tensorflow:loss = 0.769636, step = 1201 (0.259 sec)\n",
      "INFO:tensorflow:global_step/sec: 498.231\n",
      "INFO:tensorflow:loss = 0.661389, step = 1301 (0.198 sec)\n",
      "INFO:tensorflow:global_step/sec: 806.881\n",
      "INFO:tensorflow:loss = 0.743978, step = 1401 (0.124 sec)\n",
      "INFO:tensorflow:global_step/sec: 695.643\n",
      "INFO:tensorflow:loss = 1.3308, step = 1501 (0.151 sec)\n",
      "INFO:tensorflow:global_step/sec: 628.709\n",
      "INFO:tensorflow:loss = 0.669875, step = 1601 (0.152 sec)\n",
      "INFO:tensorflow:global_step/sec: 820.35\n",
      "INFO:tensorflow:loss = 0.380288, step = 1701 (0.122 sec)\n",
      "INFO:tensorflow:global_step/sec: 880.99\n",
      "INFO:tensorflow:loss = 0.517377, step = 1801 (0.113 sec)\n",
      "INFO:tensorflow:global_step/sec: 886.273\n",
      "INFO:tensorflow:loss = 0.998313, step = 1901 (0.113 sec)\n",
      "INFO:tensorflow:global_step/sec: 835.987\n",
      "INFO:tensorflow:loss = 0.545059, step = 2001 (0.120 sec)\n",
      "INFO:tensorflow:global_step/sec: 822.985\n",
      "INFO:tensorflow:loss = 0.707452, step = 2101 (0.122 sec)\n",
      "INFO:tensorflow:global_step/sec: 705.118\n",
      "INFO:tensorflow:loss = 0.465648, step = 2201 (0.141 sec)\n",
      "INFO:tensorflow:global_step/sec: 821.552\n",
      "INFO:tensorflow:loss = 0.362944, step = 2301 (0.122 sec)\n",
      "INFO:tensorflow:global_step/sec: 881.095\n",
      "INFO:tensorflow:loss = 0.330963, step = 2401 (0.113 sec)\n",
      "INFO:tensorflow:global_step/sec: 883.143\n",
      "INFO:tensorflow:loss = 0.757334, step = 2501 (0.114 sec)\n",
      "INFO:tensorflow:global_step/sec: 769.302\n",
      "INFO:tensorflow:loss = 0.352811, step = 2601 (0.130 sec)\n",
      "INFO:tensorflow:global_step/sec: 412.521\n",
      "INFO:tensorflow:loss = 0.881089, step = 2701 (0.243 sec)\n",
      "INFO:tensorflow:global_step/sec: 448.318\n",
      "INFO:tensorflow:loss = 0.719586, step = 2801 (0.228 sec)\n",
      "INFO:tensorflow:global_step/sec: 548.141\n",
      "INFO:tensorflow:loss = 0.697039, step = 2901 (0.176 sec)\n",
      "INFO:tensorflow:global_step/sec: 364.972\n",
      "INFO:tensorflow:loss = 0.698915, step = 3001 (0.276 sec)\n",
      "INFO:tensorflow:global_step/sec: 730.994\n",
      "INFO:tensorflow:loss = 0.416062, step = 3101 (0.137 sec)\n",
      "INFO:tensorflow:global_step/sec: 817.256\n",
      "INFO:tensorflow:loss = 0.38346, step = 3201 (0.121 sec)\n",
      "INFO:tensorflow:global_step/sec: 800.114\n",
      "INFO:tensorflow:loss = 0.391469, step = 3301 (0.132 sec)\n",
      "INFO:tensorflow:global_step/sec: 498.845\n",
      "INFO:tensorflow:loss = 0.299543, step = 3401 (0.202 sec)\n",
      "INFO:tensorflow:global_step/sec: 509.963\n",
      "INFO:tensorflow:loss = 0.478083, step = 3501 (0.191 sec)\n",
      "INFO:tensorflow:global_step/sec: 510.999\n",
      "INFO:tensorflow:loss = 0.492098, step = 3601 (0.192 sec)\n",
      "INFO:tensorflow:global_step/sec: 812.269\n",
      "INFO:tensorflow:loss = 0.432762, step = 3701 (0.123 sec)\n",
      "INFO:tensorflow:global_step/sec: 829.173\n",
      "INFO:tensorflow:loss = 0.941498, step = 3801 (0.122 sec)\n",
      "INFO:tensorflow:global_step/sec: 513.999\n",
      "INFO:tensorflow:loss = 0.475253, step = 3901 (0.193 sec)\n",
      "INFO:tensorflow:global_step/sec: 492.301\n",
      "INFO:tensorflow:loss = 0.599893, step = 4001 (0.207 sec)\n",
      "INFO:tensorflow:global_step/sec: 575.268\n",
      "INFO:tensorflow:loss = 0.327442, step = 4101 (0.170 sec)\n",
      "INFO:tensorflow:global_step/sec: 866.551\n",
      "INFO:tensorflow:loss = 0.686087, step = 4201 (0.116 sec)\n",
      "INFO:tensorflow:global_step/sec: 458.144\n",
      "INFO:tensorflow:loss = 0.540729, step = 4301 (0.226 sec)\n",
      "INFO:tensorflow:global_step/sec: 627.265\n",
      "INFO:tensorflow:loss = 0.379363, step = 4401 (0.153 sec)\n",
      "INFO:tensorflow:global_step/sec: 746.715\n",
      "INFO:tensorflow:loss = 0.203335, step = 4501 (0.133 sec)\n",
      "INFO:tensorflow:global_step/sec: 712.032\n",
      "INFO:tensorflow:loss = 0.579089, step = 4601 (0.140 sec)\n",
      "INFO:tensorflow:global_step/sec: 869.466\n",
      "INFO:tensorflow:loss = 0.284752, step = 4701 (0.115 sec)\n",
      "INFO:tensorflow:global_step/sec: 796.282\n",
      "INFO:tensorflow:loss = 0.377735, step = 4801 (0.126 sec)\n",
      "INFO:tensorflow:global_step/sec: 604.199\n",
      "INFO:tensorflow:loss = 0.44918, step = 4901 (0.165 sec)\n",
      "INFO:tensorflow:Saving checkpoints for 5000 into /var/folders/cv/j7y0jf0x0gbc39xntlnng44c0000gn/T/tmpaygqmg32/model.ckpt.\n",
      "INFO:tensorflow:Loss for final step: 0.624172.\n"
     ]
    },
    {
     "data": {
      "text/plain": [
       "DNNClassifier(params={'head': <tensorflow.contrib.learn.python.learn.estimators.head._MultiClassHead object at 0x10efe6668>, 'hidden_units': [200, 100], 'feature_columns': (_RealValuedColumn(column_name='', dimension=8, default_value=None, dtype=tf.float64, normalizer=None),), 'optimizer': None, 'activation_fn': <function relu at 0x10db20510>, 'dropout': None, 'gradient_clip_norm': None, 'embedding_lr_multipliers': None, 'input_layer_min_slice_size': None})"
      ]
     },
     "execution_count": 9,
     "metadata": {},
     "output_type": "execute_result"
    }
   ],
   "source": [
    "X_train_arr = np.array(X_train)\n",
    "y_train_arr = np.array(y_train)\n",
    "feature_cols = tf.contrib.learn.infer_real_valued_columns_from_input(X_train_arr)\n",
    "dnn_clf = tf.contrib.learn.DNNClassifier(hidden_units=[200,100], n_classes=3,feature_columns=feature_cols, label_keys=['0','1','2'])\n",
    "# dnn_clf = tf.contrib.learn.SKCompat(dnn_clf) \n",
    "dnn_clf.fit(X_train_arr, y_train_arr, batch_size=10, steps=5000)\n",
    "# dnn_clf.fit(X_train_arr, y_train_arr)"
   ]
  },
  {
   "cell_type": "code",
   "execution_count": 11,
   "metadata": {
    "scrolled": false
   },
   "outputs": [
    {
     "name": "stdout",
     "output_type": "stream",
     "text": [
      "WARNING:tensorflow:From <ipython-input-11-6d36b441c1cb>:5: calling DNNClassifier.predict_classes (from tensorflow.contrib.learn.python.learn.estimators.dnn) with as_iterable=False is deprecated and will be removed after 2016-09-15.\n",
      "Instructions for updating:\n",
      "The default behavior of predict() is changing. The default value for\n",
      "as_iterable will change to True, and then the flag will be removed\n",
      "altogether. The behavior of this flag is described below.\n",
      "WARNING:tensorflow:From /Users/noellin/anaconda3/lib/python3.6/site-packages/tensorflow/contrib/learn/python/learn/estimators/dnn.py:422: calling BaseEstimator.predict (from tensorflow.contrib.learn.python.learn.estimators.estimator) with x is deprecated and will be removed after 2016-12-01.\n",
      "Instructions for updating:\n",
      "Estimator is decoupled from Scikit Learn interface by moving into\n",
      "separate class SKCompat. Arguments x, y and batch_size are only\n",
      "available in the SKCompat class, Estimator will only accept input_fn.\n",
      "Example conversion:\n",
      "  est = Estimator(...) -> est = SKCompat(Estimator(...))\n",
      "WARNING:tensorflow:From /Users/noellin/anaconda3/lib/python3.6/site-packages/tensorflow/contrib/learn/python/learn/estimators/dnn.py:422: calling BaseEstimator.predict (from tensorflow.contrib.learn.python.learn.estimators.estimator) with as_iterable is deprecated and will be removed after 2016-12-01.\n",
      "Instructions for updating:\n",
      "Estimator is decoupled from Scikit Learn interface by moving into\n",
      "separate class SKCompat. Arguments x, y and batch_size are only\n",
      "available in the SKCompat class, Estimator will only accept input_fn.\n",
      "Example conversion:\n",
      "  est = Estimator(...) -> est = SKCompat(Estimator(...))\n",
      "WARNING:tensorflow:float64 is not supported by many models, consider casting to float32.\n"
     ]
    },
    {
     "name": "stderr",
     "output_type": "stream",
     "text": [
      "/Users/noellin/anaconda3/lib/python3.6/site-packages/tensorflow/python/util/deprecation.py:248: FutureWarning: comparison to `None` will result in an elementwise object comparison in the future.\n",
      "  equality = a == b\n"
     ]
    },
    {
     "name": "stdout",
     "output_type": "stream",
     "text": [
      "INFO:tensorflow:Restoring parameters from /var/folders/cv/j7y0jf0x0gbc39xntlnng44c0000gn/T/tmpaygqmg32/model.ckpt-5000\n"
     ]
    },
    {
     "ename": "ValueError",
     "evalue": "You appear to be using a legacy multi-label data representation. Sequence of sequences are no longer supported; use a binary array or sparse matrix instead.",
     "output_type": "error",
     "traceback": [
      "\u001b[0;31m---------------------------------------------------------------------------\u001b[0m",
      "\u001b[0;31mValueError\u001b[0m                                Traceback (most recent call last)",
      "\u001b[0;32m<ipython-input-11-6d36b441c1cb>\u001b[0m in \u001b[0;36m<module>\u001b[0;34m()\u001b[0m\n\u001b[1;32m      7\u001b[0m \u001b[0;31m#print (X_val[0])\u001b[0m\u001b[0;34m\u001b[0m\u001b[0;34m\u001b[0m\u001b[0m\n\u001b[1;32m      8\u001b[0m \u001b[0;31m#print(y_pred)\u001b[0m\u001b[0;34m\u001b[0m\u001b[0;34m\u001b[0m\u001b[0m\n\u001b[0;32m----> 9\u001b[0;31m \u001b[0mprint\u001b[0m \u001b[0;34m(\u001b[0m\u001b[0maccuracy_score\u001b[0m\u001b[0;34m(\u001b[0m\u001b[0my_val_arr\u001b[0m\u001b[0;34m,\u001b[0m \u001b[0my_pred\u001b[0m\u001b[0;34m)\u001b[0m\u001b[0;34m)\u001b[0m\u001b[0;34m\u001b[0m\u001b[0m\n\u001b[0m",
      "\u001b[0;32m~/anaconda3/lib/python3.6/site-packages/sklearn/metrics/classification.py\u001b[0m in \u001b[0;36maccuracy_score\u001b[0;34m(y_true, y_pred, normalize, sample_weight)\u001b[0m\n\u001b[1;32m    174\u001b[0m \u001b[0;34m\u001b[0m\u001b[0m\n\u001b[1;32m    175\u001b[0m     \u001b[0;31m# Compute accuracy for each possible representation\u001b[0m\u001b[0;34m\u001b[0m\u001b[0;34m\u001b[0m\u001b[0m\n\u001b[0;32m--> 176\u001b[0;31m     \u001b[0my_type\u001b[0m\u001b[0;34m,\u001b[0m \u001b[0my_true\u001b[0m\u001b[0;34m,\u001b[0m \u001b[0my_pred\u001b[0m \u001b[0;34m=\u001b[0m \u001b[0m_check_targets\u001b[0m\u001b[0;34m(\u001b[0m\u001b[0my_true\u001b[0m\u001b[0;34m,\u001b[0m \u001b[0my_pred\u001b[0m\u001b[0;34m)\u001b[0m\u001b[0;34m\u001b[0m\u001b[0m\n\u001b[0m\u001b[1;32m    177\u001b[0m     \u001b[0;32mif\u001b[0m \u001b[0my_type\u001b[0m\u001b[0;34m.\u001b[0m\u001b[0mstartswith\u001b[0m\u001b[0;34m(\u001b[0m\u001b[0;34m'multilabel'\u001b[0m\u001b[0;34m)\u001b[0m\u001b[0;34m:\u001b[0m\u001b[0;34m\u001b[0m\u001b[0m\n\u001b[1;32m    178\u001b[0m         \u001b[0mdiffering_labels\u001b[0m \u001b[0;34m=\u001b[0m \u001b[0mcount_nonzero\u001b[0m\u001b[0;34m(\u001b[0m\u001b[0my_true\u001b[0m \u001b[0;34m-\u001b[0m \u001b[0my_pred\u001b[0m\u001b[0;34m,\u001b[0m \u001b[0maxis\u001b[0m\u001b[0;34m=\u001b[0m\u001b[0;36m1\u001b[0m\u001b[0;34m)\u001b[0m\u001b[0;34m\u001b[0m\u001b[0m\n",
      "\u001b[0;32m~/anaconda3/lib/python3.6/site-packages/sklearn/metrics/classification.py\u001b[0m in \u001b[0;36m_check_targets\u001b[0;34m(y_true, y_pred)\u001b[0m\n\u001b[1;32m     71\u001b[0m     \u001b[0mcheck_consistent_length\u001b[0m\u001b[0;34m(\u001b[0m\u001b[0my_true\u001b[0m\u001b[0;34m,\u001b[0m \u001b[0my_pred\u001b[0m\u001b[0;34m)\u001b[0m\u001b[0;34m\u001b[0m\u001b[0m\n\u001b[1;32m     72\u001b[0m     \u001b[0mtype_true\u001b[0m \u001b[0;34m=\u001b[0m \u001b[0mtype_of_target\u001b[0m\u001b[0;34m(\u001b[0m\u001b[0my_true\u001b[0m\u001b[0;34m)\u001b[0m\u001b[0;34m\u001b[0m\u001b[0m\n\u001b[0;32m---> 73\u001b[0;31m     \u001b[0mtype_pred\u001b[0m \u001b[0;34m=\u001b[0m \u001b[0mtype_of_target\u001b[0m\u001b[0;34m(\u001b[0m\u001b[0my_pred\u001b[0m\u001b[0;34m)\u001b[0m\u001b[0;34m\u001b[0m\u001b[0m\n\u001b[0m\u001b[1;32m     74\u001b[0m \u001b[0;34m\u001b[0m\u001b[0m\n\u001b[1;32m     75\u001b[0m     \u001b[0my_type\u001b[0m \u001b[0;34m=\u001b[0m \u001b[0mset\u001b[0m\u001b[0;34m(\u001b[0m\u001b[0;34m[\u001b[0m\u001b[0mtype_true\u001b[0m\u001b[0;34m,\u001b[0m \u001b[0mtype_pred\u001b[0m\u001b[0;34m]\u001b[0m\u001b[0;34m)\u001b[0m\u001b[0;34m\u001b[0m\u001b[0m\n",
      "\u001b[0;32m~/anaconda3/lib/python3.6/site-packages/sklearn/utils/multiclass.py\u001b[0m in \u001b[0;36mtype_of_target\u001b[0;34m(y)\u001b[0m\n\u001b[1;32m    261\u001b[0m         if (not hasattr(y[0], '__array__') and isinstance(y[0], Sequence)\n\u001b[1;32m    262\u001b[0m                 and not isinstance(y[0], string_types)):\n\u001b[0;32m--> 263\u001b[0;31m             raise ValueError('You appear to be using a legacy multi-label data'\n\u001b[0m\u001b[1;32m    264\u001b[0m                              \u001b[0;34m' representation. Sequence of sequences are no'\u001b[0m\u001b[0;34m\u001b[0m\u001b[0m\n\u001b[1;32m    265\u001b[0m                              \u001b[0;34m' longer supported; use a binary array or sparse'\u001b[0m\u001b[0;34m\u001b[0m\u001b[0m\n",
      "\u001b[0;31mValueError\u001b[0m: You appear to be using a legacy multi-label data representation. Sequence of sequences are no longer supported; use a binary array or sparse matrix instead."
     ]
    }
   ],
   "source": [
    "from sklearn.metrics import accuracy_score\n",
    "\n",
    "X_val_arr = np.array(X_val)\n",
    "y_val_arr = np.array(y_val)\n",
    "y_pred = dnn_clf.predict_classes(X_val_arr, as_iterable=False)\n",
    "#print (X_val_arr)\n",
    "#print (X_val[0])\n",
    "#print(y_pred)\n",
    "print (accuracy_score(y_val_arr, y_pred))"
   ]
  },
  {
   "cell_type": "code",
   "execution_count": 1,
   "metadata": {},
   "outputs": [
    {
     "ename": "NameError",
     "evalue": "name 'numpy' is not defined",
     "output_type": "error",
     "traceback": [
      "\u001b[0;31m---------------------------------------------------------------------------\u001b[0m",
      "\u001b[0;31mNameError\u001b[0m                                 Traceback (most recent call last)",
      "\u001b[0;32m<ipython-input-1-5f5a068a02dd>\u001b[0m in \u001b[0;36m<module>\u001b[0;34m()\u001b[0m\n\u001b[0;32m----> 1\u001b[0;31m \u001b[0mX_train_arr\u001b[0m \u001b[0;34m=\u001b[0m \u001b[0mnumpy\u001b[0m\u001b[0;34m.\u001b[0m\u001b[0marray\u001b[0m\u001b[0;34m(\u001b[0m\u001b[0mX_train\u001b[0m\u001b[0;34m)\u001b[0m\u001b[0;34m\u001b[0m\u001b[0m\n\u001b[0m\u001b[1;32m      2\u001b[0m \u001b[0my_train_arr\u001b[0m \u001b[0;34m=\u001b[0m \u001b[0mnumpy\u001b[0m\u001b[0;34m.\u001b[0m\u001b[0marray\u001b[0m\u001b[0;34m(\u001b[0m\u001b[0my_train\u001b[0m\u001b[0;34m)\u001b[0m\u001b[0;34m\u001b[0m\u001b[0m\n\u001b[1;32m      3\u001b[0m \u001b[0;34m\u001b[0m\u001b[0m\n\u001b[1;32m      4\u001b[0m \u001b[0mprint\u001b[0m \u001b[0;34m(\u001b[0m\u001b[0my_train_arr\u001b[0m\u001b[0;34m[\u001b[0m\u001b[0;34m:\u001b[0m\u001b[0;36m5\u001b[0m\u001b[0;34m]\u001b[0m\u001b[0;34m)\u001b[0m\u001b[0;34m\u001b[0m\u001b[0m\n\u001b[1;32m      5\u001b[0m \u001b[0mprint\u001b[0m \u001b[0;34m(\u001b[0m\u001b[0my_train\u001b[0m\u001b[0;34m[\u001b[0m\u001b[0;34m:\u001b[0m\u001b[0;36m5\u001b[0m\u001b[0;34m]\u001b[0m\u001b[0;34m)\u001b[0m\u001b[0;34m\u001b[0m\u001b[0m\n",
      "\u001b[0;31mNameError\u001b[0m: name 'numpy' is not defined"
     ]
    }
   ],
   "source": [
    "X_train_arr = numpy.array(X_train)\n",
    "y_train_arr = numpy.array(y_train)\n",
    "\n",
    "print (y_train_arr[:5])\n",
    "print (y_train[:5])\n",
    "print (X_train_arr[:5])"
   ]
  },
  {
   "cell_type": "code",
   "execution_count": null,
   "metadata": {
    "collapsed": true
   },
   "outputs": [],
   "source": [
    "# for testing library purposes\n",
    "from sklearn.datasets import load_breast_cancer\n",
    "cancer = load_breast_cancer()\n",
    "print (cancer['data'])\n",
    "print (cancer['target'])"
   ]
  },
  {
   "cell_type": "code",
   "execution_count": null,
   "metadata": {
    "collapsed": true
   },
   "outputs": [],
   "source": []
  },
  {
   "cell_type": "code",
   "execution_count": null,
   "metadata": {
    "collapsed": true
   },
   "outputs": [],
   "source": []
  }
 ],
 "metadata": {
  "kernelspec": {
   "display_name": "Python 3",
   "language": "python",
   "name": "python3"
  },
  "language_info": {
   "codemirror_mode": {
    "name": "ipython",
    "version": 3
   },
   "file_extension": ".py",
   "mimetype": "text/x-python",
   "name": "python",
   "nbconvert_exporter": "python",
   "pygments_lexer": "ipython3",
   "version": "3.6.3"
  }
 },
 "nbformat": 4,
 "nbformat_minor": 2
}
