{
 "cells": [
  {
   "cell_type": "code",
   "execution_count": 1,
   "metadata": {
    "collapsed": true
   },
   "outputs": [],
   "source": [
    "import pandas as pd\n",
    "import numpy as np\n",
    "from random import shuffle\n",
    "from sklearn import svm\n",
    "from sklearn.svm import SVC\n",
    "from sklearn.preprocessing import StandardScaler\n",
    "from sklearn.pipeline import Pipeline\n",
    "import os\n",
    "import scipy\n",
    "import sqlite3\n",
    "from collections import defaultdict"
   ]
  },
  {
   "cell_type": "code",
   "execution_count": 3,
   "metadata": {
    "scrolled": false
   },
   "outputs": [
    {
     "name": "stdout",
     "output_type": "stream",
     "text": [
      "C:\\Users\\Andrew Scott Evans\\Documents\\GitHub\\loan_driving2\n"
     ]
    }
   ],
   "source": [
    "curr_path = os.path.realpath('')\n",
    "print(curr_path)\n",
    "conn = sqlite3.connect(curr_path+\"/lending-club-loan-data/database.sqlite\")\n",
    "cur = conn.cursor()\n",
    "cur.execute(\"select * from loan limit 5;\")\n",
    "results = cur.fetchall()\n",
    "# print(results)\n",
    "cur.close()\n",
    "conn.close()"
   ]
  },
  {
   "cell_type": "code",
   "execution_count": 4,
   "metadata": {
    "collapsed": true,
    "scrolled": true
   },
   "outputs": [],
   "source": [
    "conn = sqlite3.connect(\"lending-club-loan-data/database.sqlite\")\n",
    "df = pd.read_sql_query(\"select loan_amnt,id,loan_status,sub_grade from loan where loan_status = 'Charged Off';\", conn)\n",
    "# print(df)\n",
    "conn.close()"
   ]
  },
  {
   "cell_type": "code",
   "execution_count": 5,
   "metadata": {
    "collapsed": true
   },
   "outputs": [],
   "source": [
    "ddict = df.to_dict()\n",
    "# print(ddict['loan_amnt'][7])\n",
    "ddict['sub_grade'][7]\n",
    "g = zip(ddict['loan_amnt'].values(),ddict['sub_grade'].values(),ddict['id'].values(),ddict['loan_status'].values())\n",
    "# print(len(list(g)))"
   ]
  },
  {
   "cell_type": "code",
   "execution_count": 6,
   "metadata": {
    "collapsed": true,
    "scrolled": true
   },
   "outputs": [],
   "source": [
    "# create a training set\n",
    "conn = sqlite3.connect(curr_path+\"/lending-club-loan-data/database.sqlite\")\n",
    "df = pd.read_sql_query(\"select loan_amnt,id,loan_status,sub_grade from loan where loan_status !='Current' AND loan_status !='Late (31-120 days)' AND loan_status != 'Late (16-30 days)';\", conn)\n",
    "# print(df.axes)\n",
    "# print(df.get_values()[0][1])\n",
    "# print(df.get_values())\n",
    "# print(df.values[3])\n",
    "# print(df.values[0])\n",
    "\n",
    "conn.close()\n",
    "# feature vector - predictor will predict (\"charged off/default status\") vs. \n",
    "# [1(maybe check this),'sub_grade','loan_amnt','emp_length','home_ownership','annual_inc','verification_status','dti'(debt-to-income),'']"
   ]
  },
  {
   "cell_type": "code",
   "execution_count": 7,
   "metadata": {
    "collapsed": true,
    "scrolled": true
   },
   "outputs": [],
   "source": [
    "# find all unique values for the loan status column\n",
    "l_status_dict = defaultdict(int)\n",
    "for row in df.itertuples():\n",
    "    # print(row[3])\n",
    "    if row[3] not in l_status_dict:\n",
    "        l_status_dict[row[3]] += 1\n",
    "\n",
    "# print(l_status_dict.keys())"
   ]
  },
  {
   "cell_type": "code",
   "execution_count": 8,
   "metadata": {},
   "outputs": [
    {
     "name": "stdout",
     "output_type": "stream",
     "text": [
      "dict_keys(['Fully Paid', 'Charged Off', 'Default', 'In Grace Period', 'Does not meet the credit policy. Status:Fully Paid', 'Does not meet the credit policy. Status:Charged Off', 'Issued'])\n"
     ]
    }
   ],
   "source": [
    "print(l_status_dict.keys())"
   ]
  },
  {
   "cell_type": "code",
   "execution_count": 9,
   "metadata": {
    "collapsed": true
   },
   "outputs": [],
   "source": [
    "curr_path = os.path.realpath('')\n",
    "conn = sqlite3.connect(curr_path+\"/lending-club-loan-data/database.sqlite\")\n",
    "# very important, select a random sample of the data for our training set & validation sets \n",
    "# \n",
    "df = pd.read_sql_query(\"select * from loan where id in(select id from loan order by random() limit 200000);\", conn)\n",
    "df_default = pd.read_sql_query( \"select * from loan where loan_status='Charged Off' OR loan_status='Default' OR loan_status='Late (31-120 days)' OR loan_status='Late (16-30 days)' OR loan_status='Does not meet the credit policy. Status:Charged Off' AND id in(select id from loan order by random());\", conn)\n",
    "df_fully_paid = pd.read_sql_query(\"select * from loan where loan_status='Issued' OR loan_status='Fully Paid' OR loan_status='In Grace Period' OR loan_status='Does not meet the credit policy. Status:Fully Paid' AND id in(select id from loan order by random());\" , conn)\n",
    "# df_default = pd.read_sql_query(\"select\",conn)\n",
    "conn.close()\n",
    "# df = pd.read_sql_query(\"select * from loan where id in(select id from loan order by random() limit 200000);\", conn)\n",
    "# df_validation = pd.read_sql_query(\"select * from loan where id in(selec id from loan order by random() limit 100000);\", conn)\n",
    "# print(df)"
   ]
  },
  {
   "cell_type": "code",
   "execution_count": 10,
   "metadata": {},
   "outputs": [
    {
     "name": "stdout",
     "output_type": "stream",
     "text": [
      "61176\n",
      "224425\n",
      "50000\n",
      "        index        id   member_id  loan_amnt  funded_amnt  funded_amnt_inv  \\\n",
      "0      325605  44876424  47954195.0    20000.0      20000.0     20000.000000   \n",
      "1       37574    379465    405903.0    14000.0      14000.0     13896.090645   \n",
      "2       54635  30175683  32718901.0    11100.0      11100.0     11100.000000   \n",
      "3      186008   1106937   1343487.0    12000.0      12000.0     12000.000000   \n",
      "4      394055  38610029  41393959.0    10000.0      10000.0     10000.000000   \n",
      "5      175805   1266664   1510199.0    13475.0      13475.0     13450.000000   \n",
      "6      193792  12956975  14989161.0    30000.0      30000.0     30000.000000   \n",
      "7       19499   8614925  10387050.0     5475.0       5475.0      5475.000000   \n",
      "8       35855   7730393   9431814.0     8500.0       8500.0      8500.000000   \n",
      "9       63695  29193517  31726680.0     5000.0       5000.0      5000.000000   \n",
      "10      43835   7444706   9106857.0     4000.0       4000.0      4000.000000   \n",
      "11       7455    882355   1097577.0     1000.0       1000.0      1000.000000   \n",
      "12      22428  31547698  34140900.0    16000.0      16000.0     16000.000000   \n",
      "13     176953  14558406  16620764.0     5175.0       5175.0      5175.000000   \n",
      "14      72961   5774217   7205975.0    28000.0      28000.0     28000.000000   \n",
      "15      96485   5031658   6334084.0    20000.0      20000.0     19950.000000   \n",
      "16     284356  48696064  51944847.0    19000.0      19000.0     19000.000000   \n",
      "17      21404    644561    824795.0    10000.0      10000.0      9947.983882   \n",
      "18     108355   4165544   5307775.0     7000.0       7000.0      7000.000000   \n",
      "19      82172  26288765  28761675.0    18000.0      18000.0     18000.000000   \n",
      "20      99984   4525499   5787701.0    10000.0      10000.0     10000.000000   \n",
      "21     260408  50486345  53866106.0     3625.0       3625.0      3625.000000   \n",
      "22     121818   3324823   4116987.0    11500.0      11500.0     11500.000000   \n",
      "23      32441    483129    614716.0    16000.0      16000.0     15975.000000   \n",
      "24     131172   3067180   3739834.0    35000.0      35000.0     34950.000000   \n",
      "25      43291  31728095  34331308.0    10850.0      10850.0     10850.000000   \n",
      "26     344863  41112637  43988525.0     3600.0       3600.0      3600.000000   \n",
      "27     158112   1501373   1762366.0     7100.0       7100.0      7100.000000   \n",
      "28      40768   7626242   9308314.0    20000.0      20000.0     20000.000000   \n",
      "29      41280    381373    409482.0    10000.0      10000.0      6273.339439   \n",
      "...       ...       ...         ...        ...          ...              ...   \n",
      "24970  172925   1315603   1561000.0    20000.0      20000.0     19750.000000   \n",
      "24971   16460    732505    928715.0     1200.0       1200.0      1200.000000   \n",
      "24972  169688  15379642  17452094.0    21000.0      21000.0     21000.000000   \n",
      "24973  165303   1419858   1670028.0    27000.0      27000.0     27000.000000   \n",
      "24974   43384   7366766   9028827.0    17450.0      17450.0     17450.000000   \n",
      "24975   63155  29064114  31597298.0    12000.0      12000.0     12000.000000   \n",
      "24976  175176   1278502   1521739.0    18000.0      18000.0     18000.000000   \n",
      "24977   93264  24545112  26968024.0     3600.0       3600.0      3600.000000   \n",
      "24978   85931   5105289   6427577.0    10000.0      10000.0     10000.000000   \n",
      "24979  174742  57764300  61517080.0    10525.0      10525.0     10375.000000   \n",
      "24980    2842  68564978  73454749.0    12000.0      12000.0     12000.000000   \n",
      "24981  323973  45212406  48290129.0     2400.0       2400.0      2400.000000   \n",
      "24982  183367   1147856   1388794.0    13500.0      13500.0     13500.000000   \n",
      "24983    6011  68202773  73070501.0    19000.0      19000.0     19000.000000   \n",
      "24984    5054    992292   1216601.0     2000.0       2000.0      2000.000000   \n",
      "24985  160396  16191656  18294145.0     9000.0       9000.0      9000.000000   \n",
      "24986   67588   6525147   7201665.0    20000.0      20000.0     20000.000000   \n",
      "24987  138318  19185268  21388026.0    15000.0      15000.0     15000.000000   \n",
      "24988  116172  21100711  23383380.0    10400.0      10400.0     10400.000000   \n",
      "24989   79278   5965543   7437711.0     5600.0       5600.0      5600.000000   \n",
      "24990  198408  12606919  14619082.0    17000.0      17000.0     17000.000000   \n",
      "24991   61383   1429650   1680684.0    21125.0      21125.0     21125.000000   \n",
      "24992  167232   1398023   1645034.0     5700.0       5700.0      5700.000000   \n",
      "24993  177273   1217965   1458762.0    12000.0      12000.0     11975.000000   \n",
      "24994  334734  44047789  47064592.0    15000.0      15000.0     15000.000000   \n",
      "24995   38852    329511    329369.0     6400.0       6400.0      2353.120000   \n",
      "24996   77623   5958870   7431276.0     2400.0       2400.0      2400.000000   \n",
      "24997  139921   2088396   2420826.0    15000.0      15000.0     15000.000000   \n",
      "24998  147544   1626430   1898688.0    21000.0      21000.0     21000.000000   \n",
      "24999  159063   1475364   1732686.0     4000.0       4000.0      4000.000000   \n",
      "\n",
      "             term int_rate  installment grade     ...      total_bal_il  \\\n",
      "0       36 months   13.33%       677.07     C     ...              None   \n",
      "1       36 months   14.42%       481.36     D     ...              None   \n",
      "2       36 months   19.52%       409.81     E     ...              None   \n",
      "3       36 months   12.42%       400.99     B     ...              None   \n",
      "4       60 months   21.99%       276.14     E     ...              None   \n",
      "5       36 months   13.99%       460.48     C     ...              None   \n",
      "6       36 months   24.99%      1192.64     F     ...              None   \n",
      "7       36 months   14.30%       187.93     C     ...              None   \n",
      "8       36 months   22.40%       326.39     E     ...              None   \n",
      "9       36 months   15.61%       174.83     D     ...              None   \n",
      "10      36 months   15.61%       139.86     C     ...              None   \n",
      "11      36 months   15.27%        34.80     C     ...              None   \n",
      "12      60 months   20.99%       432.77     E     ...              None   \n",
      "13      36 months   24.50%       204.40     F     ...              None   \n",
      "14      60 months   15.88%       679.13     C     ...              None   \n",
      "15      36 months   17.77%       720.75     D     ...              None   \n",
      "16      36 months   12.29%       633.71     C     ...              None   \n",
      "17      60 months   15.20%       238.96     D     ...              None   \n",
      "18      36 months   17.77%       252.26     D     ...              None   \n",
      "19      36 months   13.35%       609.54     C     ...              None   \n",
      "20      36 months   18.75%       365.30     D     ...              None   \n",
      "21      36 months   18.25%       131.51     E     ...              None   \n",
      "22      36 months   18.49%       418.59     D     ...              None   \n",
      "23      36 months   13.48%       542.79     C     ...              None   \n",
      "24      36 months   14.33%      1201.84     C     ...              None   \n",
      "25      36 months   16.29%       383.01     D     ...              None   \n",
      "26      36 months   12.69%       120.77     C     ...              None   \n",
      "27      36 months   12.12%       236.23     B     ...              None   \n",
      "28      36 months   13.67%       680.36     B     ...              None   \n",
      "29      36 months   14.42%       343.83     D     ...              None   \n",
      "...           ...      ...          ...   ...     ...               ...   \n",
      "24970   60 months   12.12%       446.11     B     ...               NaN   \n",
      "24971   36 months   10.00%        38.73     B     ...               NaN   \n",
      "24972   60 months   17.57%       528.37     D     ...               NaN   \n",
      "24973   36 months   15.31%       940.07     C     ...               NaN   \n",
      "24974   36 months    8.60%       551.67     A     ...               NaN   \n",
      "24975   60 months   22.15%       332.46     E     ...               NaN   \n",
      "24976   60 months   18.55%       462.49     D     ...               NaN   \n",
      "24977   36 months   18.99%       131.95     E     ...               NaN   \n",
      "24978   36 months   11.14%       328.06     B     ...               NaN   \n",
      "24979   60 months   13.99%       244.85     C     ...               NaN   \n",
      "24980   60 months   13.99%       279.16     C     ...             97132   \n",
      "24981   36 months   12.29%        80.05     C     ...               NaN   \n",
      "24982   36 months   16.29%       476.56     C     ...               NaN   \n",
      "24983   36 months   14.85%       657.25     C     ...             12462   \n",
      "24984   36 months    7.90%        62.59     A     ...               NaN   \n",
      "24985   36 months   11.67%       297.52     B     ...               NaN   \n",
      "24986   36 months   12.35%       667.64     B     ...               NaN   \n",
      "24987   36 months    9.17%       478.19     B     ...               NaN   \n",
      "24988   60 months   16.99%       258.42     D     ...               NaN   \n",
      "24989   36 months    7.62%       174.51     A     ...               NaN   \n",
      "24990   60 months   18.25%       434.01     D     ...               NaN   \n",
      "24991   60 months   25.99%       632.37     G     ...               NaN   \n",
      "24992   36 months   10.16%       184.36     B     ...               NaN   \n",
      "24993   36 months    6.62%       368.45     A     ...               NaN   \n",
      "24994   60 months   16.99%       372.71     D     ...               NaN   \n",
      "24995   36 months   12.29%       213.46     C     ...               NaN   \n",
      "24996   36 months   17.56%        86.24     D     ...               NaN   \n",
      "24997   36 months   12.12%       499.08     B     ...               NaN   \n",
      "24998   36 months   14.09%       718.65     B     ...               NaN   \n",
      "24999   36 months   14.09%       136.89     B     ...               NaN   \n",
      "\n",
      "      il_util open_rv_12m open_rv_24m  max_bal_bc all_util total_rev_hi_lim  \\\n",
      "0        None        None        None        None     None          28900.0   \n",
      "1        None        None        None        None     None              NaN   \n",
      "2        None        None        None        None     None           5900.0   \n",
      "3        None        None        None        None     None              NaN   \n",
      "4        None        None        None        None     None           2800.0   \n",
      "5        None        None        None        None     None              NaN   \n",
      "6        None        None        None        None     None          46500.0   \n",
      "7        None        None        None        None     None          24000.0   \n",
      "8        None        None        None        None     None           7900.0   \n",
      "9        None        None        None        None     None           3800.0   \n",
      "10       None        None        None        None     None          26800.0   \n",
      "11       None        None        None        None     None              NaN   \n",
      "12       None        None        None        None     None          15600.0   \n",
      "13       None        None        None        None     None           6300.0   \n",
      "14       None        None        None        None     None          65184.0   \n",
      "15       None        None        None        None     None          29500.0   \n",
      "16       None        None        None        None     None          15400.0   \n",
      "17       None        None        None        None     None              NaN   \n",
      "18       None        None        None        None     None          14200.0   \n",
      "19       None        None        None        None     None         111000.0   \n",
      "20       None        None        None        None     None          13000.0   \n",
      "21       None        None        None        None     None           9200.0   \n",
      "22       None        None        None        None     None          37600.0   \n",
      "23       None        None        None        None     None              NaN   \n",
      "24       None        None        None        None     None          32180.0   \n",
      "25       None        None        None        None     None          16300.0   \n",
      "26       None        None        None        None     None          37300.0   \n",
      "27       None        None        None        None     None          16000.0   \n",
      "28       None        None        None        None     None          94569.0   \n",
      "29       None        None        None        None     None              NaN   \n",
      "...       ...         ...         ...         ...      ...              ...   \n",
      "24970     NaN         NaN         NaN         NaN      NaN              NaN   \n",
      "24971     NaN         NaN         NaN         NaN      NaN              NaN   \n",
      "24972     NaN         NaN         NaN         NaN      NaN          36800.0   \n",
      "24973     NaN         NaN         NaN         NaN      NaN              NaN   \n",
      "24974     NaN         NaN         NaN         NaN      NaN          54300.0   \n",
      "24975     NaN         NaN         NaN         NaN      NaN           8900.0   \n",
      "24976     NaN         NaN         NaN         NaN      NaN              NaN   \n",
      "24977     NaN         NaN         NaN         NaN      NaN          32000.0   \n",
      "24978     NaN         NaN         NaN         NaN      NaN          23400.0   \n",
      "24979     NaN         NaN         NaN         NaN      NaN          12700.0   \n",
      "24980   117.6           0           0        8962    112.1          13000.0   \n",
      "24981     NaN         NaN         NaN         NaN      NaN          10600.0   \n",
      "24982     NaN         NaN         NaN         NaN      NaN              NaN   \n",
      "24983    77.9           1           7        5456       38          73500.0   \n",
      "24984     NaN         NaN         NaN         NaN      NaN              NaN   \n",
      "24985     NaN         NaN         NaN         NaN      NaN          49900.0   \n",
      "24986     NaN         NaN         NaN         NaN      NaN          39600.0   \n",
      "24987     NaN         NaN         NaN         NaN      NaN          36500.0   \n",
      "24988     NaN         NaN         NaN         NaN      NaN          11600.0   \n",
      "24989     NaN         NaN         NaN         NaN      NaN          28100.0   \n",
      "24990     NaN         NaN         NaN         NaN      NaN          22200.0   \n",
      "24991     NaN         NaN         NaN         NaN      NaN          13500.0   \n",
      "24992     NaN         NaN         NaN         NaN      NaN              NaN   \n",
      "24993     NaN         NaN         NaN         NaN      NaN              NaN   \n",
      "24994     NaN         NaN         NaN         NaN      NaN          18600.0   \n",
      "24995     NaN         NaN         NaN         NaN      NaN              NaN   \n",
      "24996     NaN         NaN         NaN         NaN      NaN          30000.0   \n",
      "24997     NaN         NaN         NaN         NaN      NaN          33300.0   \n",
      "24998     NaN         NaN         NaN         NaN      NaN          48567.0   \n",
      "24999     NaN         NaN         NaN         NaN      NaN           8600.0   \n",
      "\n",
      "      inq_fi total_cu_tl inq_last_12m  \n",
      "0       None        None         None  \n",
      "1       None        None         None  \n",
      "2       None        None         None  \n",
      "3       None        None         None  \n",
      "4       None        None         None  \n",
      "5       None        None         None  \n",
      "6       None        None         None  \n",
      "7       None        None         None  \n",
      "8       None        None         None  \n",
      "9       None        None         None  \n",
      "10      None        None         None  \n",
      "11      None        None         None  \n",
      "12      None        None         None  \n",
      "13      None        None         None  \n",
      "14      None        None         None  \n",
      "15      None        None         None  \n",
      "16      None        None         None  \n",
      "17      None        None         None  \n",
      "18      None        None         None  \n",
      "19      None        None         None  \n",
      "20      None        None         None  \n",
      "21      None        None         None  \n",
      "22      None        None         None  \n",
      "23      None        None         None  \n",
      "24      None        None         None  \n",
      "25      None        None         None  \n",
      "26      None        None         None  \n",
      "27      None        None         None  \n",
      "28      None        None         None  \n",
      "29      None        None         None  \n",
      "...      ...         ...          ...  \n",
      "24970    NaN         NaN          NaN  \n",
      "24971    NaN         NaN          NaN  \n",
      "24972    NaN         NaN          NaN  \n",
      "24973    NaN         NaN          NaN  \n",
      "24974    NaN         NaN          NaN  \n",
      "24975    NaN         NaN          NaN  \n",
      "24976    NaN         NaN          NaN  \n",
      "24977    NaN         NaN          NaN  \n",
      "24978    NaN         NaN          NaN  \n",
      "24979    NaN         NaN          NaN  \n",
      "24980      0           0            1  \n",
      "24981    NaN         NaN          NaN  \n",
      "24982    NaN         NaN          NaN  \n",
      "24983      1           2            3  \n",
      "24984    NaN         NaN          NaN  \n",
      "24985    NaN         NaN          NaN  \n",
      "24986    NaN         NaN          NaN  \n",
      "24987    NaN         NaN          NaN  \n",
      "24988    NaN         NaN          NaN  \n",
      "24989    NaN         NaN          NaN  \n",
      "24990    NaN         NaN          NaN  \n",
      "24991    NaN         NaN          NaN  \n",
      "24992    NaN         NaN          NaN  \n",
      "24993    NaN         NaN          NaN  \n",
      "24994    NaN         NaN          NaN  \n",
      "24995    NaN         NaN          NaN  \n",
      "24996    NaN         NaN          NaN  \n",
      "24997    NaN         NaN          NaN  \n",
      "24998    NaN         NaN          NaN  \n",
      "24999    NaN         NaN          NaN  \n",
      "\n",
      "[50000 rows x 75 columns]\n"
     ]
    }
   ],
   "source": [
    "# split the data sets into training and validation\n",
    "#for row in df.itertuples():\n",
    "#   print(row[1])\n",
    "# shuffle that dataframe frac = 1 means return all elements sshuffled not a preportion\n",
    "df = df.sample(frac=1).reset_index(drop=True)\n",
    "# print(df)\n",
    "# grab a random set of 25,000 \"default\" examples\n",
    "df_default_pick = df_default.sample(frac=(25000/(float(len(df_default))))).reset_index(drop=True)\n",
    "# grab a random set of 25,000 \"fully paid\" examples\n",
    "df_fully_paid_pick = df_fully_paid.sample(frac=(25000/(float(len(df_fully_paid))))).reset_index(drop=True)\n",
    "\n",
    "# data_train = df.iloc[:int(len(df)/2), :]\n",
    "# append the training sets together first 25,000 defaults, next 25,000 non-defaults\n",
    "data_train = df_default_pick.append(df_fully_paid_pick)\n",
    "# data_validation = df.iloc[int(len(df)/2):, :]\n",
    "print(len(df_default))\n",
    "print(len(df_fully_paid))\n",
    "print(len(data_train))\n",
    "print(data_train)\n"
   ]
  },
  {
   "cell_type": "code",
   "execution_count": 11,
   "metadata": {
    "scrolled": true
   },
   "outputs": [
    {
     "name": "stdout",
     "output_type": "stream",
     "text": [
      "{'A1': 1, 'A2': 2, 'A3': 3, 'A4': 4, 'A5': 5, 'B1': 6, 'B2': 7, 'B3': 8, 'B4': 9, 'B5': 10, 'C1': 11, 'C2': 12, 'C3': 13, 'C4': 14, 'C5': 15, 'D1': 16, 'D2': 17, 'D3': 18, 'D4': 19, 'D5': 20, 'E1': 21, 'E2': 22, 'E3': 23, 'E4': 24, 'E5': 25, 'F1': 26, 'F2': 27, 'F3': 28, 'F4': 29, 'F5': 30, 'G1': 31, 'G2': 32, 'G3': 33, 'G4': 34, 'G5': 35}\n",
      "[RangeIndex(start=0, stop=271653, step=1), Index(['loan_amnt', 'id', 'loan_status', 'sub_grade'], dtype='object')]\n"
     ]
    }
   ],
   "source": [
    "# set up \n",
    "\n",
    "sub_g_labels = ['A1','A2','A3','A4','A5','B1','B2','B3','B4','B5','C1','C2','C3','C4','C5','D1','D2','D3'\\\n",
    "            ,'D4','D5','E1','E2','E3','E4','E5','F1','F2','F3','F4','F5','G1','G2','G3','G4','G5']\n",
    "\n",
    "# make sub_grade \n",
    "# give sub grade numeric value.\n",
    "grade_v = [(1.0/35 * i) for i in range(1, 36)]\n",
    "\n",
    "# dictionary to make sub_grade val to sub_grade string\n",
    "# sub_grade_dict = dict(zip(sub_g_labels, grade_v))\n",
    "sub_grade_dict = dict(zip(sub_g_labels, range(1, 36)))\n",
    "\n",
    "print(sub_grade_dict)\n",
    "print(df.axes)"
   ]
  },
  {
   "cell_type": "code",
   "execution_count": 14,
   "metadata": {
    "collapsed": true,
    "scrolled": true
   },
   "outputs": [],
   "source": [
    "# need to build my feature vecotr\n",
    "# X_train = f['sub_grade','loan_amnt']\n",
    "# need y predictions combine(charged off/default(True(1)) or fully paid(False(0)))\n",
    "# y_train =[]\n",
    "# 11th spot in the pandas df if read in all columns\n",
    "sub_grade = 11\n",
    "loan_amnt = 4\n",
    "loan_status = 18\n",
    "\n",
    "def feature(datum):\n",
    "    # create our simplistic featur vector\n",
    "    #print(datum)\n",
    "    s_grade = datum[sub_grade]\n",
    "    # print(datum[sub_grade])\n",
    "    return [sub_grade_dict[datum[sub_grade]], datum[loan_amnt]]\n",
    "\n",
    "\n",
    "default = 0\n",
    "paid = 0\n",
    "def prediction_of_y(datum):\n",
    "    if ((datum[loan_status] == 'Charged Off') or (datum[loan_status] == 'Default') or (datum[loan_status] == 'Late (31-120 days)' ) or (datum[loan_status] == 'Late (16-30 days)') or (datum[loan_status] =='Does not meet the credit policy. Status:Charged Off')):\n",
    "        global default \n",
    "        default += 1\n",
    "        return True\n",
    "    else:\n",
    "        global paid \n",
    "        paid += 1\n",
    "        return False\n",
    "\n",
    "# X_train = [feature(d) for d in data_train]\n",
    "X_train = []\n",
    "for row in data_train.itertuples():\n",
    "    X_train.append(feature(row))\n",
    "    \n",
    "# y_train = [prediction_of_y(d) for d in data_train]\n",
    "y_train = []\n",
    "paid = 0\n",
    "for row in data_train.itertuples():\n",
    "    y_train.append(prediction_of_y(row))\n",
    "    "
   ]
  },
  {
   "cell_type": "code",
   "execution_count": 15,
   "metadata": {},
   "outputs": [
    {
     "ename": "IndexError",
     "evalue": "tuple index out of range",
     "output_type": "error",
     "traceback": [
      "\u001b[1;31m---------------------------------------------------------------------------\u001b[0m",
      "\u001b[1;31mIndexError\u001b[0m                                Traceback (most recent call last)",
      "\u001b[1;32m<ipython-input-15-ad047c2188cc>\u001b[0m in \u001b[0;36m<module>\u001b[1;34m()\u001b[0m\n\u001b[0;32m      2\u001b[0m \u001b[1;32mfor\u001b[0m \u001b[0mrow\u001b[0m \u001b[1;32min\u001b[0m \u001b[0mdf\u001b[0m\u001b[1;33m.\u001b[0m\u001b[0mitertuples\u001b[0m\u001b[1;33m(\u001b[0m\u001b[1;33m)\u001b[0m\u001b[1;33m:\u001b[0m\u001b[1;33m\u001b[0m\u001b[0m\n\u001b[0;32m      3\u001b[0m     \u001b[1;31m# print(row[3])\u001b[0m\u001b[1;33m\u001b[0m\u001b[1;33m\u001b[0m\u001b[0m\n\u001b[1;32m----> 4\u001b[1;33m     \u001b[1;32mif\u001b[0m \u001b[0mrow\u001b[0m\u001b[1;33m[\u001b[0m\u001b[0mloan_status\u001b[0m\u001b[1;33m]\u001b[0m \u001b[1;32mnot\u001b[0m \u001b[1;32min\u001b[0m \u001b[0ml_status_dict\u001b[0m\u001b[1;33m:\u001b[0m\u001b[1;33m\u001b[0m\u001b[0m\n\u001b[0m\u001b[0;32m      5\u001b[0m         \u001b[0ml_status_dict\u001b[0m\u001b[1;33m[\u001b[0m\u001b[0mrow\u001b[0m\u001b[1;33m[\u001b[0m\u001b[0mloan_status\u001b[0m\u001b[1;33m]\u001b[0m\u001b[1;33m]\u001b[0m \u001b[1;33m+=\u001b[0m \u001b[1;36m1\u001b[0m\u001b[1;33m\u001b[0m\u001b[0m\n\u001b[0;32m      6\u001b[0m \u001b[1;33m\u001b[0m\u001b[0m\n",
      "\u001b[1;31mIndexError\u001b[0m: tuple index out of range"
     ]
    }
   ],
   "source": [
    "l_status_dict = defaultdict(int)\n",
    "for row in df.itertuples():\n",
    "    # print(row[3])\n",
    "    if row[loan_status] not in l_status_dict:\n",
    "        l_status_dict[row[loan_status]] += 1\n",
    "        \n",
    "print(l_status_dict.keys())\n",
    "print(default)\n",
    "print(paid)"
   ]
  },
  {
   "cell_type": "code",
   "execution_count": 16,
   "metadata": {
    "collapsed": true,
    "scrolled": true
   },
   "outputs": [],
   "source": [
    "# a = list(zip(X_train[:50],y_train[:50]))\n",
    "# print(a)\n",
    "# pipline to scale the feature vectors and run the svm\n",
    "rbf_svm_clf = Pipeline((\n",
    "        ('scaler', StandardScaler()),\n",
    "        (\"rbf_svc\", SVC(kernel='rbf', C=1))\n",
    "    ))\n",
    "\n",
    "# scaler.transform(X_train)"
   ]
  },
  {
   "cell_type": "code",
   "execution_count": 17,
   "metadata": {},
   "outputs": [
    {
     "name": "stdout",
     "output_type": "stream",
     "text": [
      "[ True  True  True ..., False False False]\n"
     ]
    }
   ],
   "source": [
    "# clf = svm.SVC(C=1, kernel='rbf')\n",
    "# clf.fit(scaler.transform(X_train), y_train)\n",
    "rbf_svm_clf.fit(X_train, y_train)\n",
    "train_predictions = rbf_svm_clf.predict(X_train)\n",
    "# test_predictions = clf.predict(X_test)\n",
    "print(train_predictions)"
   ]
  },
  {
   "cell_type": "code",
   "execution_count": 18,
   "metadata": {},
   "outputs": [
    {
     "name": "stdout",
     "output_type": "stream",
     "text": [
      "25530\n"
     ]
    }
   ],
   "source": [
    "print(sum(train_predictions))"
   ]
  },
  {
   "cell_type": "code",
   "execution_count": 19,
   "metadata": {},
   "outputs": [
    {
     "name": "stdout",
     "output_type": "stream",
     "text": [
      "25000\n",
      "0.5\n"
     ]
    }
   ],
   "source": [
    "numFalseNeeded = 1 - sum(y_train)/len(y_train)\n",
    "print(sum(y_train))\n",
    "print(numFalseNeeded)"
   ]
  },
  {
   "cell_type": "code",
   "execution_count": 20,
   "metadata": {},
   "outputs": [
    {
     "name": "stdout",
     "output_type": "stream",
     "text": [
      "0.62756\n"
     ]
    }
   ],
   "source": [
    "# what % acc did we get?\n",
    "\n",
    "results = list(zip(train_predictions,y_train))\n",
    "correct = 0\n",
    "for i in range(len(results)):\n",
    "    if results[i][0] == results[i][1]:\n",
    "        correct +=1\n",
    "\n",
    "print(correct/float(len(results)))"
   ]
  },
  {
   "cell_type": "code",
   "execution_count": null,
   "metadata": {
    "collapsed": true
   },
   "outputs": [],
   "source": []
  }
 ],
 "metadata": {
  "kernelspec": {
   "display_name": "Python 3",
   "language": "python",
   "name": "python3"
  },
  "language_info": {
   "codemirror_mode": {
    "name": "ipython",
    "version": 3
   },
   "file_extension": ".py",
   "mimetype": "text/x-python",
   "name": "python",
   "nbconvert_exporter": "python",
   "pygments_lexer": "ipython3",
   "version": "3.6.3"
  }
 },
 "nbformat": 4,
 "nbformat_minor": 2
}
