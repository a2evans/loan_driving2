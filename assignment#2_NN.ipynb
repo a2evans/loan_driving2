{
 "cells": [
  {
   "cell_type": "code",
   "execution_count": 1,
   "metadata": {
    "collapsed": true
   },
   "outputs": [],
   "source": [
    "import pandas as pd\n",
    "import numpy as np\n",
    "import os\n",
    "import scipy\n",
    "import sqlite3\n",
    "import tensorflow as tf\n",
    "import string\n",
    "from sklearn.metrics import accuracy_score\n",
    "from sklearn import preprocessing\n",
    "from sklearn.linear_model import LogisticRegression\n",
    "from sklearn.metrics import average_precision_score"
   ]
  },
  {
   "cell_type": "code",
   "execution_count": 2,
   "metadata": {
    "collapsed": true
   },
   "outputs": [],
   "source": [
    "# create our data set\n",
    "curr_path = os.path.realpath('')\n",
    "conn = sqlite3.connect(curr_path+\"/lending-club-loan-data/database.sqlite\")\n",
    "\n",
    "###@@@@@ \n",
    "#         add loan_amnt and annual_inc back later \n",
    "###@@@@\n",
    "\n",
    "df_tf = pd.read_sql_query(\"select loan_status, term, int_rate, emp_length, home_ownership, verification_status, dti, loan_amnt, annual_inc from loan where id in (select id from loan order by random()) AND emp_length != 'n/a' AND int_rate != 'NULL' AND loan_status =='Fully Paid';\", conn)\n",
    "df_tf_default = pd.read_sql_query(\"select loan_status, term, int_rate, emp_length, home_ownership, verification_status, dti, loan_amnt, annual_inc from loan where id in (select id from loan order by random()) AND emp_length != 'n/a' AND int_rate != 'NULL' AND loan_status == 'Charged Off' OR loan_status == 'Default';\", conn)\n",
    "\n",
    "df_tf_test = pd.read_sql_query(\"select loan_status, term, int_rate, emp_length, home_ownership, verification_status, dti, loan_amnt, annual_inc from loan where id in (select id from loan order by random()) AND emp_length != 'n/a' AND int_rate != 'NULL' AND loan_status == 'Charged Off' OR loan_status == 'Default' OR loan_status == 'Fully Paid';\", conn)\n",
    "\n",
    "conn.close()"
   ]
  },
  {
   "cell_type": "code",
   "execution_count": 3,
   "metadata": {},
   "outputs": [],
   "source": [
    "# df_desc = pd.read_sql_query(\"select loan_amnt, loan_status, sub_grade from loan where desc != 'NULL' AND loan_status !='Current' AND loan_status !='Late (31-120 days)' AND loan_status != 'Late (16-30 days)'\", conn)\n",
    "df_tf_paid = df_tf.sample(frac=(40000/float(len(df_tf)))).reset_index(drop=True)\n",
    "df_tf_default = df_tf_default.sample(frac=40000/float(len(df_tf_default))).reset_index(drop=True)\n",
    "df_tf_test = df_tf_test.sample(frac=40000/float(len(df_tf_test))).reset_index(drop=True)"
   ]
  },
  {
   "cell_type": "code",
   "execution_count": 4,
   "metadata": {},
   "outputs": [
    {
     "name": "stdout",
     "output_type": "stream",
     "text": [
      "200352\n",
      "40000\n",
      "80000\n",
      "40000\n"
     ]
    }
   ],
   "source": [
    "print (len(df_tf))\n",
    "print(len(df_tf_default))\n",
    "\n",
    "# this set is split between half paid and half default/charged-offs\n",
    "df_tf = df_tf_paid.append(df_tf_default, ignore_index=True)\n",
    "print (len(df_tf))\n",
    "print (len(df_tf_test))\n",
    "\n",
    "#results = [0]*40000 + [1]*40000\n",
    "# df_tf = split_data"
   ]
  },
  {
   "cell_type": "code",
   "execution_count": 5,
   "metadata": {},
   "outputs": [],
   "source": [
    "def feature(datum):\n",
    "    data = []\n",
    "    for i in range(len(datum)):  # data set of 10000 for faster run time. Replace with range(len(df_tf)) later\n",
    "        # 0 if term is 36 months, 1 if 60 months\n",
    "        term = 0 if datum.iloc[i][1] == ' 36 months' else 1\n",
    "    \n",
    "        # change interest rate from str to float\n",
    "        if type(datum.iloc[i][2]) == str:     # condition to prevent calling replace on NoneTypes\n",
    "            int_rate = float(datum.iloc[i][2].replace('%', ''))\n",
    "        \n",
    "        # get employment length\n",
    "        txt = ''.join([c for c in datum.iloc[i][3].lower() if not c in set(string.punctuation)])\n",
    "        emp_length_list = ([int(s) for s in txt.split() if s.isdigit()])\n",
    "        emp_length = 0 if emp_length_list == [] else emp_length_list[0]\n",
    "\n",
    "        # 0 if renting, 1 if owner\n",
    "        ownership = 0 if datum.iloc[i][4] == 'RENT' else 1\n",
    "\n",
    "        # verification sttus, 0 for not verified, 1 for source verified and 2 for verified\n",
    "        #verification = 0 if df_tf.iloc[i][5] == 'Not Verified' else 1 if df_tf.iloc[i][5] == 'Source Verified' else 2\n",
    "        verification = 0 if datum.iloc[i][5] == 'Not Verified' else 1\n",
    "        \n",
    "        loan_amount = 35000 if datum.iloc[i][7] > 500000 else datum.iloc[i][7]\n",
    "        # append in feature vector\n",
    "        data.append([term, int_rate, emp_length, ownership, verification, datum.iloc[i][6], loan_amount, datum.iloc[i][8]])\n",
    "        # data.append([term, int_rate, emp_length, ownership, verification, df_tf.iloc[i][6]])\n",
    "    return data\n",
    "\n",
    "def get_labels(datum):\n",
    "    results = []\n",
    "    for i in range(len(datum)):  # data set of 10000 for faster run time. Replace with range(len(df_tf)) later\n",
    "        loan_status = 0 if datum.iloc[i][0] == 'Fully Paid' else 1 # bad if not fully paid\n",
    "        results.append(loan_status)     # add to results \n",
    "    return results"
   ]
  },
  {
   "cell_type": "code",
   "execution_count": 6,
   "metadata": {
    "scrolled": true
   },
   "outputs": [],
   "source": [
    "data = feature(df_tf)\n",
    "results = get_labels(df_tf)"
   ]
  },
  {
   "cell_type": "code",
   "execution_count": 7,
   "metadata": {},
   "outputs": [],
   "source": [
    "data_test = feature(df_tf_test)\n",
    "results_test = get_labels(df_tf_test)"
   ]
  },
  {
   "cell_type": "code",
   "execution_count": 8,
   "metadata": {},
   "outputs": [
    {
     "name": "stdout",
     "output_type": "stream",
     "text": [
      "12.95323\n"
     ]
    }
   ],
   "source": [
    "print( float(\"12.95323%\".replace('%', '')))"
   ]
  },
  {
   "cell_type": "code",
   "execution_count": 9,
   "metadata": {},
   "outputs": [],
   "source": [
    "#print (df_tf)"
   ]
  },
  {
   "cell_type": "code",
   "execution_count": 21,
   "metadata": {},
   "outputs": [],
   "source": [
    "X_train = data\n",
    "y_train = results\n",
    "\n",
    "X_val = data_test[:int(len(data_test)*0.3)]\n",
    "y_val = results_test[:int(len(results_test)*.3)]\n",
    "\n",
    "X_test1 = data_test[int(len(data_test)*.3) : int(len(data_test)*0.5)]\n",
    "y_test1 = results_test[int(len(results_test)*.3) : int(len(data_test)*0.5)]\n",
    "\n",
    "X_test2 = data_test[int(len(data_test)*.5) : int(len(data_test)*0.7)]\n",
    "y_test2 = results_test[int(len(results_test)*.5) : int(len(data_test)*0.7)]\n",
    "\n",
    "X_test3 = data_test[int(len(data_test)*.7) : int(len(data_test)*0.9)]\n",
    "y_test3 = results_test[int(len(results_test)*.7) : int(len(data_test)*0.9)]\n",
    "\n",
    "X_test4 = data_test[int(len(data_test)*.9) : int(len(data_test)*1)]\n",
    "y_test4 = results_test[int(len(results_test)*.9) : int(len(data_test)*1)]\n",
    "\n",
    "X_test_combined = data_test[int(len(data_test)*0.3):]\n",
    "y_test_combined = results_test[int(len(results_test)*.3):]"
   ]
  },
  {
   "cell_type": "code",
   "execution_count": 11,
   "metadata": {
    "collapsed": true
   },
   "outputs": [],
   "source": [
    "### normalize and scale training set\n",
    "\n",
    "X_train_norm = preprocessing.normalize(X_train)\n",
    "scaler = preprocessing.StandardScaler().fit(X_train_norm)\n",
    "X_train_norm_std = scaler.transform(X_train_norm)\n",
    "\n",
    "X_train_arr = np.array(X_train_norm_std, \"float32\")\n",
    "y_train_arr = np.array(y_train, \"float32\")"
   ]
  },
  {
   "cell_type": "code",
   "execution_count": 12,
   "metadata": {},
   "outputs": [
    {
     "name": "stdout",
     "output_type": "stream",
     "text": [
      "40000\n",
      "80000\n",
      "80000\n"
     ]
    }
   ],
   "source": [
    "print (len(data_test))\n",
    "print (len(X_train_arr))\n",
    "print (len(y_train_arr))"
   ]
  },
  {
   "cell_type": "code",
   "execution_count": 13,
   "metadata": {},
   "outputs": [],
   "source": [
    "from sklearn.metrics import average_precision_score\n",
    "from sklearn.metrics import precision_recall_fscore_support as score\n",
    "# Function to test with logistic regressor and neural net\n",
    "# params: X, y, neural net classifier and logistic regressor\n",
    "def runTests(X, y, dnn_clf, log_clf, setName):\n",
    "    X_norm = preprocessing.normalize(X)   # normalize, scale and turn X into array \n",
    "    X_arr = np.array(scaler.transform(X_norm), \"float32\")\n",
    "    y_arr = np.array(y, \"float32\")\n",
    "    y_pred = dnn_clf.predict_classes(X_arr, as_iterable=False)\n",
    "    average_precision = average_precision_score(y_arr, y_pred)\n",
    "    precision, recall, fscore, support = score(y, y_pred)\n",
    "    print('###')\n",
    "    print ('\\t\\tRunning set: ' + setName)\n",
    "    print('Neural Net') \n",
    "    print('Accuracy: \\t' + str(accuracy_score(y, y_pred)))\n",
    "    print('Avg. precision-recall: \\t{0:0.2f}'.format(average_precision))\n",
    "    print('precision: \\t{}'.format(precision))\n",
    "    print('recall: \\t{}'.format(recall))\n",
    "    print('fscore: \\t{}'.format(fscore))\n",
    "    print('support: \\t{}'.format(support))\n",
    "\n",
    "    print('')\n",
    "    y_pred = log_clf.predict(X_norm)\n",
    "    # average_precision = average_precision_score(y, y_pred)\n",
    "    precision, recall, fscore, support = score(y, y_pred)\n",
    "    print('Logistic Regression') \n",
    "    print('Accuracy: \\t' + str(accuracy_score(y, y_pred)))\n",
    "    # print('Avg. precision-recall: \\t{0:0.2f}'.format(average_precision))\n",
    "    print('precision: \\t{}'.format(precision))\n",
    "    print('recall: \\t{}'.format(recall))\n",
    "    print('fscore: \\t{}'.format(fscore))\n",
    "    print('support: \\t{}'.format(support))\n",
    "    print('###')"
   ]
  },
  {
   "cell_type": "code",
   "execution_count": 14,
   "metadata": {
    "scrolled": true
   },
   "outputs": [
    {
     "name": "stdout",
     "output_type": "stream",
     "text": [
      "INFO:tensorflow:Using default config.\n",
      "INFO:tensorflow:Using config: {'_task_type': None, '_task_id': 0, '_cluster_spec': <tensorflow.python.training.server_lib.ClusterSpec object at 0x1a2396dfd0>, '_master': '', '_num_ps_replicas': 0, '_num_worker_replicas': 0, '_environment': 'local', '_is_chief': True, '_evaluation_master': '', '_tf_config': gpu_options {\n",
      "  per_process_gpu_memory_fraction: 1.0\n",
      "}\n",
      ", '_tf_random_seed': None, '_save_summary_steps': 100, '_save_checkpoints_secs': 600, '_save_checkpoints_steps': None, '_keep_checkpoint_max': 5, '_keep_checkpoint_every_n_hours': 10000, '_model_dir': None}\n",
      "WARNING:tensorflow:Using temporary folder as model directory: /var/folders/cv/j7y0jf0x0gbc39xntlnng44c0000gn/T/tmpa65mobhq\n",
      "WARNING:tensorflow:From <ipython-input-14-fd975b69f53d>:4: calling BaseEstimator.fit (from tensorflow.contrib.learn.python.learn.estimators.estimator) with x is deprecated and will be removed after 2016-12-01.\n",
      "Instructions for updating:\n",
      "Estimator is decoupled from Scikit Learn interface by moving into\n",
      "separate class SKCompat. Arguments x, y and batch_size are only\n",
      "available in the SKCompat class, Estimator will only accept input_fn.\n",
      "Example conversion:\n",
      "  est = Estimator(...) -> est = SKCompat(Estimator(...))\n",
      "WARNING:tensorflow:From <ipython-input-14-fd975b69f53d>:4: calling BaseEstimator.fit (from tensorflow.contrib.learn.python.learn.estimators.estimator) with y is deprecated and will be removed after 2016-12-01.\n",
      "Instructions for updating:\n",
      "Estimator is decoupled from Scikit Learn interface by moving into\n",
      "separate class SKCompat. Arguments x, y and batch_size are only\n",
      "available in the SKCompat class, Estimator will only accept input_fn.\n",
      "Example conversion:\n",
      "  est = Estimator(...) -> est = SKCompat(Estimator(...))\n",
      "WARNING:tensorflow:From <ipython-input-14-fd975b69f53d>:4: calling BaseEstimator.fit (from tensorflow.contrib.learn.python.learn.estimators.estimator) with batch_size is deprecated and will be removed after 2016-12-01.\n",
      "Instructions for updating:\n",
      "Estimator is decoupled from Scikit Learn interface by moving into\n",
      "separate class SKCompat. Arguments x, y and batch_size are only\n",
      "available in the SKCompat class, Estimator will only accept input_fn.\n",
      "Example conversion:\n",
      "  est = Estimator(...) -> est = SKCompat(Estimator(...))\n",
      "WARNING:tensorflow:From /Users/noellin/anaconda3/lib/python3.6/site-packages/tensorflow/contrib/learn/python/learn/estimators/head.py:615: scalar_summary (from tensorflow.python.ops.logging_ops) is deprecated and will be removed after 2016-11-30.\n",
      "Instructions for updating:\n",
      "Please switch to tf.summary.scalar. Note that tf.summary.scalar uses the node name instead of the tag. This means that TensorFlow will automatically de-duplicate summary names based on the scope they are created in. Also, passing a tensor or list of tags to a scalar summary op is no longer supported.\n"
     ]
    },
    {
     "name": "stderr",
     "output_type": "stream",
     "text": [
      "/Users/noellin/anaconda3/lib/python3.6/site-packages/tensorflow/python/util/deprecation.py:248: FutureWarning: comparison to `None` will result in an elementwise object comparison in the future.\n",
      "  equality = a == b\n"
     ]
    },
    {
     "name": "stdout",
     "output_type": "stream",
     "text": [
      "INFO:tensorflow:Create CheckpointSaverHook.\n",
      "INFO:tensorflow:Saving checkpoints for 1 into /var/folders/cv/j7y0jf0x0gbc39xntlnng44c0000gn/T/tmpa65mobhq/model.ckpt.\n",
      "INFO:tensorflow:loss = 1.18814, step = 1\n",
      "INFO:tensorflow:global_step/sec: 388.6\n",
      "INFO:tensorflow:loss = 0.925402, step = 101 (0.259 sec)\n",
      "INFO:tensorflow:global_step/sec: 403.696\n",
      "INFO:tensorflow:loss = 0.599526, step = 201 (0.248 sec)\n",
      "INFO:tensorflow:global_step/sec: 405.739\n",
      "INFO:tensorflow:loss = 0.625079, step = 301 (0.246 sec)\n",
      "INFO:tensorflow:global_step/sec: 407.561\n",
      "INFO:tensorflow:loss = 0.389301, step = 401 (0.246 sec)\n",
      "INFO:tensorflow:global_step/sec: 402.911\n",
      "INFO:tensorflow:loss = 1.12933, step = 501 (0.248 sec)\n",
      "INFO:tensorflow:global_step/sec: 406.496\n",
      "INFO:tensorflow:loss = 0.782817, step = 601 (0.246 sec)\n",
      "INFO:tensorflow:global_step/sec: 409.216\n",
      "INFO:tensorflow:loss = 0.569756, step = 701 (0.244 sec)\n",
      "INFO:tensorflow:global_step/sec: 417.214\n",
      "INFO:tensorflow:loss = 0.589226, step = 801 (0.240 sec)\n",
      "INFO:tensorflow:global_step/sec: 406.052\n",
      "INFO:tensorflow:loss = 0.758907, step = 901 (0.246 sec)\n",
      "INFO:tensorflow:Saving checkpoints for 1000 into /var/folders/cv/j7y0jf0x0gbc39xntlnng44c0000gn/T/tmpa65mobhq/model.ckpt.\n",
      "INFO:tensorflow:Loss for final step: 0.979375.\n"
     ]
    },
    {
     "data": {
      "text/plain": [
       "LogisticRegression(C=1.0, class_weight=None, dual=False, fit_intercept=True,\n",
       "          intercept_scaling=1, max_iter=100, multi_class='ovr', n_jobs=1,\n",
       "          penalty='l2', random_state=None, solver='liblinear', tol=0.0001,\n",
       "          verbose=0, warm_start=False)"
      ]
     },
     "execution_count": 14,
     "metadata": {},
     "output_type": "execute_result"
    }
   ],
   "source": [
    "# training with DNNClassifier\n",
    "feature_cols = tf.contrib.learn.infer_real_valued_columns_from_input(X_train_arr)\n",
    "dnn_clf = tf.contrib.learn.DNNClassifier(hidden_units=[512, 256, 128], n_classes=2, dropout = .9, feature_columns=feature_cols, activation_fn=tf.nn.tanh)\n",
    "dnn_clf.fit(X_train_arr, y_train_arr, batch_size=6, steps=1000)\n",
    "\n",
    "# training with Logistic Regression\n",
    "log_clf = LogisticRegression()\n",
    "log_clf.fit(X_train_norm, y_train)"
   ]
  },
  {
   "cell_type": "code",
   "execution_count": 15,
   "metadata": {
    "scrolled": false
   },
   "outputs": [
    {
     "name": "stdout",
     "output_type": "stream",
     "text": [
      "WARNING:tensorflow:From <ipython-input-13-fae2decdd1e4>:9: calling DNNClassifier.predict_classes (from tensorflow.contrib.learn.python.learn.estimators.dnn) with as_iterable=False is deprecated and will be removed after 2016-09-15.\n",
      "Instructions for updating:\n",
      "The default behavior of predict() is changing. The default value for\n",
      "as_iterable will change to True, and then the flag will be removed\n",
      "altogether. The behavior of this flag is described below.\n",
      "WARNING:tensorflow:From /Users/noellin/anaconda3/lib/python3.6/site-packages/tensorflow/contrib/learn/python/learn/estimators/dnn.py:422: calling BaseEstimator.predict (from tensorflow.contrib.learn.python.learn.estimators.estimator) with x is deprecated and will be removed after 2016-12-01.\n",
      "Instructions for updating:\n",
      "Estimator is decoupled from Scikit Learn interface by moving into\n",
      "separate class SKCompat. Arguments x, y and batch_size are only\n",
      "available in the SKCompat class, Estimator will only accept input_fn.\n",
      "Example conversion:\n",
      "  est = Estimator(...) -> est = SKCompat(Estimator(...))\n",
      "WARNING:tensorflow:From /Users/noellin/anaconda3/lib/python3.6/site-packages/tensorflow/contrib/learn/python/learn/estimators/dnn.py:422: calling BaseEstimator.predict (from tensorflow.contrib.learn.python.learn.estimators.estimator) with as_iterable is deprecated and will be removed after 2016-12-01.\n",
      "Instructions for updating:\n",
      "Estimator is decoupled from Scikit Learn interface by moving into\n",
      "separate class SKCompat. Arguments x, y and batch_size are only\n",
      "available in the SKCompat class, Estimator will only accept input_fn.\n",
      "Example conversion:\n",
      "  est = Estimator(...) -> est = SKCompat(Estimator(...))\n",
      "INFO:tensorflow:Restoring parameters from /var/folders/cv/j7y0jf0x0gbc39xntlnng44c0000gn/T/tmpa65mobhq/model.ckpt-1000\n"
     ]
    },
    {
     "name": "stderr",
     "output_type": "stream",
     "text": [
      "/Users/noellin/anaconda3/lib/python3.6/site-packages/tensorflow/python/util/deprecation.py:248: FutureWarning: comparison to `None` will result in an elementwise object comparison in the future.\n",
      "  equality = a == b\n"
     ]
    },
    {
     "name": "stdout",
     "output_type": "stream",
     "text": [
      "###\n",
      "\t\tRunning set: Training\n",
      "Neural Net\n",
      "Accuracy: \t0.609875\n",
      "Avg. precision-recall: \t0.57\n",
      "precision: \t[ 0.59741987  0.62598177]\n",
      "recall: \t[ 0.6738   0.54595]\n",
      "fscore: \t[ 0.63331532  0.58323318]\n",
      "support: \t[40000 40000]\n",
      "\n",
      "Logistic Regression\n",
      "Accuracy: \t0.58435\n",
      "precision: \t[ 0.57926142  0.59013678]\n",
      "recall: \t[ 0.61645  0.55225]\n",
      "fscore: \t[ 0.5972774   0.57056514]\n",
      "support: \t[40000 40000]\n",
      "###\n",
      "WARNING:tensorflow:From <ipython-input-13-fae2decdd1e4>:9: calling DNNClassifier.predict_classes (from tensorflow.contrib.learn.python.learn.estimators.dnn) with as_iterable=False is deprecated and will be removed after 2016-09-15.\n",
      "Instructions for updating:\n",
      "The default behavior of predict() is changing. The default value for\n",
      "as_iterable will change to True, and then the flag will be removed\n",
      "altogether. The behavior of this flag is described below.\n",
      "WARNING:tensorflow:From /Users/noellin/anaconda3/lib/python3.6/site-packages/tensorflow/contrib/learn/python/learn/estimators/dnn.py:422: calling BaseEstimator.predict (from tensorflow.contrib.learn.python.learn.estimators.estimator) with x is deprecated and will be removed after 2016-12-01.\n",
      "Instructions for updating:\n",
      "Estimator is decoupled from Scikit Learn interface by moving into\n",
      "separate class SKCompat. Arguments x, y and batch_size are only\n",
      "available in the SKCompat class, Estimator will only accept input_fn.\n",
      "Example conversion:\n",
      "  est = Estimator(...) -> est = SKCompat(Estimator(...))\n",
      "WARNING:tensorflow:From /Users/noellin/anaconda3/lib/python3.6/site-packages/tensorflow/contrib/learn/python/learn/estimators/dnn.py:422: calling BaseEstimator.predict (from tensorflow.contrib.learn.python.learn.estimators.estimator) with as_iterable is deprecated and will be removed after 2016-12-01.\n",
      "Instructions for updating:\n",
      "Estimator is decoupled from Scikit Learn interface by moving into\n",
      "separate class SKCompat. Arguments x, y and batch_size are only\n",
      "available in the SKCompat class, Estimator will only accept input_fn.\n",
      "Example conversion:\n",
      "  est = Estimator(...) -> est = SKCompat(Estimator(...))\n",
      "INFO:tensorflow:Restoring parameters from /var/folders/cv/j7y0jf0x0gbc39xntlnng44c0000gn/T/tmpa65mobhq/model.ckpt-1000\n",
      "###\n",
      "\t\tRunning set: Validation\n",
      "Neural Net\n",
      "Accuracy: \t0.644833333333\n",
      "Avg. precision-recall: \t0.22\n",
      "precision: \t[ 0.87357086  0.26060741]\n",
      "recall: \t[ 0.66494637  0.5509915 ]\n",
      "fscore: \t[ 0.75511377  0.35385082]\n",
      "support: \t[9882 2118]\n",
      "\n",
      "Logistic Regression\n",
      "Accuracy: \t0.601166666667\n",
      "precision: \t[ 0.86588168  0.23510723]\n",
      "recall: \t[ 0.61020036  0.55901794]\n",
      "fscore: \t[ 0.71589695  0.33100363]\n",
      "support: \t[9882 2118]\n",
      "###\n"
     ]
    }
   ],
   "source": [
    "runTests(X_train, y_train, dnn_clf, log_clf, 'Training')\n",
    "runTests(X_val, y_val, dnn_clf, log_clf, 'Validation')"
   ]
  },
  {
   "cell_type": "code",
   "execution_count": 16,
   "metadata": {
    "scrolled": false
   },
   "outputs": [
    {
     "name": "stdout",
     "output_type": "stream",
     "text": [
      "WARNING:tensorflow:From <ipython-input-13-fae2decdd1e4>:9: calling DNNClassifier.predict_classes (from tensorflow.contrib.learn.python.learn.estimators.dnn) with as_iterable=False is deprecated and will be removed after 2016-09-15.\n",
      "Instructions for updating:\n",
      "The default behavior of predict() is changing. The default value for\n",
      "as_iterable will change to True, and then the flag will be removed\n",
      "altogether. The behavior of this flag is described below.\n",
      "WARNING:tensorflow:From /Users/noellin/anaconda3/lib/python3.6/site-packages/tensorflow/contrib/learn/python/learn/estimators/dnn.py:422: calling BaseEstimator.predict (from tensorflow.contrib.learn.python.learn.estimators.estimator) with x is deprecated and will be removed after 2016-12-01.\n",
      "Instructions for updating:\n",
      "Estimator is decoupled from Scikit Learn interface by moving into\n",
      "separate class SKCompat. Arguments x, y and batch_size are only\n",
      "available in the SKCompat class, Estimator will only accept input_fn.\n",
      "Example conversion:\n",
      "  est = Estimator(...) -> est = SKCompat(Estimator(...))\n",
      "WARNING:tensorflow:From /Users/noellin/anaconda3/lib/python3.6/site-packages/tensorflow/contrib/learn/python/learn/estimators/dnn.py:422: calling BaseEstimator.predict (from tensorflow.contrib.learn.python.learn.estimators.estimator) with as_iterable is deprecated and will be removed after 2016-12-01.\n",
      "Instructions for updating:\n",
      "Estimator is decoupled from Scikit Learn interface by moving into\n",
      "separate class SKCompat. Arguments x, y and batch_size are only\n",
      "available in the SKCompat class, Estimator will only accept input_fn.\n",
      "Example conversion:\n",
      "  est = Estimator(...) -> est = SKCompat(Estimator(...))\n"
     ]
    },
    {
     "name": "stderr",
     "output_type": "stream",
     "text": [
      "/Users/noellin/anaconda3/lib/python3.6/site-packages/tensorflow/python/util/deprecation.py:248: FutureWarning: comparison to `None` will result in an elementwise object comparison in the future.\n",
      "  equality = a == b\n"
     ]
    },
    {
     "name": "stdout",
     "output_type": "stream",
     "text": [
      "INFO:tensorflow:Restoring parameters from /var/folders/cv/j7y0jf0x0gbc39xntlnng44c0000gn/T/tmpa65mobhq/model.ckpt-1000\n",
      "###\n",
      "\t\tRunning set: Test 1\n",
      "Neural Net\n",
      "Accuracy: \t0.63975\n",
      "Avg. precision-recall: \t0.22\n",
      "precision: \t[ 0.86606965  0.25747899]\n",
      "recall: \t[ 0.66331352  0.53231411]\n",
      "fscore: \t[ 0.75125151  0.34707748]\n",
      "support: \t[6561 1439]\n",
      "\n",
      "Logistic Regression\n",
      "Accuracy: \t0.59625\n",
      "precision: \t[ 0.85948629  0.23403623]\n",
      "recall: \t[ 0.60691968  0.5476025 ]\n",
      "fscore: \t[ 0.71145256  0.32792343]\n",
      "support: \t[6561 1439]\n",
      "###\n",
      "WARNING:tensorflow:From <ipython-input-13-fae2decdd1e4>:9: calling DNNClassifier.predict_classes (from tensorflow.contrib.learn.python.learn.estimators.dnn) with as_iterable=False is deprecated and will be removed after 2016-09-15.\n",
      "Instructions for updating:\n",
      "The default behavior of predict() is changing. The default value for\n",
      "as_iterable will change to True, and then the flag will be removed\n",
      "altogether. The behavior of this flag is described below.\n",
      "WARNING:tensorflow:From /Users/noellin/anaconda3/lib/python3.6/site-packages/tensorflow/contrib/learn/python/learn/estimators/dnn.py:422: calling BaseEstimator.predict (from tensorflow.contrib.learn.python.learn.estimators.estimator) with x is deprecated and will be removed after 2016-12-01.\n",
      "Instructions for updating:\n",
      "Estimator is decoupled from Scikit Learn interface by moving into\n",
      "separate class SKCompat. Arguments x, y and batch_size are only\n",
      "available in the SKCompat class, Estimator will only accept input_fn.\n",
      "Example conversion:\n",
      "  est = Estimator(...) -> est = SKCompat(Estimator(...))\n",
      "WARNING:tensorflow:From /Users/noellin/anaconda3/lib/python3.6/site-packages/tensorflow/contrib/learn/python/learn/estimators/dnn.py:422: calling BaseEstimator.predict (from tensorflow.contrib.learn.python.learn.estimators.estimator) with as_iterable is deprecated and will be removed after 2016-12-01.\n",
      "Instructions for updating:\n",
      "Estimator is decoupled from Scikit Learn interface by moving into\n",
      "separate class SKCompat. Arguments x, y and batch_size are only\n",
      "available in the SKCompat class, Estimator will only accept input_fn.\n",
      "Example conversion:\n",
      "  est = Estimator(...) -> est = SKCompat(Estimator(...))\n",
      "INFO:tensorflow:Restoring parameters from /var/folders/cv/j7y0jf0x0gbc39xntlnng44c0000gn/T/tmpa65mobhq/model.ckpt-1000\n",
      "###\n",
      "\t\tRunning set: Test 2\n",
      "Neural Net\n",
      "Accuracy: \t0.646\n",
      "Avg. precision-recall: \t0.22\n",
      "precision: \t[ 0.87619237  0.25572776]\n",
      "recall: \t[ 0.66621336  0.54920405]\n",
      "fscore: \t[ 0.75690987  0.34896552]\n",
      "support: \t[6618 1382]\n",
      "\n",
      "Logistic Regression\n",
      "Accuracy: \t0.6055\n",
      "precision: \t[ 0.87402766  0.23695136]\n",
      "recall: \t[ 0.61121185  0.57814761]\n",
      "fscore: \t[ 0.71936689  0.33613799]\n",
      "support: \t[6618 1382]\n",
      "###\n"
     ]
    }
   ],
   "source": [
    "runTests(X_test1, y_test1, dnn_clf, log_clf, 'Test 1')\n",
    "runTests(X_test2, y_test2, dnn_clf, log_clf, 'Test 2')"
   ]
  },
  {
   "cell_type": "code",
   "execution_count": 20,
   "metadata": {},
   "outputs": [
    {
     "name": "stdout",
     "output_type": "stream",
     "text": [
      "WARNING:tensorflow:From <ipython-input-13-fae2decdd1e4>:9: calling DNNClassifier.predict_classes (from tensorflow.contrib.learn.python.learn.estimators.dnn) with as_iterable=False is deprecated and will be removed after 2016-09-15.\n",
      "Instructions for updating:\n",
      "The default behavior of predict() is changing. The default value for\n",
      "as_iterable will change to True, and then the flag will be removed\n",
      "altogether. The behavior of this flag is described below.\n",
      "WARNING:tensorflow:From /Users/noellin/anaconda3/lib/python3.6/site-packages/tensorflow/contrib/learn/python/learn/estimators/dnn.py:422: calling BaseEstimator.predict (from tensorflow.contrib.learn.python.learn.estimators.estimator) with x is deprecated and will be removed after 2016-12-01.\n",
      "Instructions for updating:\n",
      "Estimator is decoupled from Scikit Learn interface by moving into\n",
      "separate class SKCompat. Arguments x, y and batch_size are only\n",
      "available in the SKCompat class, Estimator will only accept input_fn.\n",
      "Example conversion:\n",
      "  est = Estimator(...) -> est = SKCompat(Estimator(...))\n",
      "WARNING:tensorflow:From /Users/noellin/anaconda3/lib/python3.6/site-packages/tensorflow/contrib/learn/python/learn/estimators/dnn.py:422: calling BaseEstimator.predict (from tensorflow.contrib.learn.python.learn.estimators.estimator) with as_iterable is deprecated and will be removed after 2016-12-01.\n",
      "Instructions for updating:\n",
      "Estimator is decoupled from Scikit Learn interface by moving into\n",
      "separate class SKCompat. Arguments x, y and batch_size are only\n",
      "available in the SKCompat class, Estimator will only accept input_fn.\n",
      "Example conversion:\n",
      "  est = Estimator(...) -> est = SKCompat(Estimator(...))\n",
      "INFO:tensorflow:Restoring parameters from /var/folders/cv/j7y0jf0x0gbc39xntlnng44c0000gn/T/tmpa65mobhq/model.ckpt-1000\n"
     ]
    },
    {
     "name": "stderr",
     "output_type": "stream",
     "text": [
      "/Users/noellin/anaconda3/lib/python3.6/site-packages/tensorflow/python/util/deprecation.py:248: FutureWarning: comparison to `None` will result in an elementwise object comparison in the future.\n",
      "  equality = a == b\n"
     ]
    },
    {
     "name": "stdout",
     "output_type": "stream",
     "text": [
      "###\n",
      "\t\tRunning set: Test 3\n",
      "Neural Net\n",
      "Accuracy: \t0.653625\n",
      "Avg. precision-recall: \t0.23\n",
      "precision: \t[ 0.88096184  0.26819407]\n",
      "recall: \t[ 0.67115821  0.57060932]\n",
      "fscore: \t[ 0.76188021  0.36488655]\n",
      "support: \t[6605 1395]\n",
      "\n",
      "Logistic Regression\n",
      "Accuracy: \t0.6005\n",
      "precision: \t[ 0.86965951  0.2342874 ]\n",
      "recall: \t[ 0.60711582  0.56917563]\n",
      "fscore: \t[ 0.71504993  0.3319398 ]\n",
      "support: \t[6605 1395]\n",
      "###\n",
      "WARNING:tensorflow:From <ipython-input-13-fae2decdd1e4>:9: calling DNNClassifier.predict_classes (from tensorflow.contrib.learn.python.learn.estimators.dnn) with as_iterable=False is deprecated and will be removed after 2016-09-15.\n",
      "Instructions for updating:\n",
      "The default behavior of predict() is changing. The default value for\n",
      "as_iterable will change to True, and then the flag will be removed\n",
      "altogether. The behavior of this flag is described below.\n",
      "WARNING:tensorflow:From /Users/noellin/anaconda3/lib/python3.6/site-packages/tensorflow/contrib/learn/python/learn/estimators/dnn.py:422: calling BaseEstimator.predict (from tensorflow.contrib.learn.python.learn.estimators.estimator) with x is deprecated and will be removed after 2016-12-01.\n",
      "Instructions for updating:\n",
      "Estimator is decoupled from Scikit Learn interface by moving into\n",
      "separate class SKCompat. Arguments x, y and batch_size are only\n",
      "available in the SKCompat class, Estimator will only accept input_fn.\n",
      "Example conversion:\n",
      "  est = Estimator(...) -> est = SKCompat(Estimator(...))\n",
      "WARNING:tensorflow:From /Users/noellin/anaconda3/lib/python3.6/site-packages/tensorflow/contrib/learn/python/learn/estimators/dnn.py:422: calling BaseEstimator.predict (from tensorflow.contrib.learn.python.learn.estimators.estimator) with as_iterable is deprecated and will be removed after 2016-12-01.\n",
      "Instructions for updating:\n",
      "Estimator is decoupled from Scikit Learn interface by moving into\n",
      "separate class SKCompat. Arguments x, y and batch_size are only\n",
      "available in the SKCompat class, Estimator will only accept input_fn.\n",
      "Example conversion:\n",
      "  est = Estimator(...) -> est = SKCompat(Estimator(...))\n",
      "INFO:tensorflow:Restoring parameters from /var/folders/cv/j7y0jf0x0gbc39xntlnng44c0000gn/T/tmpa65mobhq/model.ckpt-1000\n",
      "###\n",
      "\t\tRunning set: Test 4\n",
      "Neural Net\n",
      "Accuracy: \t0.63275\n",
      "Avg. precision-recall: \t0.22\n",
      "precision: \t[ 0.86787879  0.25114754]\n",
      "recall: \t[ 0.65288754  0.53943662]\n",
      "fscore: \t[ 0.74518647  0.34272931]\n",
      "support: \t[3290  710]\n",
      "\n",
      "Logistic Regression\n",
      "Accuracy: \t0.58975\n",
      "precision: \t[ 0.86051596  0.22825452]\n",
      "recall: \t[ 0.59817629  0.55070423]\n",
      "fscore: \t[ 0.70575578  0.3227404 ]\n",
      "support: \t[3290  710]\n",
      "###\n"
     ]
    }
   ],
   "source": [
    "runTests(X_test3, y_test3, dnn_clf, log_clf, 'Test 3')\n",
    "runTests(X_test4, y_test4, dnn_clf, log_clf, 'Test 4')"
   ]
  },
  {
   "cell_type": "code",
   "execution_count": 23,
   "metadata": {},
   "outputs": [
    {
     "name": "stdout",
     "output_type": "stream",
     "text": [
      "WARNING:tensorflow:From <ipython-input-13-fae2decdd1e4>:9: calling DNNClassifier.predict_classes (from tensorflow.contrib.learn.python.learn.estimators.dnn) with as_iterable=False is deprecated and will be removed after 2016-09-15.\n",
      "Instructions for updating:\n",
      "The default behavior of predict() is changing. The default value for\n",
      "as_iterable will change to True, and then the flag will be removed\n",
      "altogether. The behavior of this flag is described below.\n",
      "WARNING:tensorflow:From /Users/noellin/anaconda3/lib/python3.6/site-packages/tensorflow/contrib/learn/python/learn/estimators/dnn.py:422: calling BaseEstimator.predict (from tensorflow.contrib.learn.python.learn.estimators.estimator) with x is deprecated and will be removed after 2016-12-01.\n",
      "Instructions for updating:\n",
      "Estimator is decoupled from Scikit Learn interface by moving into\n",
      "separate class SKCompat. Arguments x, y and batch_size are only\n",
      "available in the SKCompat class, Estimator will only accept input_fn.\n",
      "Example conversion:\n",
      "  est = Estimator(...) -> est = SKCompat(Estimator(...))\n",
      "WARNING:tensorflow:From /Users/noellin/anaconda3/lib/python3.6/site-packages/tensorflow/contrib/learn/python/learn/estimators/dnn.py:422: calling BaseEstimator.predict (from tensorflow.contrib.learn.python.learn.estimators.estimator) with as_iterable is deprecated and will be removed after 2016-12-01.\n",
      "Instructions for updating:\n",
      "Estimator is decoupled from Scikit Learn interface by moving into\n",
      "separate class SKCompat. Arguments x, y and batch_size are only\n",
      "available in the SKCompat class, Estimator will only accept input_fn.\n",
      "Example conversion:\n",
      "  est = Estimator(...) -> est = SKCompat(Estimator(...))\n",
      "INFO:tensorflow:Restoring parameters from /var/folders/cv/j7y0jf0x0gbc39xntlnng44c0000gn/T/tmpa65mobhq/model.ckpt-1000\n"
     ]
    },
    {
     "name": "stderr",
     "output_type": "stream",
     "text": [
      "/Users/noellin/anaconda3/lib/python3.6/site-packages/tensorflow/python/util/deprecation.py:248: FutureWarning: comparison to `None` will result in an elementwise object comparison in the future.\n",
      "  equality = a == b\n"
     ]
    },
    {
     "name": "stdout",
     "output_type": "stream",
     "text": [
      "###\n",
      "\t\tRunning set: Test Combined\n",
      "Neural Net\n",
      "Accuracy: \t0.6446\n",
      "Avg. precision-recall: \t0.22\n",
      "precision: \t[ 0.87351511  0.25955478]\n",
      "recall: \t[ 0.66491686  0.54954571]\n",
      "fscore: \t[ 0.75507391  0.3525822 ]\n",
      "support: \t[32956  7044]\n",
      "\n",
      "Logistic Regression\n",
      "Accuracy: \t0.599775\n",
      "precision: \t[ 0.86645331  0.23440185]\n",
      "recall: \t[ 0.60793179  0.56161272]\n",
      "fscore: \t[ 0.71452772  0.3307554 ]\n",
      "support: \t[32956  7044]\n",
      "###\n"
     ]
    }
   ],
   "source": [
    "runTests(data_test, results_test, dnn_clf, log_clf, 'Test Combined')"
   ]
  },
  {
   "cell_type": "code",
   "execution_count": 18,
   "metadata": {},
   "outputs": [
    {
     "name": "stdout",
     "output_type": "stream",
     "text": [
      "WARNING:tensorflow:From <ipython-input-18-24f4bfd2dc4b>:5: calling DNNClassifier.predict_classes (from tensorflow.contrib.learn.python.learn.estimators.dnn) with as_iterable=False is deprecated and will be removed after 2016-09-15.\n",
      "Instructions for updating:\n",
      "The default behavior of predict() is changing. The default value for\n",
      "as_iterable will change to True, and then the flag will be removed\n",
      "altogether. The behavior of this flag is described below.\n",
      "WARNING:tensorflow:From /Users/noellin/anaconda3/lib/python3.6/site-packages/tensorflow/contrib/learn/python/learn/estimators/dnn.py:422: calling BaseEstimator.predict (from tensorflow.contrib.learn.python.learn.estimators.estimator) with x is deprecated and will be removed after 2016-12-01.\n",
      "Instructions for updating:\n",
      "Estimator is decoupled from Scikit Learn interface by moving into\n",
      "separate class SKCompat. Arguments x, y and batch_size are only\n",
      "available in the SKCompat class, Estimator will only accept input_fn.\n",
      "Example conversion:\n",
      "  est = Estimator(...) -> est = SKCompat(Estimator(...))\n",
      "WARNING:tensorflow:From /Users/noellin/anaconda3/lib/python3.6/site-packages/tensorflow/contrib/learn/python/learn/estimators/dnn.py:422: calling BaseEstimator.predict (from tensorflow.contrib.learn.python.learn.estimators.estimator) with as_iterable is deprecated and will be removed after 2016-12-01.\n",
      "Instructions for updating:\n",
      "Estimator is decoupled from Scikit Learn interface by moving into\n",
      "separate class SKCompat. Arguments x, y and batch_size are only\n",
      "available in the SKCompat class, Estimator will only accept input_fn.\n",
      "Example conversion:\n",
      "  est = Estimator(...) -> est = SKCompat(Estimator(...))\n",
      "INFO:tensorflow:Restoring parameters from /var/folders/cv/j7y0jf0x0gbc39xntlnng44c0000gn/T/tmpa65mobhq/model.ckpt-1000\n"
     ]
    },
    {
     "name": "stderr",
     "output_type": "stream",
     "text": [
      "/Users/noellin/anaconda3/lib/python3.6/site-packages/tensorflow/python/util/deprecation.py:248: FutureWarning: comparison to `None` will result in an elementwise object comparison in the future.\n",
      "  equality = a == b\n"
     ]
    },
    {
     "data": {
      "image/png": "[encoded data removed]",
      "text/plain": [
       "<matplotlib.figure.Figure at 0x1a22cb7ef0>"
      ]
     },
     "metadata": {},
     "output_type": "display_data"
    },
    {
     "data": {
      "image/png": "[encoded data removed]",
      "text/plain": [
       "<matplotlib.figure.Figure at 0x1a21d2edd8>"
      ]
     },
     "metadata": {},
     "output_type": "display_data"
    }
   ],
   "source": [
    "# Plot out interest rate\n",
    "X_norm = preprocessing.normalize(X_test1)   # normalize, scale and turn X into array \n",
    "X_arr = np.array(scaler.transform(X_norm), \"float32\")\n",
    "y_arr = np.array(y_test1, \"float32\")\n",
    "y_pred = dnn_clf.predict_classes(X_arr, as_iterable=False)\n",
    "\n",
    "import matplotlib.pyplot as plt\n",
    "\n",
    "X_plot = []\n",
    "for i in range(len(X_test1)):\n",
    "    X_plot.append(X_test1[i][2])\n",
    "\n",
    "# Plot the results\n",
    "\n",
    "plt.figure()\n",
    "#axes = plt.gca()\n",
    "#axes.set_xlim([0,700000])\n",
    "plt.scatter(X_plot, y_pred, s=1, c=\"r\", label=\"Predictions\")\n",
    "plt.xlabel(\"Interest rate\")\n",
    "plt.ylabel(\"Prediction (0: will pay, 1: default)\")\n",
    "plt.title(\"Predicted Values (using Neural Net)\")\n",
    "plt.legend()\n",
    "plt.show()\n",
    "\n",
    "plt.figure()\n",
    "#axes = plt.gca()\n",
    "#axes.set_xlim([0,700000])\n",
    "plt.scatter(X_plot, y_test1, s=1, c=\"g\", label=\"Actual\")\n",
    "plt.xlabel(\"Interest rate\")\n",
    "plt.ylabel(\"Prediction (0: will pay, 1: default)\")\n",
    "plt.title(\"Actual Values (using Neural Net)\")\n",
    "plt.legend()\n",
    "plt.show()"
   ]
  },
  {
   "cell_type": "code",
   "execution_count": 19,
   "metadata": {
    "scrolled": true
   },
   "outputs": [
    {
     "name": "stdout",
     "output_type": "stream",
     "text": [
      "WARNING:tensorflow:From <ipython-input-19-1909a8659431>:5: calling DNNClassifier.predict_classes (from tensorflow.contrib.learn.python.learn.estimators.dnn) with as_iterable=False is deprecated and will be removed after 2016-09-15.\n",
      "Instructions for updating:\n",
      "The default behavior of predict() is changing. The default value for\n",
      "as_iterable will change to True, and then the flag will be removed\n",
      "altogether. The behavior of this flag is described below.\n",
      "WARNING:tensorflow:From /Users/noellin/anaconda3/lib/python3.6/site-packages/tensorflow/contrib/learn/python/learn/estimators/dnn.py:422: calling BaseEstimator.predict (from tensorflow.contrib.learn.python.learn.estimators.estimator) with x is deprecated and will be removed after 2016-12-01.\n",
      "Instructions for updating:\n",
      "Estimator is decoupled from Scikit Learn interface by moving into\n",
      "separate class SKCompat. Arguments x, y and batch_size are only\n",
      "available in the SKCompat class, Estimator will only accept input_fn.\n",
      "Example conversion:\n",
      "  est = Estimator(...) -> est = SKCompat(Estimator(...))\n",
      "WARNING:tensorflow:From /Users/noellin/anaconda3/lib/python3.6/site-packages/tensorflow/contrib/learn/python/learn/estimators/dnn.py:422: calling BaseEstimator.predict (from tensorflow.contrib.learn.python.learn.estimators.estimator) with as_iterable is deprecated and will be removed after 2016-12-01.\n",
      "Instructions for updating:\n",
      "Estimator is decoupled from Scikit Learn interface by moving into\n",
      "separate class SKCompat. Arguments x, y and batch_size are only\n",
      "available in the SKCompat class, Estimator will only accept input_fn.\n",
      "Example conversion:\n",
      "  est = Estimator(...) -> est = SKCompat(Estimator(...))\n",
      "INFO:tensorflow:Restoring parameters from /var/folders/cv/j7y0jf0x0gbc39xntlnng44c0000gn/T/tmpa65mobhq/model.ckpt-1000\n"
     ]
    },
    {
     "name": "stderr",
     "output_type": "stream",
     "text": [
      "/Users/noellin/anaconda3/lib/python3.6/site-packages/tensorflow/python/util/deprecation.py:248: FutureWarning: comparison to `None` will result in an elementwise object comparison in the future.\n",
      "  equality = a == b\n"
     ]
    },
    {
     "data": {
      "image/png": "[encoded data removed]",
      "text/plain": [
       "<matplotlib.figure.Figure at 0x1a22c14b38>"
      ]
     },
     "metadata": {},
     "output_type": "display_data"
    },
    {
     "data": {
      "image/png": "[encoded data removed]",
      "text/plain": [
       "<matplotlib.figure.Figure at 0x1a21d0c240>"
      ]
     },
     "metadata": {},
     "output_type": "display_data"
    }
   ],
   "source": [
    "# Plot out loan amount\n",
    "X_norm = preprocessing.normalize(X_test1)   # normalize, scale and turn X into array \n",
    "X_arr = np.array(scaler.transform(X_norm), \"float32\")\n",
    "y_arr = np.array(y_test1, \"float32\")\n",
    "y_pred = dnn_clf.predict_classes(X_arr, as_iterable=False)\n",
    "\n",
    "import matplotlib.pyplot as plt\n",
    "\n",
    "X_plot = []\n",
    "for i in range(len(X_test1)):\n",
    "    X_plot.append(X_test1[i][7])\n",
    "\n",
    "# Plot the results\n",
    "\n",
    "plt.figure()\n",
    "axes = plt.gca()\n",
    "axes.set_xlim([0,700000])\n",
    "plt.scatter(X_plot, y_pred, s=1, c=\"r\", label=\"Predictions\")\n",
    "plt.xlabel(\"Loan amount\")\n",
    "plt.ylabel(\"Prediction (0: paid, 1: default)\")\n",
    "plt.title(\"Predicted Values (using Neural Net)\")\n",
    "plt.legend()\n",
    "plt.show()\n",
    "\n",
    "plt.figure()\n",
    "axes = plt.gca()\n",
    "axes.set_xlim([0,700000])\n",
    "plt.scatter(X_plot, y_test1, s=1, c=\"g\", label=\"Actual\")\n",
    "plt.xlabel(\"Loan amount\")\n",
    "plt.ylabel(\"Prediction (0: paid, 1: default)\")\n",
    "plt.title(\"Actual Values (using Neural Net)\")\n",
    "plt.legend()\n",
    "plt.show()\n"
   ]
  },
  {
   "cell_type": "code",
   "execution_count": null,
   "metadata": {},
   "outputs": [],
   "source": []
  },
  {
   "cell_type": "code",
   "execution_count": null,
   "metadata": {
    "collapsed": true
   },
   "outputs": [],
   "source": []
  }
 ],
 "metadata": {
  "kernelspec": {
   "display_name": "Python 3",
   "language": "python",
   "name": "python3"
  },
  "language_info": {
   "codemirror_mode": {
    "name": "ipython",
    "version": 3
   },
   "file_extension": ".py",
   "mimetype": "text/x-python",
   "name": "python",
   "nbconvert_exporter": "python",
   "pygments_lexer": "ipython3",
   "version": "3.6.3"
  }
 },
 "nbformat": 4,
 "nbformat_minor": 2
}
