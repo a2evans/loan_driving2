{
 "cells": [
  {
   "cell_type": "code",
   "execution_count": 33,
   "metadata": {
    "collapsed": true
   },
   "outputs": [],
   "source": [
    "import pandas as pd\n",
    "import numpy as np\n",
    "import os\n",
    "import scipy\n",
    "import sqlite3\n",
    "from collections import defaultdict"
   ]
  },
  {
   "cell_type": "code",
   "execution_count": 4,
   "metadata": {
    "scrolled": false
   },
   "outputs": [
    {
     "name": "stdout",
     "output_type": "stream",
     "text": [
      "C:\\Users\\andre\\Documents\\GitHub\\loan_driving2\n"
     ]
    }
   ],
   "source": [
    "curr_path = os.path.realpath('')\n",
    "print(curr_path)\n",
    "conn = sqlite3.connect(curr_path+\"/lending-club-loan-data/database.sqlite\")\n",
    "cur = conn.cursor()\n",
    "cur.execute(\"select * from loan limit 5;\")\n",
    "results = cur.fetchall()\n",
    "# print(results)\n",
    "cur.close()\n",
    "conn.close()"
   ]
  },
  {
   "cell_type": "code",
   "execution_count": 5,
   "metadata": {
    "scrolled": true
   },
   "outputs": [
    {
     "name": "stdout",
     "output_type": "stream",
     "text": [
      "       loan_amnt        id  loan_status sub_grade\n",
      "0         2500.0   1077430  Charged Off        C4\n",
      "1         5600.0   1071795  Charged Off        F2\n",
      "2         5375.0   1071570  Charged Off        B5\n",
      "3         9000.0   1064687  Charged Off        C1\n",
      "4        10000.0   1069057  Charged Off        B2\n",
      "5        21000.0   1039153  Charged Off        B4\n",
      "6         6000.0   1069559  Charged Off        B3\n",
      "7        15000.0   1069800  Charged Off        C2\n",
      "8         5000.0   1069657  Charged Off        D2\n",
      "9         5000.0   1069465  Charged Off        A5\n",
      "10       15000.0   1069248  Charged Off        B1\n",
      "11       12000.0   1069243  Charged Off        C5\n",
      "12       21000.0   1069410  Charged Off        E4\n",
      "13       10000.0   1069126  Charged Off        B2\n",
      "14       12500.0   1069093  Charged Off        D3\n",
      "15        8200.0   1068906  Charged Off        F2\n",
      "16        6400.0   1060981  Charged Off        D2\n",
      "17       17500.0   1068542  Charged Off        D3\n",
      "18        6200.0   1068509  Charged Off        B1\n",
      "19       18825.0   1068309  Charged Off        D2\n",
      "20       10000.0   1068012  Charged Off        D5\n",
      "21       25000.0   1068202  Charged Off        C1\n",
      "22       19750.0   1068006  Charged Off        B2\n",
      "23       28000.0   1068179  Charged Off        E4\n",
      "24       24000.0   1066215  Charged Off        C5\n",
      "25       11100.0   1068111  Charged Off        A2\n",
      "26       12000.0   1068091  Charged Off        B1\n",
      "27       10000.0   1067794  Charged Off        B3\n",
      "28       13475.0   1068018  Charged Off        C1\n",
      "29        5600.0   1067818  Charged Off        C3\n",
      "...          ...       ...          ...       ...\n",
      "45218     8600.0  37297959  Charged Off        D5\n",
      "45219     9850.0  37761743  Charged Off        D4\n",
      "45220    18000.0  37741722  Charged Off        B2\n",
      "45221    18000.0  37631640  Charged Off        F2\n",
      "45222    14000.0  37831593  Charged Off        B5\n",
      "45223    14000.0  37811630  Charged Off        E3\n",
      "45224    20000.0  37641535  Charged Off        G2\n",
      "45225    20000.0  37651039  Charged Off        C4\n",
      "45226     7900.0  37701433  Charged Off        C2\n",
      "45227    33025.0  37601530  Charged Off        E5\n",
      "45228     8000.0  37611321  Charged Off        B2\n",
      "45229     5750.0  37841213  Charged Off        C4\n",
      "45230    18000.0  37731131  Charged Off        A3\n",
      "45231    10000.0  37711157  Charged Off        D1\n",
      "45232    12000.0  37661094  Charged Off        D4\n",
      "45233    20000.0  37680848  Charged Off        C2\n",
      "45234    35000.0  37720840  Charged Off        C3\n",
      "45235     8400.0  37740718  Charged Off        B4\n",
      "45236    13500.0  37329237  Charged Off        B3\n",
      "45237    24875.0  37670482  Charged Off        G2\n",
      "45238    11200.0  37640409  Charged Off        E3\n",
      "45239     7200.0  37068125  Charged Off        C5\n",
      "45240    20000.0  37297854  Charged Off        C5\n",
      "45241    29675.0  37247819  Charged Off        C3\n",
      "45242    35000.0  37167534  Charged Off        F4\n",
      "45243    12000.0  37087435  Charged Off        D5\n",
      "45244     2725.0  37227443  Charged Off        D5\n",
      "45245    14000.0  37077186  Charged Off        D2\n",
      "45246     4200.0  36743377  Charged Off        D2\n",
      "45247    10850.0  36260758  Charged Off        E2\n",
      "\n",
      "[45248 rows x 4 columns]\n"
     ]
    }
   ],
   "source": [
    "conn = sqlite3.connect(\"lending-club-loan-data/database.sqlite\")\n",
    "df = pd.read_sql_query(\"select loan_amnt,id,loan_status,sub_grade from loan where loan_status = 'Charged Off';\", conn)\n",
    "print(df)\n",
    "conn.close()"
   ]
  },
  {
   "cell_type": "code",
   "execution_count": 6,
   "metadata": {},
   "outputs": [
    {
     "name": "stdout",
     "output_type": "stream",
     "text": [
      "15000.0\n",
      "45248\n"
     ]
    }
   ],
   "source": [
    "ddict = df.to_dict()\n",
    "print(ddict['loan_amnt'][7])\n",
    "ddict['sub_grade'][7]\n",
    "g = zip(ddict['loan_amnt'].values(),ddict['sub_grade'].values(),ddict['id'].values(),ddict['loan_status'].values())\n",
    "print(len(list(g)))"
   ]
  },
  {
   "cell_type": "code",
   "execution_count": 32,
   "metadata": {
    "scrolled": true
   },
   "outputs": [
    {
     "name": "stdout",
     "output_type": "stream",
     "text": [
      "[5000.0 '1077501' 'Fully Paid' 'B2']\n"
     ]
    }
   ],
   "source": [
    "# create a training set\n",
    "conn = sqlite3.connect(curr_path+\"/lending-club-loan-data/database.sqlite\")\n",
    "df = pd.read_sql_query(\"select loan_amnt,id,loan_status,sub_grade from loan where loan_status !='Current' AND loan_status !='Late (31-120 days)' AND loan_status != 'Late (16-30 days)';\", conn)\n",
    "# print(df.axes)\n",
    "# print(df.get_values()[0][1])\n",
    "# print(df.get_values())\n",
    "# print(df.values[3])\n",
    "print(df.values[0])\n",
    "\n",
    "conn.close()\n",
    "# feature vector - predictor will predict (\"charged off/default status\") vs. \n",
    "# [1(maybe check this),'sub_grade','loan_amnt','emp_length','home_ownership','annual_inc','verification_status','dti'(debt-to-income),'']"
   ]
  },
  {
   "cell_type": "code",
   "execution_count": 52,
   "metadata": {
    "scrolled": true
   },
   "outputs": [],
   "source": [
    "# find all unique values for the loan status column\n",
    "l_status_dict = defaultdict(int)\n",
    "for row in df.itertuples():\n",
    "    # print(row[3])\n",
    "    if row[3] not in l_status_dict:\n",
    "        l_status_dict[row[3]] += 1\n",
    "\n",
    "# print(l_status_dict.keys())"
   ]
  },
  {
   "cell_type": "code",
   "execution_count": 53,
   "metadata": {},
   "outputs": [
    {
     "name": "stdout",
     "output_type": "stream",
     "text": [
      "dict_keys(['Fully Paid', 'Charged Off', 'Default', 'In Grace Period', 'Does not meet the credit policy. Status:Fully Paid', 'Does not meet the credit policy. Status:Charged Off', 'Issued'])\n"
     ]
    }
   ],
   "source": [
    "print(l_status_dict.keys())"
   ]
  },
  {
   "cell_type": "code",
   "execution_count": null,
   "metadata": {
    "collapsed": true
   },
   "outputs": [],
   "source": []
  }
 ],
 "metadata": {
  "kernelspec": {
   "display_name": "Python 3",
   "language": "python",
   "name": "python3"
  }
 },
 "nbformat": 4,
 "nbformat_minor": 2
}
