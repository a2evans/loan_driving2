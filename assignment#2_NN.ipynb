{
 "cells": [
  {
   "cell_type": "code",
   "execution_count": 1,
   "metadata": {
    "collapsed": true
   },
   "outputs": [],
   "source": [
    "import pandas as pd\n",
    "import numpy as np\n",
    "import os\n",
    "import scipy\n",
    "import sqlite3\n",
    "import tensorflow as tf\n",
    "import string\n",
    "from sklearn.metrics import accuracy_score\n",
    "from sklearn import preprocessing\n",
    "from sklearn.linear_model import LogisticRegression"
   ]
  },
  {
   "cell_type": "code",
   "execution_count": 2,
   "metadata": {},
   "outputs": [],
   "source": [
    "# create our data set\n",
    "curr_path = os.path.realpath('')\n",
    "conn = sqlite3.connect(curr_path+\"/lending-club-loan-data/database.sqlite\")\n",
    "\n",
    "###@@@@@ \n",
    "#         add loan_amnt and annual_inc back later \n",
    "###@@@@\n",
    "\n",
    "df_tf = pd.read_sql_query(\"select loan_status, term, int_rate, emp_length, home_ownership, verification_status, dti from loan where id in (select id from loan order by random()) AND emp_length != 'n/a' AND int_rate != 'NULL' AND loan_status =='Fully Paid';\", conn)\n",
    "df_tf_default = pd.read_sql_query(\"select loan_status, term, int_rate, emp_length, home_ownership, verification_status, dti from loan where id in (select id from loan order by random()) AND emp_length != 'n/a' AND int_rate != 'NULL' AND loan_status == 'Charged Off' OR loan_status == 'Default';\", conn)\n",
    "\n",
    "df_tf_test = pd.read_sql_query(\"select loan_status, term, int_rate, emp_length, home_ownership, verification_status, dti from loan where id in (select id from loan order by random()) AND emp_length != 'n/a' AND int_rate != 'NULL' AND loan_status == 'Charged Off' OR loan_status == 'Default' OR loan_status == 'Fully Paid';\", conn)\n",
    "\n",
    "conn.close()\n",
    "\n",
    "# df_desc = pd.read_sql_query(\"select loan_amnt, loan_status, sub_grade from loan where desc != 'NULL' AND loan_status !='Current' AND loan_status !='Late (31-120 days)' AND loan_status != 'Late (16-30 days)'\", conn)\n",
    "df_tf = df_tf.sample(frac=(25000/float(len(df_tf)))).reset_index(drop=True)\n",
    "df_tf_default = df_tf_default.sample(frac=25000/float(len(df_tf_default))).reset_index(drop=True)\n",
    "df_tf_test = df_tf_test.sample(frac=10000/float(len(df_tf_default))).reset_index(drop=True)"
   ]
  },
  {
   "cell_type": "code",
   "execution_count": 3,
   "metadata": {},
   "outputs": [
    {
     "name": "stdout",
     "output_type": "stream",
     "text": [
      "25000\n",
      "25000\n",
      "25000\n",
      "50000\n"
     ]
    }
   ],
   "source": [
    "print (len(df_tf))\n",
    "print(len(df_tf_default))\n",
    "\n",
    "# this set is split between half paid and half default/charged-offs\n",
    "print (len(df_tf))\n",
    "df_tf = df_tf.append(df_tf_default, ignore_index=True)\n",
    "print (len(df_tf))\n",
    "\n",
    "#results = [0]*40000 + [1]*40000\n",
    "# df_tf = split_data"
   ]
  },
  {
   "cell_type": "code",
   "execution_count": 4,
   "metadata": {
    "scrolled": true
   },
   "outputs": [],
   "source": [
    "data = []\n",
    "results = []\n",
    "for i in range(len(df_tf)):  # data set of 10000 for faster run time. Replace with range(len(df_tf)) later\n",
    "    \n",
    "    #print (i)\n",
    "    loan_status = 0 if df_tf.iloc[i][0] == 'Fully Paid' else 1 # bad if not fully paid\n",
    "    results.append(loan_status)     # add  to results \n",
    "    \n",
    "    # 0 if term is 36 months, 1 if 60 months\n",
    "    term = 0 if df_tf.iloc[i][1] == ' 36 months' else 1\n",
    "    \n",
    "    # change interest rate from str to float\n",
    "    if type(df_tf.iloc[i][2]) == str:     # condition to prevent calling replace on NoneTypes\n",
    "        int_rate = float(df_tf.iloc[i][2].replace('%', ''))\n",
    "    \n",
    "    # get employment length\n",
    "    txt = ''.join([c for c in df_tf.iloc[i][3].lower() if not c in set(string.punctuation)])\n",
    "    emp_length_list = ([int(s) for s in txt.split() if s.isdigit()])\n",
    "    emp_length = 0 if emp_length_list == [] else emp_length_list[0]\n",
    "\n",
    "    # 0 if renting, 1 if owner\n",
    "    ownership = 0 if df_tf.iloc[i][4] == 'RENT' else 1\n",
    "    \n",
    "    # verification sttus, 0 for not verified, 1 for source verified and 2 for verified\n",
    "    #verification = 0 if df_tf.iloc[i][5] == 'Not Verified' else 1 if df_tf.iloc[i][5] == 'Source Verified' else 2\n",
    "    verification = 0 if df_tf.iloc[i][5] == 'Not Verified' else 1\n",
    "\n",
    "    # append in feature vector\n",
    "   # data.append([term, int_rate, emp_length, ownership, verification, df_tf.iloc[i][6], df_tf.iloc[i][7], df_tf.iloc[i][8]])\n",
    "    data.append([term, int_rate, emp_length, ownership, verification, df_tf.iloc[i][6]])\n"
   ]
  },
  {
   "cell_type": "code",
   "execution_count": 5,
   "metadata": {},
   "outputs": [],
   "source": [
    "data_test = []\n",
    "results_test = []\n",
    "for i in range(len(df_tf_test)):  # data set of 10000 for faster run time. Replace with range(len(df_tf)) later\n",
    "    \n",
    "    #print (i)\n",
    "    loan_status = 0 if df_tf_test.iloc[i][0] == 'Fully Paid' else 1 # bad if not fully paid\n",
    "    results_test.append(loan_status)     # add  to results \n",
    "    \n",
    "    # 0 if term is 36 months, 1 if 60 months\n",
    "    term = 0 if df_tf_test.iloc[i][1] == ' 36 months' else 1\n",
    "    \n",
    "    # change interest rate from str to float\n",
    "    if type(df_tf_test.iloc[i][2]) == str:     # condition to prevent calling replace on NoneTypes\n",
    "        int_rate = float(df_tf_test.iloc[i][2].replace('%', ''))\n",
    "    \n",
    "    # get employment length\n",
    "    txt = ''.join([c for c in df_tf_test.iloc[i][3].lower() if not c in set(string.punctuation)])\n",
    "    emp_length_list = ([int(s) for s in txt.split() if s.isdigit()])\n",
    "    emp_length = 0 if emp_length_list == [] else emp_length_list[0]\n",
    "\n",
    "    # 0 if renting, 1 if owner\n",
    "    ownership = 0 if df_tf_test.iloc[i][4] == 'RENT' else 1\n",
    "    \n",
    "    # verification sttus, 0 for not verified, 1 for source verified and 2 for verified\n",
    "    #verification = 0 if df_tf.iloc[i][5] == 'Not Verified' else 1 if df_tf.iloc[i][5] == 'Source Verified' else 2\n",
    "    verification = 0 if df_tf_test.iloc[i][5] == 'Not Verified' else 1\n",
    "\n",
    "    # append in feature vector\n",
    "   # data.append([term, int_rate, emp_length, ownership, verification, df_tf.iloc[i][6], df_tf.iloc[i][7], df_tf.iloc[i][8]])\n",
    "    data_test.append([term, int_rate, emp_length, ownership, verification, df_tf_test.iloc[i][6]])\n"
   ]
  },
  {
   "cell_type": "code",
   "execution_count": 6,
   "metadata": {},
   "outputs": [],
   "source": [
    "X_train = data\n",
    "y_train = results\n",
    "\n",
    "X_val = data_test[:int(len(data)*0.3)]\n",
    "y_val = results_test[:int(len(results)*.3)]\n",
    "\n",
    "X_test1 = data_test[int(len(data_test)*.3) : int(len(data_test)*0.5)]\n",
    "y_test1 = results_test[int(len(results_test)*.3) : int(len(data_test)*0.5)]\n",
    "\n",
    "X_test2 = data_test[int(len(data_test)*.5) : int(len(data_test)*0.7)]\n",
    "y_test2 = results_test[int(len(results_test)*.5) : int(len(data_test)*0.7)]\n",
    "\n",
    "X_test3 = data_test[int(len(data_test)*.7) : int(len(data_test)*0.9)]\n",
    "y_test3 = results_test[int(len(results_test)*.7) : int(len(data_test)*0.9)]\n",
    "\n",
    "X_test4 = data_test[int(len(data_test)*.9) : int(len(data_test)*1)]\n",
    "y_test4 = results_test[int(len(results_test)*.9) : int(len(data_test)*1)]"
   ]
  },
  {
   "cell_type": "code",
   "execution_count": 30,
   "metadata": {
    "scrolled": true
   },
   "outputs": [
    {
     "name": "stdout",
     "output_type": "stream",
     "text": [
      "WARNING:tensorflow:float64 is not supported by many models, consider casting to float32.\n",
      "INFO:tensorflow:Using default config.\n",
      "INFO:tensorflow:Using config: {'_task_type': None, '_task_id': 0, '_cluster_spec': <tensorflow.python.training.server_lib.ClusterSpec object at 0x1a229037f0>, '_master': '', '_num_ps_replicas': 0, '_num_worker_replicas': 0, '_environment': 'local', '_is_chief': True, '_evaluation_master': '', '_tf_config': gpu_options {\n",
      "  per_process_gpu_memory_fraction: 1.0\n",
      "}\n",
      ", '_tf_random_seed': None, '_save_summary_steps': 100, '_save_checkpoints_secs': 600, '_save_checkpoints_steps': None, '_keep_checkpoint_max': 5, '_keep_checkpoint_every_n_hours': 10000, '_model_dir': None}\n",
      "WARNING:tensorflow:Using temporary folder as model directory: /var/folders/cv/j7y0jf0x0gbc39xntlnng44c0000gn/T/tmp9y8r2zmx\n",
      "WARNING:tensorflow:From <ipython-input-30-848f28382563>:13: calling BaseEstimator.fit (from tensorflow.contrib.learn.python.learn.estimators.estimator) with x is deprecated and will be removed after 2016-12-01.\n",
      "Instructions for updating:\n",
      "Estimator is decoupled from Scikit Learn interface by moving into\n",
      "separate class SKCompat. Arguments x, y and batch_size are only\n",
      "available in the SKCompat class, Estimator will only accept input_fn.\n",
      "Example conversion:\n",
      "  est = Estimator(...) -> est = SKCompat(Estimator(...))\n",
      "WARNING:tensorflow:From <ipython-input-30-848f28382563>:13: calling BaseEstimator.fit (from tensorflow.contrib.learn.python.learn.estimators.estimator) with y is deprecated and will be removed after 2016-12-01.\n",
      "Instructions for updating:\n",
      "Estimator is decoupled from Scikit Learn interface by moving into\n",
      "separate class SKCompat. Arguments x, y and batch_size are only\n",
      "available in the SKCompat class, Estimator will only accept input_fn.\n",
      "Example conversion:\n",
      "  est = Estimator(...) -> est = SKCompat(Estimator(...))\n",
      "WARNING:tensorflow:From <ipython-input-30-848f28382563>:13: calling BaseEstimator.fit (from tensorflow.contrib.learn.python.learn.estimators.estimator) with batch_size is deprecated and will be removed after 2016-12-01.\n",
      "Instructions for updating:\n",
      "Estimator is decoupled from Scikit Learn interface by moving into\n",
      "separate class SKCompat. Arguments x, y and batch_size are only\n",
      "available in the SKCompat class, Estimator will only accept input_fn.\n",
      "Example conversion:\n",
      "  est = Estimator(...) -> est = SKCompat(Estimator(...))\n",
      "WARNING:tensorflow:float64 is not supported by many models, consider casting to float32.\n"
     ]
    },
    {
     "name": "stderr",
     "output_type": "stream",
     "text": [
      "/Users/noellin/anaconda3/lib/python3.6/site-packages/tensorflow/python/util/deprecation.py:248: FutureWarning: comparison to `None` will result in an elementwise object comparison in the future.\n",
      "  equality = a == b\n"
     ]
    },
    {
     "name": "stdout",
     "output_type": "stream",
     "text": [
      "WARNING:tensorflow:From /Users/noellin/anaconda3/lib/python3.6/site-packages/tensorflow/contrib/learn/python/learn/estimators/head.py:615: scalar_summary (from tensorflow.python.ops.logging_ops) is deprecated and will be removed after 2016-11-30.\n",
      "Instructions for updating:\n",
      "Please switch to tf.summary.scalar. Note that tf.summary.scalar uses the node name instead of the tag. This means that TensorFlow will automatically de-duplicate summary names based on the scope they are created in. Also, passing a tensor or list of tags to a scalar summary op is no longer supported.\n",
      "INFO:tensorflow:Create CheckpointSaverHook.\n",
      "INFO:tensorflow:Saving checkpoints for 1 into /var/folders/cv/j7y0jf0x0gbc39xntlnng44c0000gn/T/tmp9y8r2zmx/model.ckpt.\n",
      "INFO:tensorflow:loss = 0.531105, step = 1\n",
      "INFO:tensorflow:Saving checkpoints for 100 into /var/folders/cv/j7y0jf0x0gbc39xntlnng44c0000gn/T/tmp9y8r2zmx/model.ckpt.\n",
      "INFO:tensorflow:Loss for final step: 0.754116.\n"
     ]
    },
    {
     "data": {
      "text/plain": [
       "LogisticRegression(C=1.0, class_weight=None, dual=False, fit_intercept=True,\n",
       "          intercept_scaling=1, max_iter=100, multi_class='ovr', n_jobs=1,\n",
       "          penalty='l2', random_state=None, solver='liblinear', tol=0.0001,\n",
       "          verbose=0, warm_start=False)"
      ]
     },
     "execution_count": 30,
     "metadata": {},
     "output_type": "execute_result"
    }
   ],
   "source": [
    "### normalize, scale and train on Logistic Regressor and Neural Net\n",
    "\n",
    "X_train_norm = preprocessing.normalize(X_train)\n",
    "scaler = preprocessing.StandardScaler().fit(X_train_norm)\n",
    "X_train_norm_std = scaler.transform(X_train_norm)\n",
    "\n",
    "X_train_arr = np.array(X_train_norm_std)\n",
    "y_train_arr = np.array(y_train)\n",
    "\n",
    "# training with DNNClassifier\n",
    "feature_cols = tf.contrib.learn.infer_real_valued_columns_from_input(X_train_arr)\n",
    "dnn_clf = tf.contrib.learn.DNNClassifier(hidden_units=[512, 256], n_classes=2, dropout = .9, feature_columns=feature_cols)\n",
    "dnn_clf.fit(X_train_arr, y_train_arr, batch_size=6, steps=100)\n",
    "\n",
    "# training with Logistic Regression\n",
    "log_clf = LogisticRegression()\n",
    "log_clf.fit(X_train_norm, y_train)"
   ]
  },
  {
   "cell_type": "code",
   "execution_count": 16,
   "metadata": {},
   "outputs": [],
   "source": [
    "# Function to test with logistic regressor and neural net\n",
    "# params: X, y, neural net classifier and logistic regressor\n",
    "def runTests(X, y, dnn_clf, log_clf, setName):\n",
    "    X_norm = preprocessing.normalize(X)   # normalize, scale and turn X into array \n",
    "    X_arr = np.array(scaler.transform(X_norm))\n",
    "    y_arr = np.array(y)\n",
    "    y_pred = dnn_clf.predict_classes(X_arr, as_iterable=False)\n",
    "    print ('Running' + setName + 'set')\n",
    "    print('###')\n",
    "    print('Neural Net accuracy: ' + str(accuracy_score(y_arr, y_pred)))\n",
    "    y_pred = log_clf.predict(X_norm)\n",
    "    print('Log. Regression accuracy: ' + str(accuracy_score(y, y_pred)))\n",
    "    print('###')"
   ]
  },
  {
   "cell_type": "code",
   "execution_count": 31,
   "metadata": {},
   "outputs": [
    {
     "name": "stdout",
     "output_type": "stream",
     "text": [
      "WARNING:tensorflow:From <ipython-input-16-d0a5179ecf3f>:7: calling DNNClassifier.predict_classes (from tensorflow.contrib.learn.python.learn.estimators.dnn) with as_iterable=False is deprecated and will be removed after 2016-09-15.\n",
      "Instructions for updating:\n",
      "The default behavior of predict() is changing. The default value for\n",
      "as_iterable will change to True, and then the flag will be removed\n",
      "altogether. The behavior of this flag is described below.\n",
      "WARNING:tensorflow:From /Users/noellin/anaconda3/lib/python3.6/site-packages/tensorflow/contrib/learn/python/learn/estimators/dnn.py:422: calling BaseEstimator.predict (from tensorflow.contrib.learn.python.learn.estimators.estimator) with x is deprecated and will be removed after 2016-12-01.\n",
      "Instructions for updating:\n",
      "Estimator is decoupled from Scikit Learn interface by moving into\n",
      "separate class SKCompat. Arguments x, y and batch_size are only\n",
      "available in the SKCompat class, Estimator will only accept input_fn.\n",
      "Example conversion:\n",
      "  est = Estimator(...) -> est = SKCompat(Estimator(...))\n",
      "WARNING:tensorflow:From /Users/noellin/anaconda3/lib/python3.6/site-packages/tensorflow/contrib/learn/python/learn/estimators/dnn.py:422: calling BaseEstimator.predict (from tensorflow.contrib.learn.python.learn.estimators.estimator) with as_iterable is deprecated and will be removed after 2016-12-01.\n",
      "Instructions for updating:\n",
      "Estimator is decoupled from Scikit Learn interface by moving into\n",
      "separate class SKCompat. Arguments x, y and batch_size are only\n",
      "available in the SKCompat class, Estimator will only accept input_fn.\n",
      "Example conversion:\n",
      "  est = Estimator(...) -> est = SKCompat(Estimator(...))\n",
      "WARNING:tensorflow:float64 is not supported by many models, consider casting to float32.\n",
      "INFO:tensorflow:Restoring parameters from /var/folders/cv/j7y0jf0x0gbc39xntlnng44c0000gn/T/tmp9y8r2zmx/model.ckpt-100\n"
     ]
    },
    {
     "name": "stderr",
     "output_type": "stream",
     "text": [
      "/Users/noellin/anaconda3/lib/python3.6/site-packages/tensorflow/python/util/deprecation.py:248: FutureWarning: comparison to `None` will result in an elementwise object comparison in the future.\n",
      "  equality = a == b\n"
     ]
    },
    {
     "name": "stdout",
     "output_type": "stream",
     "text": [
      "Runningtrainingset\n",
      "###\n",
      "Neural Net accuracy: 0.58878\n",
      "Log. Regression accuracy: 0.60116\n",
      "###\n",
      "WARNING:tensorflow:From <ipython-input-16-d0a5179ecf3f>:7: calling DNNClassifier.predict_classes (from tensorflow.contrib.learn.python.learn.estimators.dnn) with as_iterable=False is deprecated and will be removed after 2016-09-15.\n",
      "Instructions for updating:\n",
      "The default behavior of predict() is changing. The default value for\n",
      "as_iterable will change to True, and then the flag will be removed\n",
      "altogether. The behavior of this flag is described below.\n",
      "WARNING:tensorflow:From /Users/noellin/anaconda3/lib/python3.6/site-packages/tensorflow/contrib/learn/python/learn/estimators/dnn.py:422: calling BaseEstimator.predict (from tensorflow.contrib.learn.python.learn.estimators.estimator) with x is deprecated and will be removed after 2016-12-01.\n",
      "Instructions for updating:\n",
      "Estimator is decoupled from Scikit Learn interface by moving into\n",
      "separate class SKCompat. Arguments x, y and batch_size are only\n",
      "available in the SKCompat class, Estimator will only accept input_fn.\n",
      "Example conversion:\n",
      "  est = Estimator(...) -> est = SKCompat(Estimator(...))\n",
      "WARNING:tensorflow:From /Users/noellin/anaconda3/lib/python3.6/site-packages/tensorflow/contrib/learn/python/learn/estimators/dnn.py:422: calling BaseEstimator.predict (from tensorflow.contrib.learn.python.learn.estimators.estimator) with as_iterable is deprecated and will be removed after 2016-12-01.\n",
      "Instructions for updating:\n",
      "Estimator is decoupled from Scikit Learn interface by moving into\n",
      "separate class SKCompat. Arguments x, y and batch_size are only\n",
      "available in the SKCompat class, Estimator will only accept input_fn.\n",
      "Example conversion:\n",
      "  est = Estimator(...) -> est = SKCompat(Estimator(...))\n",
      "WARNING:tensorflow:float64 is not supported by many models, consider casting to float32.\n",
      "INFO:tensorflow:Restoring parameters from /var/folders/cv/j7y0jf0x0gbc39xntlnng44c0000gn/T/tmp9y8r2zmx/model.ckpt-100\n",
      "Runningvalidationset\n",
      "###\n",
      "Neural Net accuracy: 0.704\n",
      "Log. Regression accuracy: 0.577866666667\n",
      "###\n",
      "WARNING:tensorflow:From <ipython-input-16-d0a5179ecf3f>:7: calling DNNClassifier.predict_classes (from tensorflow.contrib.learn.python.learn.estimators.dnn) with as_iterable=False is deprecated and will be removed after 2016-09-15.\n",
      "Instructions for updating:\n",
      "The default behavior of predict() is changing. The default value for\n",
      "as_iterable will change to True, and then the flag will be removed\n",
      "altogether. The behavior of this flag is described below.\n",
      "WARNING:tensorflow:From /Users/noellin/anaconda3/lib/python3.6/site-packages/tensorflow/contrib/learn/python/learn/estimators/dnn.py:422: calling BaseEstimator.predict (from tensorflow.contrib.learn.python.learn.estimators.estimator) with x is deprecated and will be removed after 2016-12-01.\n",
      "Instructions for updating:\n",
      "Estimator is decoupled from Scikit Learn interface by moving into\n",
      "separate class SKCompat. Arguments x, y and batch_size are only\n",
      "available in the SKCompat class, Estimator will only accept input_fn.\n",
      "Example conversion:\n",
      "  est = Estimator(...) -> est = SKCompat(Estimator(...))\n",
      "WARNING:tensorflow:From /Users/noellin/anaconda3/lib/python3.6/site-packages/tensorflow/contrib/learn/python/learn/estimators/dnn.py:422: calling BaseEstimator.predict (from tensorflow.contrib.learn.python.learn.estimators.estimator) with as_iterable is deprecated and will be removed after 2016-12-01.\n",
      "Instructions for updating:\n",
      "Estimator is decoupled from Scikit Learn interface by moving into\n",
      "separate class SKCompat. Arguments x, y and batch_size are only\n",
      "available in the SKCompat class, Estimator will only accept input_fn.\n",
      "Example conversion:\n",
      "  est = Estimator(...) -> est = SKCompat(Estimator(...))\n",
      "WARNING:tensorflow:float64 is not supported by many models, consider casting to float32.\n",
      "INFO:tensorflow:Restoring parameters from /var/folders/cv/j7y0jf0x0gbc39xntlnng44c0000gn/T/tmp9y8r2zmx/model.ckpt-100\n",
      "Runningtest 1set\n",
      "###\n",
      "Neural Net accuracy: 0.709397039833\n",
      "Log. Regression accuracy: 0.587811661866\n",
      "###\n",
      "WARNING:tensorflow:From <ipython-input-16-d0a5179ecf3f>:7: calling DNNClassifier.predict_classes (from tensorflow.contrib.learn.python.learn.estimators.dnn) with as_iterable=False is deprecated and will be removed after 2016-09-15.\n",
      "Instructions for updating:\n",
      "The default behavior of predict() is changing. The default value for\n",
      "as_iterable will change to True, and then the flag will be removed\n",
      "altogether. The behavior of this flag is described below.\n",
      "WARNING:tensorflow:From /Users/noellin/anaconda3/lib/python3.6/site-packages/tensorflow/contrib/learn/python/learn/estimators/dnn.py:422: calling BaseEstimator.predict (from tensorflow.contrib.learn.python.learn.estimators.estimator) with x is deprecated and will be removed after 2016-12-01.\n",
      "Instructions for updating:\n",
      "Estimator is decoupled from Scikit Learn interface by moving into\n",
      "separate class SKCompat. Arguments x, y and batch_size are only\n",
      "available in the SKCompat class, Estimator will only accept input_fn.\n",
      "Example conversion:\n",
      "  est = Estimator(...) -> est = SKCompat(Estimator(...))\n",
      "WARNING:tensorflow:From /Users/noellin/anaconda3/lib/python3.6/site-packages/tensorflow/contrib/learn/python/learn/estimators/dnn.py:422: calling BaseEstimator.predict (from tensorflow.contrib.learn.python.learn.estimators.estimator) with as_iterable is deprecated and will be removed after 2016-12-01.\n",
      "Instructions for updating:\n",
      "Estimator is decoupled from Scikit Learn interface by moving into\n",
      "separate class SKCompat. Arguments x, y and batch_size are only\n",
      "available in the SKCompat class, Estimator will only accept input_fn.\n",
      "Example conversion:\n",
      "  est = Estimator(...) -> est = SKCompat(Estimator(...))\n",
      "WARNING:tensorflow:float64 is not supported by many models, consider casting to float32.\n",
      "INFO:tensorflow:Restoring parameters from /var/folders/cv/j7y0jf0x0gbc39xntlnng44c0000gn/T/tmp9y8r2zmx/model.ckpt-100\n",
      "Runningtest 2set\n",
      "###\n",
      "Neural Net accuracy: 0.706253414792\n",
      "Log. Regression accuracy: 0.580191725029\n",
      "###\n"
     ]
    }
   ],
   "source": [
    "runTests(X_train, y_train, dnn_clf, log_clf, 'training')\n",
    "runTests(X_val, y_val, dnn_clf, log_clf, 'validation')\n",
    "runTests(X_test1, y_test1, dnn_clf, log_clf, 'test 1')\n",
    "runTests(X_test2, y_test2, dnn_clf, log_clf, 'test 2')"
   ]
  },
  {
   "cell_type": "code",
   "execution_count": null,
   "metadata": {
    "scrolled": false
   },
   "outputs": [],
   "source": []
  },
  {
   "cell_type": "code",
   "execution_count": null,
   "metadata": {},
   "outputs": [],
   "source": []
  }
 ],
 "metadata": {
  "kernelspec": {
   "display_name": "Python 3",
   "language": "python",
   "name": "python3"
  },
  "language_info": {
   "codemirror_mode": {
    "name": "ipython",
    "version": 3
   },
   "file_extension": ".py",
   "mimetype": "text/x-python",
   "name": "python",
   "nbconvert_exporter": "python",
   "pygments_lexer": "ipython3",
   "version": "3.6.3"
  }
 },
 "nbformat": 4,
 "nbformat_minor": 2
}
