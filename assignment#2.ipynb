{
 "cells": [
  {
   "cell_type": "code",
   "execution_count": 1,
   "metadata": {
    "collapsed": true
   },
   "outputs": [],
   "source": [
    "import pandas as pd\n",
    "import numpy as np\n",
    "from random import shuffle\n",
    "from sklearn import svm\n",
    "from sklearn.svm import SVC\n",
    "from sklearn.svm import LinearSVC\n",
    "from sklearn.preprocessing import StandardScaler\n",
    "from sklearn.preprocessing import Imputer\n",
    "from sklearn.pipeline import Pipeline\n",
    "from sklearn.metrics import precision_recall_fscore_support as score\n",
    "from sklearn.metrics import accuracy_score\n",
    "import os\n",
    "import scipy\n",
    "import sqlite3\n",
    "from collections import defaultdict\n",
    "\n",
    "\n",
    "def find_results(tp,y_t):\n",
    "    \n",
    "    results = list(zip(tp,y_t))\n",
    "    correct = 0\n",
    "\n",
    "    for i in range(len(results)):\n",
    "        if results[i][0] == results[i][1]:\n",
    "            correct +=1\n",
    "    \n",
    "    return(correct/float(len(results)))\n",
    "\n",
    "\n",
    "\n",
    "def home_own_look(home_val):\n",
    "    re_v = 0\n",
    "    if home_val == 'OWN':\n",
    "        re_v = 1\n",
    "    return re_v"
   ]
  },
  {
   "cell_type": "code",
   "execution_count": 2,
   "metadata": {},
   "outputs": [
    {
     "name": "stdout",
     "output_type": "stream",
     "text": [
      "1\n",
      "2\n",
      "3\n",
      "4\n",
      "5\n"
     ]
    }
   ],
   "source": [
    "curr_path = os.path.realpath('')\n",
    "print(1)\n",
    "conn = sqlite3.connect(curr_path+\"/lending-club-loan-data/database.sqlite\")\n",
    "print(2)\n",
    "# very important, select a random sample of the data for our training set & validation sets \n",
    "# \n",
    "df = pd.read_sql_query(\"select * from loan where id in(select id from loan order by random() limit 800000);\", conn)\n",
    "print(3)\n",
    "df_default = pd.read_sql_query( \"select * from loan where loan_status='Charged Off' OR loan_status='Default' OR loan_status='Late (31-120 days)' OR loan_status='Late (16-30 days)' OR loan_status='Does not meet the credit policy. Status:Charged Off' AND id in(select id from loan order by random());\", conn)\n",
    "print(4)\n",
    "df_fully_paid = pd.read_sql_query(\"select * from loan where loan_status='Issued' OR loan_status='Fully Paid' OR loan_status='In Grace Period' OR loan_status='Does not meet the credit policy. Status:Fully Paid' AND id in(select id from loan order by random());\" , conn)\n",
    "print(5)\n",
    "# df_default = pd.read_sql_query(\"select\",conn)\n",
    "conn.close()\n",
    "# df = pd.read_sql_query(\"select * from loan where id in(select id from loan order by random() limit 200000);\", conn)\n",
    "# df_validation = pd.read_sql_query(\"select * from loan where id in(selec id from loan order by random() limit 100000);\", conn)\n",
    "# print(df)"
   ]
  },
  {
   "cell_type": "code",
   "execution_count": 3,
   "metadata": {
    "collapsed": true
   },
   "outputs": [],
   "source": [
    "# grab a 50,000 test set\n",
    "# df_test = df.sample(n = 50000).reset_index(drop=True)\n",
    "# df_test.to_csv('X_test_set.csv', encoding='utf-8')\n",
    "# write the 50,000 test set to a csv file\n",
    "df_test = pd.read_csv('X_test_set.csv', encoding='utf-8')\n",
    "df_test.fillna(value = np.nan, inplace=True)"
   ]
  },
  {
   "cell_type": "code",
   "execution_count": 4,
   "metadata": {
    "scrolled": true
   },
   "outputs": [
    {
     "name": "stdout",
     "output_type": "stream",
     "text": [
      "        index        id   member_id  loan_amnt  funded_amnt  funded_amnt_inv  \\\n",
      "0       47388   6965372   8607513.0    15875.0      15875.0     15875.000000   \n",
      "1      208098  12246475  14238604.0    23000.0      23000.0     23000.000000   \n",
      "2      381799  40431422  43296181.0    13700.0      13700.0     13700.000000   \n",
      "3      117474  21099400  23382258.0    16000.0      16000.0     16000.000000   \n",
      "4       68262   6454747   7996880.0    14000.0      14000.0     14000.000000   \n",
      "5      100058  24003390  26376341.0    18000.0      18000.0     18000.000000   \n",
      "6      125393   3284622   4056784.0    18000.0      18000.0     18000.000000   \n",
      "7       36782    401073    444858.0     9000.0       9000.0      6251.631272   \n",
      "8      148510   1608730   1880110.0    10500.0      10500.0     10475.000000   \n",
      "9      167958   1388512   1634493.0     9000.0       9000.0      9000.000000   \n",
      "10     185675   1111533   1348533.0    10500.0      10500.0     10475.000000   \n",
      "11     190110  12446850  14458979.0     8000.0       8000.0      8000.000000   \n",
      "12     116627   3497035   4379509.0     8875.0       8875.0      8750.000000   \n",
      "13     397543  39549519  42373241.0     5000.0       5000.0      5000.000000   \n",
      "14      88563  25366799  27809623.0     3600.0       3600.0      3600.000000   \n",
      "15     121130   3357383   4171025.0    12000.0      12000.0     12000.000000   \n",
      "16     148355  17713298  19845843.0    24000.0      24000.0     24000.000000   \n",
      "17     390411  39887294  42732012.0    16700.0      16700.0     16675.000000   \n",
      "18     188894  12906200  14938386.0    16800.0      16800.0     16800.000000   \n",
      "19      66743   6546693   8098806.0    15000.0      15000.0     15000.000000   \n",
      "20      29664    520447    672835.0     3700.0       3700.0      3665.682008   \n",
      "21     180858   1189449   1430573.0     7700.0       7700.0      7700.000000   \n",
      "22     166909  58512525  62353259.0    21150.0      21150.0     21150.000000   \n",
      "23     162947   1423152   1673952.0     3825.0       3825.0      3800.000000   \n",
      "24     417701  38291817  41075564.0    25425.0      25425.0     25375.000000   \n",
      "25      41571  32018813  34632042.0    12000.0      12000.0     12000.000000   \n",
      "26     214329  11686509  13658661.0    16000.0      16000.0     16000.000000   \n",
      "27     396856  39689898  42513636.0    35000.0      35000.0     35000.000000   \n",
      "28     351983  42298050  45265030.0    26575.0      26575.0     26525.000000   \n",
      "29     341980  43550326  46577093.0     7500.0       7500.0      7500.000000   \n",
      "...       ...       ...         ...        ...          ...              ...   \n",
      "24970     265   1066171   1300523.0    12000.0      12000.0     12000.000000   \n",
      "24971   13846  67307104  72108868.0    14000.0      14000.0     14000.000000   \n",
      "24972   32673   8125479   9867575.0     4000.0       4000.0      4000.000000   \n",
      "24973  156456  16471831  18554322.0    18825.0      18825.0     18825.000000   \n",
      "24974   23874    605956    777349.0    18000.0      18000.0     17825.000000   \n",
      "24975  155674   1531381   1795520.0    12550.0      12550.0     12550.000000   \n",
      "24976  202721  12517626  14529744.0    30000.0      30000.0     30000.000000   \n",
      "24977  147437   1627026   1899320.0    15000.0      15000.0     15000.000000   \n",
      "24978   95147  63084638  67420357.0    20825.0      20825.0     20825.000000   \n",
      "24979     506  68416483  73306294.0    30000.0      30000.0     30000.000000   \n",
      "24980  183073   1150083   1391069.0    10000.0      10000.0     10000.000000   \n",
      "24981  141112   2175810   2548739.0    10000.0      10000.0     10000.000000   \n",
      "24982  313784  46135149  49242905.0     5000.0       5000.0      5000.000000   \n",
      "24983   27525   7066672   8728800.0    15000.0      15000.0     15000.000000   \n",
      "24984  133958   2477149   2969506.0    12075.0      12075.0     12075.000000   \n",
      "24985  146242  17133113  19255631.0     4075.0       4075.0      4075.000000   \n",
      "24986  276417  42924236  45920953.0    18000.0      18000.0     18000.000000   \n",
      "24987   35433    436924    523225.0     3000.0       3000.0      2975.000000   \n",
      "24988  154946   1539526   1805125.0    19075.0      19075.0     19075.000000   \n",
      "24989   43917  31868030  34491221.0    15000.0      15000.0     15000.000000   \n",
      "24990  372765  40980230  43855998.0     9050.0       9050.0      9050.000000   \n",
      "24991  390832  39602635  42426518.0     5000.0       5000.0      5000.000000   \n",
      "24992  183293  13538631  13287744.0    30000.0      30000.0     30000.000000   \n",
      "24993  194064  13006800  15038987.0     6325.0       6325.0      6325.000000   \n",
      "24994   35708    431602    512412.0    18000.0      18000.0     10716.829021   \n",
      "24995    6169  65656576  70289415.0     8000.0       8000.0      8000.000000   \n",
      "24996   11270    815210   1022814.0     6000.0       6000.0      6000.000000   \n",
      "24997   23614    611933    784670.0    18000.0      18000.0     17746.925626   \n",
      "24998  138095  16171906  18274391.0    25000.0      25000.0     25000.000000   \n",
      "24999  324886  43946226  46962966.0    35000.0      35000.0     35000.000000   \n",
      "\n",
      "             term int_rate  installment grade     ...      total_bal_il  \\\n",
      "0       60 months   22.40%       442.07     E     ...               NaN   \n",
      "1       60 months   20.49%       615.65     E     ...               NaN   \n",
      "2       60 months   24.50%       398.11     F     ...               NaN   \n",
      "3       60 months   13.35%       366.93     C     ...               NaN   \n",
      "4       60 months   15.88%       339.57     C     ...               NaN   \n",
      "5       60 months   18.24%       459.44     D     ...               NaN   \n",
      "6       60 months   23.28%       510.33     F     ...               NaN   \n",
      "7       36 months   12.21%       299.84     B     ...               NaN   \n",
      "8       36 months   12.12%       349.36     B     ...               NaN   \n",
      "9       36 months   13.11%       303.73     B     ...               NaN   \n",
      "10      36 months   14.65%       362.19     C     ...               NaN   \n",
      "11      36 months   14.64%       275.92     C     ...               NaN   \n",
      "12      36 months   18.49%       323.04     D     ...               NaN   \n",
      "13      36 months   15.59%       174.78     D     ...               NaN   \n",
      "14      36 months   17.57%       129.38     D     ...               NaN   \n",
      "15      36 months   17.27%       429.45     C     ...               NaN   \n",
      "16      60 months   17.57%       603.85     D     ...               NaN   \n",
      "17      36 months   10.49%       542.72     B     ...               NaN   \n",
      "18      60 months   16.59%       413.83     D     ...               NaN   \n",
      "19      60 months   16.78%       371.02     C     ...               NaN   \n",
      "20      60 months   16.45%        90.87     E     ...               NaN   \n",
      "21      36 months   14.65%       265.61     C     ...               NaN   \n",
      "22      36 months   15.61%       739.51     D     ...               NaN   \n",
      "23      36 months    8.90%       121.46     A     ...               NaN   \n",
      "24      60 months    8.67%       523.72     B     ...               NaN   \n",
      "25      36 months   14.49%       413.00     C     ...               NaN   \n",
      "26      36 months   19.22%       588.28     D     ...               NaN   \n",
      "27      60 months   17.86%       886.11     D     ...               NaN   \n",
      "28      60 months   19.52%       697.00     E     ...               NaN   \n",
      "29      36 months   13.33%       253.90     C     ...               NaN   \n",
      "...           ...      ...          ...   ...     ...               ...   \n",
      "24970   36 months   12.69%       402.54     B     ...               NaN   \n",
      "24971   60 months   17.57%       352.25     D     ...            3511.0   \n",
      "24972   36 months    6.97%       123.46     A     ...               NaN   \n",
      "24973   60 months   16.99%       467.75     D     ...               NaN   \n",
      "24974   36 months   15.95%       632.39     E     ...               NaN   \n",
      "24975   36 months   11.14%       411.71     B     ...               NaN   \n",
      "24976   36 months    9.67%       963.38     B     ...               NaN   \n",
      "24977   36 months   15.31%       522.26     C     ...               NaN   \n",
      "24978   60 months   17.86%       527.24     D     ...               NaN   \n",
      "24979   36 months   13.44%      1017.19     C     ...           51865.0   \n",
      "24980   36 months   18.55%       364.29     D     ...               NaN   \n",
      "24981   36 months   12.12%       332.72     B     ...               NaN   \n",
      "24982   36 months    9.99%       161.32     B     ...               NaN   \n",
      "24983   60 months   15.61%       361.67     C     ...               NaN   \n",
      "24984   36 months    7.90%       377.83     A     ...               NaN   \n",
      "24985   36 months   14.49%       140.25     C     ...               NaN   \n",
      "24986   60 months   15.61%       434.01     D     ...               NaN   \n",
      "24987   36 months    7.40%        93.18     A     ...               NaN   \n",
      "24988   36 months   10.16%       616.94     B     ...               NaN   \n",
      "24989   36 months    8.39%       472.75     A     ...               NaN   \n",
      "24990   36 months   10.99%       296.25     B     ...               NaN   \n",
      "24991   36 months   11.44%       164.74     B     ...               NaN   \n",
      "24992   60 months   16.59%       738.98     D     ...               NaN   \n",
      "24993   36 months   12.99%       213.09     B     ...               NaN   \n",
      "24994   36 months   17.39%       645.26     E     ...               NaN   \n",
      "24995   36 months   13.44%       271.26     C     ...           49816.0   \n",
      "24996   36 months   10.99%       196.41     B     ...               NaN   \n",
      "24997   36 months    8.88%       571.40     B     ...               NaN   \n",
      "24998   36 months    7.69%       779.84     A     ...               NaN   \n",
      "24999   36 months   12.29%      1167.36     C     ...               NaN   \n",
      "\n",
      "      il_util open_rv_12m open_rv_24m  max_bal_bc all_util total_rev_hi_lim  \\\n",
      "0         NaN         NaN         NaN         NaN      NaN          17600.0   \n",
      "1         NaN         NaN         NaN         NaN      NaN          11000.0   \n",
      "2         NaN         NaN         NaN         NaN      NaN          12200.0   \n",
      "3         NaN         NaN         NaN         NaN      NaN          31600.0   \n",
      "4         NaN         NaN         NaN         NaN      NaN          16700.0   \n",
      "5         NaN         NaN         NaN         NaN      NaN           4200.0   \n",
      "6         NaN         NaN         NaN         NaN      NaN          30000.0   \n",
      "7         NaN         NaN         NaN         NaN      NaN              NaN   \n",
      "8         NaN         NaN         NaN         NaN      NaN          18700.0   \n",
      "9         NaN         NaN         NaN         NaN      NaN              NaN   \n",
      "10        NaN         NaN         NaN         NaN      NaN              NaN   \n",
      "11        NaN         NaN         NaN         NaN      NaN          37800.0   \n",
      "12        NaN         NaN         NaN         NaN      NaN          15900.0   \n",
      "13        NaN         NaN         NaN         NaN      NaN          32400.0   \n",
      "14        NaN         NaN         NaN         NaN      NaN          24200.0   \n",
      "15        NaN         NaN         NaN         NaN      NaN          10300.0   \n",
      "16        NaN         NaN         NaN         NaN      NaN          20500.0   \n",
      "17        NaN         NaN         NaN         NaN      NaN          29200.0   \n",
      "18        NaN         NaN         NaN         NaN      NaN          10400.0   \n",
      "19        NaN         NaN         NaN         NaN      NaN          33500.0   \n",
      "20        NaN         NaN         NaN         NaN      NaN              NaN   \n",
      "21        NaN         NaN         NaN         NaN      NaN              NaN   \n",
      "22        NaN         NaN         NaN         NaN      NaN           8900.0   \n",
      "23        NaN         NaN         NaN         NaN      NaN              NaN   \n",
      "24        NaN         NaN         NaN         NaN      NaN         334900.0   \n",
      "25        NaN         NaN         NaN         NaN      NaN          14300.0   \n",
      "26        NaN         NaN         NaN         NaN      NaN          28600.0   \n",
      "27        NaN         NaN         NaN         NaN      NaN          61640.0   \n",
      "28        NaN         NaN         NaN         NaN      NaN          50700.0   \n",
      "29        NaN         NaN         NaN         NaN      NaN           9200.0   \n",
      "...       ...         ...         ...         ...      ...              ...   \n",
      "24970     NaN         NaN         NaN         NaN      NaN              NaN   \n",
      "24971    47.2         3.0         5.0      3032.0     30.6          14700.0   \n",
      "24972     NaN         NaN         NaN         NaN      NaN          62300.0   \n",
      "24973     NaN         NaN         NaN         NaN      NaN          45900.0   \n",
      "24974     NaN         NaN         NaN         NaN      NaN              NaN   \n",
      "24975     NaN         NaN         NaN         NaN      NaN          33800.0   \n",
      "24976     NaN         NaN         NaN         NaN      NaN          25900.0   \n",
      "24977     NaN         NaN         NaN         NaN      NaN          35300.0   \n",
      "24978     NaN         NaN         NaN         NaN      NaN          19500.0   \n",
      "24979    79.4         1.0         5.0      4438.0     76.2          28700.0   \n",
      "24980     NaN         NaN         NaN         NaN      NaN              NaN   \n",
      "24981     NaN         NaN         NaN         NaN      NaN          22100.0   \n",
      "24982     NaN         NaN         NaN         NaN      NaN          52900.0   \n",
      "24983     NaN         NaN         NaN         NaN      NaN          54600.0   \n",
      "24984     NaN         NaN         NaN         NaN      NaN          36900.0   \n",
      "24985     NaN         NaN         NaN         NaN      NaN           1200.0   \n",
      "24986     NaN         NaN         NaN         NaN      NaN          14300.0   \n",
      "24987     NaN         NaN         NaN         NaN      NaN              NaN   \n",
      "24988     NaN         NaN         NaN         NaN      NaN           6000.0   \n",
      "24989     NaN         NaN         NaN         NaN      NaN          20900.0   \n",
      "24990     NaN         NaN         NaN         NaN      NaN          27300.0   \n",
      "24991     NaN         NaN         NaN         NaN      NaN          12300.0   \n",
      "24992     NaN         NaN         NaN         NaN      NaN          34900.0   \n",
      "24993     NaN         NaN         NaN         NaN      NaN           5800.0   \n",
      "24994     NaN         NaN         NaN         NaN      NaN              NaN   \n",
      "24995    98.9         3.0         3.0      1527.0     88.4           7900.0   \n",
      "24996     NaN         NaN         NaN         NaN      NaN              NaN   \n",
      "24997     NaN         NaN         NaN         NaN      NaN              NaN   \n",
      "24998     NaN         NaN         NaN         NaN      NaN          59800.0   \n",
      "24999     NaN         NaN         NaN         NaN      NaN          52900.0   \n",
      "\n",
      "      inq_fi total_cu_tl inq_last_12m  \n",
      "0        NaN         NaN          NaN  \n",
      "1        NaN         NaN          NaN  \n",
      "2        NaN         NaN          NaN  \n",
      "3        NaN         NaN          NaN  \n",
      "4        NaN         NaN          NaN  \n",
      "5        NaN         NaN          NaN  \n",
      "6        NaN         NaN          NaN  \n",
      "7        NaN         NaN          NaN  \n",
      "8        NaN         NaN          NaN  \n",
      "9        NaN         NaN          NaN  \n",
      "10       NaN         NaN          NaN  \n",
      "11       NaN         NaN          NaN  \n",
      "12       NaN         NaN          NaN  \n",
      "13       NaN         NaN          NaN  \n",
      "14       NaN         NaN          NaN  \n",
      "15       NaN         NaN          NaN  \n",
      "16       NaN         NaN          NaN  \n",
      "17       NaN         NaN          NaN  \n",
      "18       NaN         NaN          NaN  \n",
      "19       NaN         NaN          NaN  \n",
      "20       NaN         NaN          NaN  \n",
      "21       NaN         NaN          NaN  \n",
      "22       NaN         NaN          NaN  \n",
      "23       NaN         NaN          NaN  \n",
      "24       NaN         NaN          NaN  \n",
      "25       NaN         NaN          NaN  \n",
      "26       NaN         NaN          NaN  \n",
      "27       NaN         NaN          NaN  \n",
      "28       NaN         NaN          NaN  \n",
      "29       NaN         NaN          NaN  \n",
      "...      ...         ...          ...  \n",
      "24970    NaN         NaN          NaN  \n",
      "24971    0.0         0.0          2.0  \n",
      "24972    NaN         NaN          NaN  \n",
      "24973    NaN         NaN          NaN  \n",
      "24974    NaN         NaN          NaN  \n",
      "24975    NaN         NaN          NaN  \n",
      "24976    NaN         NaN          NaN  \n",
      "24977    NaN         NaN          NaN  \n",
      "24978    NaN         NaN          NaN  \n",
      "24979    0.0         2.0          2.0  \n",
      "24980    NaN         NaN          NaN  \n",
      "24981    NaN         NaN          NaN  \n",
      "24982    NaN         NaN          NaN  \n",
      "24983    NaN         NaN          NaN  \n",
      "24984    NaN         NaN          NaN  \n",
      "24985    NaN         NaN          NaN  \n",
      "24986    NaN         NaN          NaN  \n",
      "24987    NaN         NaN          NaN  \n",
      "24988    NaN         NaN          NaN  \n",
      "24989    NaN         NaN          NaN  \n",
      "24990    NaN         NaN          NaN  \n",
      "24991    NaN         NaN          NaN  \n",
      "24992    NaN         NaN          NaN  \n",
      "24993    NaN         NaN          NaN  \n",
      "24994    NaN         NaN          NaN  \n",
      "24995    0.0         0.0          2.0  \n",
      "24996    NaN         NaN          NaN  \n",
      "24997    NaN         NaN          NaN  \n",
      "24998    NaN         NaN          NaN  \n",
      "24999    NaN         NaN          NaN  \n",
      "\n",
      "[50000 rows x 75 columns]\n"
     ]
    }
   ],
   "source": [
    "# grab a random set of 25,000 \"default\" examples\n",
    "df_default_pick = df_default.sample(n = 50000).reset_index(drop=True)\n",
    "# grab a random set of 25,000 \"fully paid\" examples\n",
    "df_fully_paid_pick = df_fully_paid.sample(n = 50000).reset_index(drop=True)\n",
    "\n",
    "df_for_validation = df.sample(n = 50000).reset_index(drop=True)\n",
    "\n",
    "df_def_1 = df_default_pick.iloc[:int(len(df_default_pick)/2), :]\n",
    "df_def_2 = df_default_pick.iloc[int(len(df_default_pick)/2):, :]\n",
    "df_fp_1 = df_fully_paid_pick.iloc[:int(len(df_fully_paid_pick)/2), :]\n",
    "df_fp_2 = df_fully_paid_pick.iloc[int(len(df_fully_paid_pick)/2):, :]\n",
    "# append the training sets together first 25,000 defaults, next 25,000 non-defaults\n",
    "dt1 = df_def_1.append(df_fp_1)\n",
    "dv1 = df_def_2.append(df_fp_2)\n",
    "# convert the NaNs to None\n",
    "# data_train = dt1.where((pd.notnull(dt1)), None)\n",
    "# data_validation = dv1.where((pd.notnull(dv1)), None)\n",
    "data_train = dt1\n",
    "data_validation = df_for_validation\n",
    "data_train.fillna(value = np.nan, inplace=True)\n",
    "data_validation.fillna(value = np.nan, inplace=True)\n",
    "\n",
    "# print(len(df_default))\n",
    "# print(len(df_fully_paid))\n",
    "# print(len(data_train))\n",
    "print(data_train)\n"
   ]
  },
  {
   "cell_type": "code",
   "execution_count": 5,
   "metadata": {
    "collapsed": true,
    "scrolled": false
   },
   "outputs": [],
   "source": [
    "# set up \n",
    "\n",
    "sub_g_labels = ['A1','A2','A3','A4','A5','B1','B2','B3','B4','B5','C1','C2','C3','C4','C5','D1','D2','D3'\\\n",
    "            ,'D4','D5','E1','E2','E3','E4','E5','F1','F2','F3','F4','F5','G1','G2','G3','G4','G5']\n",
    "\n",
    "# make sub_grade \n",
    "# give sub grade numeric value.\n",
    "grade_v = [(1.0/35 * i) for i in range(1, 36)]\n",
    "\n",
    "# dictionary to make sub_grade val to sub_grade string\n",
    "# sub_grade_dict = dict(zip(sub_g_labels, grade_v))\n",
    "sub_grade_dict = dict(zip(sub_g_labels, range(1, 36)))\n",
    "\n",
    "# print(sub_grade_dict)\n",
    "# print(df.axes)"
   ]
  },
  {
   "cell_type": "code",
   "execution_count": 6,
   "metadata": {
    "scrolled": true
   },
   "outputs": [],
   "source": [
    "ax = ['Index','index','id','member_id','loan_amnt','funded_amnt','funded_amnt_inv','term','int_rate','installment','grade','sub_grade'\\\n",
    "      ,'emp_title','emp_length','home_ownership','annual_inc','verification_status','issue_d','loan_status','pymnt_plan','url','desc','purpose','title','zip_code','addr_state','dti'\\\n",
    "      ,'delinq_2yrs','earliest_cr_line','inq_last_6mths','mths_since_last_delinq','mths_since_last_record','open_acc','pub_rec'\\\n",
    "      ,'revol_bal','revol_util','total_acc','initial_list_status','out_prncp','out_prncp_inv','total_pymnt','total_pymnt_inv'\\\n",
    "      ,'total_rec_prncp','total_rec_int','total_rec_late_fee','recoveries','collection_recovery_fee','last_pymnt_d','last_pymnt_amnt'\\\n",
    "      ,'next_pymnt_d','last_credit_pull_d','collections_12_mths_ex_med','mths_since_last_major_derog','policy_code','application_type'\\\n",
    "      ,'annual_inc_joint','dti_joint','verification_status_joint','acc_now_delinq','tot_coll_amt','tot_cur_bal','open_acc_6m','open_il_6m'\\\n",
    "      ,'open_il_12m','open_il_24m','mths_since_rcnt_il','total_bal_il','il_util','open_rv_12m','open_rv_24m','max_bal_bc'\\\n",
    "      ,'all_util','total_rev_hi_lim','inq_fi','total_cu_tl','inq_last_12m']\n",
    "\n",
    "look = dict(zip(ax, range(len(ax))))\n",
    "ls = 'loan_status'\n",
    "\n",
    "\n",
    "\n",
    "def feature(datum):\n",
    "    # create our simplistic featur vector\n",
    "    sg = sub_grade_dict[datum[look['sub_grade']]]\n",
    "    la = datum[look['loan_amnt']]\n",
    "    dti = datum[look['dti']]\n",
    "    ho = home_own_look(datum[look['home_ownership']])\n",
    "    ai = datum[look['annual_inc']]\n",
    "    return [sg,la,dti,ho,ai]\n",
    "    # return [sub_grade_dict[datum[look['sub_grade']]], datum[look['loan_amnt']]]\n",
    "\n",
    "\n",
    "    \n",
    "\n",
    "def prediction_of_y(datum):\n",
    "    if ((datum[look[ls]] == 'Charged Off') or (datum[look[ls]] == 'Default') or (datum[look[ls]] == 'Late (31-120 days)' ) or (datum[look[ls]] == 'Late (16-30 days)') or (datum[look[ls]] =='Does not meet the credit policy. Status:Charged Off')):\n",
    "        return True\n",
    "    else:\n",
    "        return False\n",
    "\n",
    "# X_train = [feature(d) for d in data_train]\n",
    "X_train = []\n",
    "pp = True\n",
    "for row in data_train.itertuples():\n",
    "    if pp: \n",
    "        # print(row)\n",
    "        pp = False\n",
    "    X_train.append(feature(row))\n",
    "    \n",
    "# y_train = [prediction_of_y(d) for d in data_train]\n",
    "y_train = []\n",
    "for row in data_train.itertuples():\n",
    "    y_train.append(prediction_of_y(row))\n",
    "    "
   ]
  },
  {
   "cell_type": "code",
   "execution_count": 8,
   "metadata": {},
   "outputs": [
    {
     "name": "stdout",
     "output_type": "stream",
     "text": [
      "dict_keys(['Charged Off', 'Default', 'Late (31-120 days)', 'Late (16-30 days)', 'Does not meet the credit policy. Status:Charged Off'])\n",
      "76\n"
     ]
    }
   ],
   "source": [
    "l_status_dict = defaultdict(int)\n",
    "for row in df_default.itertuples():\n",
    "    # print(row[3])\n",
    "    if row[18] not in l_status_dict:\n",
    "        l_status_dict[row[18]] += 1\n",
    "        \n",
    "print(l_status_dict.keys())\n",
    "print(len(ax))\n",
    "# print(df.keys)"
   ]
  },
  {
   "cell_type": "code",
   "execution_count": 20,
   "metadata": {
    "collapsed": true,
    "scrolled": true
   },
   "outputs": [],
   "source": [
    "# a = list(zip(X_train[:50],y_train[:50]))\n",
    "# print(a)\n",
    "# pipline to scale the feature vectors and run the svm\n",
    "rbf_svm_clf = Pipeline((\n",
    "        ('imputer', Imputer(strategy='mean')),\n",
    "        ('scaler', StandardScaler()),\n",
    "        (\"rbf_svc\", SVC(kernel='rbf', C=1))\n",
    "    ))\n",
    "\n",
    "linear_svm_clf = Pipeline((\n",
    "        ('imputer', Imputer(strategy='mean')),\n",
    "        ('scaler',StandardScaler()),\n",
    "        ('linear_svc', LinearSVC(C=1))\n",
    "    ))\n"
   ]
  },
  {
   "cell_type": "code",
   "execution_count": 21,
   "metadata": {},
   "outputs": [
    {
     "name": "stdout",
     "output_type": "stream",
     "text": [
      "0.64496\n"
     ]
    }
   ],
   "source": [
    "# clf = svm.SVC(C=1, kernel='rbf')\n",
    "# clf.fit(scaler.transform(X_train), y_train)\n",
    "rbf_svm_clf.fit(X_train, y_train)\n",
    "train_predictions = rbf_svm_clf.predict(X_train)\n",
    "\n",
    "# test_predictions = clf.predict(X_test)\n",
    "print(find_results(train_predictions,y_train))"
   ]
  },
  {
   "cell_type": "code",
   "execution_count": 22,
   "metadata": {},
   "outputs": [
    {
     "name": "stdout",
     "output_type": "stream",
     "text": [
      "0.63926\n"
     ]
    }
   ],
   "source": [
    "# rbf_svm_clf_C1000.fit(X_train, y_train)\n",
    "# train_predictions_C1000 = rbf_svm_clf_C1000.predict(X_train)\n",
    "linear_svm_clf.fit(X_train, y_train)\n",
    "train_lin_predict = linear_svm_clf.predict(X_train)\n",
    "print(find_results(train_lin_predict,y_train))"
   ]
  },
  {
   "cell_type": "code",
   "execution_count": 23,
   "metadata": {},
   "outputs": [
    {
     "name": "stdout",
     "output_type": "stream",
     "text": [
      "0.64496\n"
     ]
    }
   ],
   "source": [
    "# what % acc did we get?\n",
    "\n",
    "print(find_results(train_predictions, y_train))\n",
    "# print(find_results(train_predictions_C1000, y_train))\n",
    "# print(find_results(train_predictions_C001, y_train))"
   ]
  },
  {
   "cell_type": "code",
   "execution_count": 24,
   "metadata": {},
   "outputs": [
    {
     "name": "stdout",
     "output_type": "stream",
     "text": [
      "False\n",
      "False\n",
      "29052\n",
      "0.58104\n"
     ]
    }
   ],
   "source": [
    "# prep the SVM to run on the validation set\n",
    "X_valid = []\n",
    "for row in data_validation.itertuples():\n",
    "    X_valid.append(feature(row))\n",
    "    \n",
    "y_valid = []\n",
    "for row in data_validation.itertuples():\n",
    "    y_valid.append(prediction_of_y(row))\n",
    "\n",
    "    \n",
    "#find the acc of the validation set\n",
    "valid_predictions = rbf_svm_clf.predict(X_valid)\n",
    "\n",
    "results_valid = list(zip(valid_predictions, y_valid))\n",
    "correct_valid = 0\n",
    "flag = True\n",
    "for i in range(len(results_valid)):\n",
    "    if flag:\n",
    "        print(results_valid[i][0])\n",
    "        print(results_valid[i][1])\n",
    "        flag = False\n",
    "    if results_valid[i][0] == results_valid[i][1]:\n",
    "        correct_valid +=1\n",
    "\n",
    "print(correct_valid)\n",
    "print(correct_valid/float(len(results_valid)))\n"
   ]
  },
  {
   "cell_type": "code",
   "execution_count": 25,
   "metadata": {},
   "outputs": [
    {
     "name": "stdout",
     "output_type": "stream",
     "text": [
      "precision is: [ 0.64806341  0.64198402]\n",
      "recall is: [ 0.63448  0.65544]\n",
      "fscore is: [ 0.64119977  0.64864223]\n",
      "support is: [25000 25000]\n",
      "accuracy is: 0.64496\n"
     ]
    }
   ],
   "source": [
    "precision, recall, fscore, support = score(y_train, train_predictions)\n",
    "acc = accuracy_score(y_train, train_predictions)\n",
    "print('precision is: '+str(precision))\n",
    "print('recall is: '+str(recall))\n",
    "print('fscore is: '+str(fscore))\n",
    "print('support is: '+str(support))\n",
    "print('accuracy is: '+str(acc))"
   ]
  },
  {
   "cell_type": "code",
   "execution_count": 26,
   "metadata": {},
   "outputs": [
    {
     "name": "stdout",
     "output_type": "stream",
     "text": [
      "precision is: [ 0.95744986  0.10507246]\n",
      "recall is: [ 0.57498064  0.6613455 ]\n",
      "fscore is: [ 0.71848627  0.181335  ]\n",
      "support is: [46492  3508]\n",
      "accuracy is: 0.58104\n"
     ]
    }
   ],
   "source": [
    "precision, recall, fscore, support = score(y_valid, valid_predictions)\n",
    "acc = accuracy_score(y_valid, valid_predictions)\n",
    "print('precision is: '+str(precision))\n",
    "print('recall is: '+str(recall))\n",
    "print('fscore is: '+str(fscore))\n",
    "print('support is: '+str(support))\n",
    "print('accuracy is: '+str(acc))"
   ]
  },
  {
   "cell_type": "code",
   "execution_count": 27,
   "metadata": {},
   "outputs": [
    {
     "name": "stdout",
     "output_type": "stream",
     "text": [
      "precision is: [ 0.95757511  0.10238892]\n",
      "recall is: [ 0.57965257  0.65121027]\n",
      "fscore is: [ 0.72215832  0.17695538]\n",
      "support is: [46571  3429]\n",
      "accuracy is: 0.58456\n"
     ]
    }
   ],
   "source": [
    "# prep the SVM to run on the validation set\n",
    "X_test = []\n",
    "for row in df_test.itertuples():\n",
    "    X_test.append(feature(row))\n",
    "    \n",
    "y_test = []\n",
    "for row in df_test.itertuples():\n",
    "    y_test.append(prediction_of_y(row))\n",
    "\n",
    "    \n",
    "#find the acc of the validation set\n",
    "test_predictions = rbf_svm_clf.predict(X_test)\n",
    "\n",
    "precision, recall, fscore, support = score(y_test, test_predictions)\n",
    "acc = accuracy_score(y_test, test_predictions)\n",
    "print('precision is: '+str(precision))\n",
    "print('recall is: '+str(recall))\n",
    "print('fscore is: '+str(fscore))\n",
    "print('support is: '+str(support))\n",
    "print('accuracy is: '+str(acc))"
   ]
  },
  {
   "cell_type": "code",
   "execution_count": 28,
   "metadata": {},
   "outputs": [
    {
     "name": "stdout",
     "output_type": "stream",
     "text": [
      "3429\n",
      "50000\n"
     ]
    }
   ],
   "source": [
    "print(sum(y_test))\n",
    "print(len(y_test))"
   ]
  },
  {
   "cell_type": "code",
   "execution_count": null,
   "metadata": {
    "collapsed": true
   },
   "outputs": [],
   "source": []
  }
 ],
 "metadata": {
  "kernelspec": {
   "display_name": "Python 3",
   "language": "python",
   "name": "python3"
  },
  "language_info": {
   "codemirror_mode": {
    "name": "ipython",
    "version": 3
   },
   "file_extension": ".py",
   "mimetype": "text/x-python",
   "name": "python",
   "nbconvert_exporter": "python",
   "pygments_lexer": "ipython3",
   "version": "3.6.3"
  }
 },
 "nbformat": 4,
 "nbformat_minor": 2
}
