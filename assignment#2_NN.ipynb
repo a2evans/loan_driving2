{
 "cells": [
  {
   "cell_type": "code",
   "execution_count": 2,
   "metadata": {
    "collapsed": true
   },
   "outputs": [],
   "source": [
    "import pandas as pd\n",
    "import numpy as np\n",
    "import os\n",
    "import scipy\n",
    "import sqlite3\n",
    "import tensorflow as tf\n",
    "import string"
   ]
  },
  {
   "cell_type": "code",
   "execution_count": null,
   "metadata": {
    "collapsed": true
   },
   "outputs": [],
   "source": [
    "# create our data set\n",
    "curr_path = os.path.realpath('')\n",
    "conn = sqlite3.connect(curr_path+\"/lending-club-loan-data/database.sqlite\")"
   ]
  },
  {
   "cell_type": "code",
   "execution_count": 16,
   "metadata": {
    "scrolled": true
   },
   "outputs": [
    {
     "name": "stdout",
     "output_type": "stream",
     "text": [
      "852525\n",
      "[[0, 11.55, 7, 1, 1, 26.09]]\n",
      "[0]\n"
     ]
    }
   ],
   "source": [
    "###@@@@@ \n",
    "#         NORMALIZE and add loan_amnt and annual_inc back later \n",
    "###@@@@\n",
    "df_tf = pd.read_sql_query(\"select loan_status, term, int_rate, emp_length, home_ownership, verification_status, dti  from loan where emp_length != 'n/a' OR loan_status =='Fully Paid' OR loan_status == 'Charged Off' OR loan_status == 'Default'\", conn)\n",
    "# df_desc = pd.read_sql_query(\"select loan_amnt, loan_status, sub_grade from loan where desc != 'NULL' AND loan_status !='Current' AND loan_status !='Late (31-120 days)' AND loan_status != 'Late (16-30 days)'\", conn)\n",
    "print (len(df_tf))\n",
    "\n",
    "data = []\n",
    "results = []\n",
    "for i in range(100000):  # data set of 10000 for faster run time. Replace with range(len(df_tf)) later\n",
    "    # one hot encoding for loan status. Or 0, 1, 2\n",
    "    # loan_status = ['1', '0', '0'] if df_tf.iloc[i][0] == 'Fully Paid' else ['0', '1', '0'] if df_tf.iloc[i][0] == 'Default' else ['0', '0', '1']\n",
    "    loan_status = 0 if df_tf.iloc[i][0] == 'Fully Paid' else 1 # bad if not fully paid\n",
    "    \n",
    "    # 0 if term is 36 months, 1 if 60 months\n",
    "    term = 0 if df_tf.iloc[i][1] == ' 36 months' else 1\n",
    "    \n",
    "    # change interest rate from str to float\n",
    "    int_rate = float(df_tf.iloc[i][2].replace('%', ''))\n",
    "    \n",
    "    # get employment length\n",
    "    txt = ''.join([c for c in df_tf.iloc[i][3].lower() if not c in set(string.punctuation)])\n",
    "    emp_length_list = ([int(s) for s in txt.split() if s.isdigit()])\n",
    "    emp_length = 0 if emp_length_list == [] else emp_length_list[0]\n",
    "\n",
    "    # 0 if renting, 1 if owner\n",
    "    ownership = 0 if df_tf.iloc[i][4] == 'RENT' else 1\n",
    "    \n",
    "    # verification status, 0 for not verified, 1 for source verified and 2 for verified\n",
    "    #verification = 0 if df_tf.iloc[i][5] == 'Not Verified' else 1 if df_tf.iloc[i][5] == 'Source Verified' else 2\n",
    "    verification = 0 if df_tf.iloc[i][5] == 'Not Verified' else 1\n",
    "\n",
    "    # append in feature vector\n",
    "    data.append([term, int_rate, emp_length, ownership, verification, df_tf.iloc[i][6]]) #df_tf.iloc[i][7], df_tf.iloc[i][8]])\n",
    "                 \n",
    "    # add loan status to results \n",
    "    results.append(loan_status)\n",
    "\n",
    "print (data[-1:])\n",
    "print (results[-1:])\n",
    "X_train = data[:int(len(data)/2)]\n",
    "y_train = results[:int(len(results)/2)]\n",
    "X_val = data[int(len(data)/2): int(len(data)*0.75)]\n",
    "y_val = results[int(len(results)/2): int(len(results)*0.75)]\n",
    "X_test = data[int(len(data)*.75):]\n",
    "y_test = results[int(len(results)*.75):]\n",
    "\n",
    "conn.close()"
   ]
  },
  {
   "cell_type": "code",
   "execution_count": 17,
   "metadata": {},
   "outputs": [],
   "source": [
    "X_train_arr = np.array(X_train)\n",
    "y_train_arr = np.array(y_train)\n",
    "#print (X_train)\n",
    "#print (y_train)\n",
    "#print (X_train_arr)\n",
    "#print (y_train_arr)"
   ]
  },
  {
   "cell_type": "code",
   "execution_count": 18,
   "metadata": {
    "scrolled": true
   },
   "outputs": [
    {
     "name": "stdout",
     "output_type": "stream",
     "text": [
      "WARNING:tensorflow:float64 is not supported by many models, consider casting to float32.\n",
      "INFO:tensorflow:Using default config.\n",
      "INFO:tensorflow:Using config: {'_task_type': None, '_task_id': 0, '_cluster_spec': <tensorflow.python.training.server_lib.ClusterSpec object at 0x1a467626d8>, '_master': '', '_num_ps_replicas': 0, '_num_worker_replicas': 0, '_environment': 'local', '_is_chief': True, '_evaluation_master': '', '_tf_config': gpu_options {\n",
      "  per_process_gpu_memory_fraction: 1.0\n",
      "}\n",
      ", '_tf_random_seed': None, '_save_summary_steps': 100, '_save_checkpoints_secs': 600, '_save_checkpoints_steps': None, '_keep_checkpoint_max': 5, '_keep_checkpoint_every_n_hours': 10000, '_model_dir': None}\n",
      "WARNING:tensorflow:Using temporary folder as model directory: /var/folders/cv/j7y0jf0x0gbc39xntlnng44c0000gn/T/tmp4lchcwwh\n",
      "WARNING:tensorflow:From <ipython-input-18-68a4bd2d95d0>:4: calling BaseEstimator.fit (from tensorflow.contrib.learn.python.learn.estimators.estimator) with x is deprecated and will be removed after 2016-12-01.\n",
      "Instructions for updating:\n",
      "Estimator is decoupled from Scikit Learn interface by moving into\n",
      "separate class SKCompat. Arguments x, y and batch_size are only\n",
      "available in the SKCompat class, Estimator will only accept input_fn.\n",
      "Example conversion:\n",
      "  est = Estimator(...) -> est = SKCompat(Estimator(...))\n",
      "WARNING:tensorflow:From <ipython-input-18-68a4bd2d95d0>:4: calling BaseEstimator.fit (from tensorflow.contrib.learn.python.learn.estimators.estimator) with y is deprecated and will be removed after 2016-12-01.\n",
      "Instructions for updating:\n",
      "Estimator is decoupled from Scikit Learn interface by moving into\n",
      "separate class SKCompat. Arguments x, y and batch_size are only\n",
      "available in the SKCompat class, Estimator will only accept input_fn.\n",
      "Example conversion:\n",
      "  est = Estimator(...) -> est = SKCompat(Estimator(...))\n",
      "WARNING:tensorflow:From <ipython-input-18-68a4bd2d95d0>:4: calling BaseEstimator.fit (from tensorflow.contrib.learn.python.learn.estimators.estimator) with batch_size is deprecated and will be removed after 2016-12-01.\n",
      "Instructions for updating:\n",
      "Estimator is decoupled from Scikit Learn interface by moving into\n",
      "separate class SKCompat. Arguments x, y and batch_size are only\n",
      "available in the SKCompat class, Estimator will only accept input_fn.\n",
      "Example conversion:\n",
      "  est = Estimator(...) -> est = SKCompat(Estimator(...))\n",
      "WARNING:tensorflow:float64 is not supported by many models, consider casting to float32.\n",
      "WARNING:tensorflow:From /Users/noellin/anaconda3/lib/python3.6/site-packages/tensorflow/contrib/learn/python/learn/estimators/head.py:615: scalar_summary (from tensorflow.python.ops.logging_ops) is deprecated and will be removed after 2016-11-30.\n",
      "Instructions for updating:\n",
      "Please switch to tf.summary.scalar. Note that tf.summary.scalar uses the node name instead of the tag. This means that TensorFlow will automatically de-duplicate summary names based on the scope they are created in. Also, passing a tensor or list of tags to a scalar summary op is no longer supported.\n"
     ]
    },
    {
     "name": "stderr",
     "output_type": "stream",
     "text": [
      "/Users/noellin/anaconda3/lib/python3.6/site-packages/tensorflow/python/util/deprecation.py:248: FutureWarning: comparison to `None` will result in an elementwise object comparison in the future.\n",
      "  equality = a == b\n"
     ]
    },
    {
     "name": "stdout",
     "output_type": "stream",
     "text": [
      "INFO:tensorflow:Create CheckpointSaverHook.\n",
      "INFO:tensorflow:Saving checkpoints for 1 into /var/folders/cv/j7y0jf0x0gbc39xntlnng44c0000gn/T/tmp4lchcwwh/model.ckpt.\n",
      "INFO:tensorflow:loss = 1.36154, step = 1\n",
      "INFO:tensorflow:global_step/sec: 845.116\n",
      "INFO:tensorflow:loss = 0.488046, step = 101 (0.120 sec)\n",
      "INFO:tensorflow:global_step/sec: 850.051\n",
      "INFO:tensorflow:loss = 0.62589, step = 201 (0.118 sec)\n",
      "INFO:tensorflow:global_step/sec: 862.931\n",
      "INFO:tensorflow:loss = 0.520366, step = 301 (0.116 sec)\n",
      "INFO:tensorflow:global_step/sec: 866.357\n",
      "INFO:tensorflow:loss = 0.624362, step = 401 (0.115 sec)\n",
      "INFO:tensorflow:Saving checkpoints for 500 into /var/folders/cv/j7y0jf0x0gbc39xntlnng44c0000gn/T/tmp4lchcwwh/model.ckpt.\n",
      "INFO:tensorflow:Loss for final step: 0.430007.\n"
     ]
    },
    {
     "data": {
      "text/plain": [
       "DNNClassifier(params={'head': <tensorflow.contrib.learn.python.learn.estimators.head._BinaryLogisticHead object at 0x11ac61d30>, 'hidden_units': [30, 15], 'feature_columns': (_RealValuedColumn(column_name='', dimension=6, default_value=None, dtype=tf.float64, normalizer=None),), 'optimizer': None, 'activation_fn': <function relu at 0x1153edd08>, 'dropout': None, 'gradient_clip_norm': None, 'embedding_lr_multipliers': None, 'input_layer_min_slice_size': None})"
      ]
     },
     "execution_count": 18,
     "metadata": {},
     "output_type": "execute_result"
    }
   ],
   "source": [
    "feature_cols = tf.contrib.learn.infer_real_valued_columns_from_input(X_train_arr)\n",
    "dnn_clf = tf.contrib.learn.DNNClassifier(hidden_units=[30,15], n_classes=2,feature_columns=feature_cols)\n",
    "# dnn_clf = tf.contrib.learn.SKCompat(dnn_clf) \n",
    "dnn_clf.fit(X_train_arr, y_train_arr, batch_size=5, steps=500)\n",
    "# dnn_clf.fit(X_train_arr, y_train_arr)"
   ]
  },
  {
   "cell_type": "code",
   "execution_count": 19,
   "metadata": {
    "scrolled": true
   },
   "outputs": [
    {
     "name": "stdout",
     "output_type": "stream",
     "text": [
      "WARNING:tensorflow:From <ipython-input-19-6d36b441c1cb>:5: calling DNNClassifier.predict_classes (from tensorflow.contrib.learn.python.learn.estimators.dnn) with as_iterable=False is deprecated and will be removed after 2016-09-15.\n",
      "Instructions for updating:\n",
      "The default behavior of predict() is changing. The default value for\n",
      "as_iterable will change to True, and then the flag will be removed\n",
      "altogether. The behavior of this flag is described below.\n",
      "WARNING:tensorflow:From /Users/noellin/anaconda3/lib/python3.6/site-packages/tensorflow/contrib/learn/python/learn/estimators/dnn.py:422: calling BaseEstimator.predict (from tensorflow.contrib.learn.python.learn.estimators.estimator) with x is deprecated and will be removed after 2016-12-01.\n",
      "Instructions for updating:\n",
      "Estimator is decoupled from Scikit Learn interface by moving into\n",
      "separate class SKCompat. Arguments x, y and batch_size are only\n",
      "available in the SKCompat class, Estimator will only accept input_fn.\n",
      "Example conversion:\n",
      "  est = Estimator(...) -> est = SKCompat(Estimator(...))\n",
      "WARNING:tensorflow:From /Users/noellin/anaconda3/lib/python3.6/site-packages/tensorflow/contrib/learn/python/learn/estimators/dnn.py:422: calling BaseEstimator.predict (from tensorflow.contrib.learn.python.learn.estimators.estimator) with as_iterable is deprecated and will be removed after 2016-12-01.\n",
      "Instructions for updating:\n",
      "Estimator is decoupled from Scikit Learn interface by moving into\n",
      "separate class SKCompat. Arguments x, y and batch_size are only\n",
      "available in the SKCompat class, Estimator will only accept input_fn.\n",
      "Example conversion:\n",
      "  est = Estimator(...) -> est = SKCompat(Estimator(...))\n",
      "WARNING:tensorflow:float64 is not supported by many models, consider casting to float32.\n",
      "INFO:tensorflow:Restoring parameters from /var/folders/cv/j7y0jf0x0gbc39xntlnng44c0000gn/T/tmp4lchcwwh/model.ckpt-500\n",
      "0.3722\n"
     ]
    },
    {
     "name": "stderr",
     "output_type": "stream",
     "text": [
      "/Users/noellin/anaconda3/lib/python3.6/site-packages/tensorflow/python/util/deprecation.py:248: FutureWarning: comparison to `None` will result in an elementwise object comparison in the future.\n",
      "  equality = a == b\n"
     ]
    }
   ],
   "source": [
    "from sklearn.metrics import accuracy_score\n",
    "\n",
    "X_val_arr = np.array(X_val)\n",
    "y_val_arr = np.array(y_val)\n",
    "y_pred = dnn_clf.predict_classes(X_val_arr, as_iterable=False)\n",
    "print (accuracy_score(y_val_arr, y_pred))"
   ]
  },
  {
   "cell_type": "code",
   "execution_count": null,
   "metadata": {},
   "outputs": [],
   "source": []
  },
  {
   "cell_type": "code",
   "execution_count": null,
   "metadata": {
    "collapsed": true
   },
   "outputs": [],
   "source": []
  },
  {
   "cell_type": "code",
   "execution_count": null,
   "metadata": {
    "collapsed": true
   },
   "outputs": [],
   "source": []
  },
  {
   "cell_type": "code",
   "execution_count": null,
   "metadata": {
    "collapsed": true
   },
   "outputs": [],
   "source": []
  }
 ],
 "metadata": {
  "kernelspec": {
   "display_name": "Python 3",
   "language": "python",
   "name": "python3"
  },
  "language_info": {
   "codemirror_mode": {
    "name": "ipython",
    "version": 3
   },
   "file_extension": ".py",
   "mimetype": "text/x-python",
   "name": "python",
   "nbconvert_exporter": "python",
   "pygments_lexer": "ipython3",
   "version": "3.6.3"
  }
 },
 "nbformat": 4,
 "nbformat_minor": 2
}
